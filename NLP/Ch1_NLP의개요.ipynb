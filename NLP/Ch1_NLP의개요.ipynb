{
 "cells": [
  {
   "cell_type": "markdown",
   "metadata": {},
   "source": [
    "# 사고의 단위 : NLP의 개요"
   ]
  },
  {
   "cell_type": "markdown",
   "metadata": {},
   "source": [
    "## 자연어 처리(Natural Language Processing, NLP)\n",
    "- 자연어를 컴퓨터가 배우고 이해할 수 있도록 수치로 바꾸어 주는 것\n",
    "- 자연어 처리 시스템을 파이프라인(pipeline)이라고 부른다."
   ]
  },
  {
   "cell_type": "markdown",
   "metadata": {},
   "source": [
    "### 유한 상태 변환기 (finite state transducer, FST)\n",
    "- FSM (실행 과정에서 기호들의 순차열을 출력하는 것)\n",
    "- 정규 표현식 / str.translate 함수 의 메커니즘과 동일\n",
    "- 예상 가능한 질문들에 대한 기존 응답들을 DB에 담아두고, 사용자가 입력한 질문에 해당하는 응답을 검색해서 제시하는 형태.\n"
   ]
  },
  {
   "cell_type": "markdown",
   "metadata": {},
   "source": [
    "### 정규 표현식 (regular expression) 사용해서 간단한 챗봇 만들기"
   ]
  },
  {
   "cell_type": "code",
   "execution_count": null,
   "metadata": {},
   "outputs": [],
   "source": []
  }
 ],
 "metadata": {
  "interpreter": {
   "hash": "6f7c4d44365b28014734406e4d617c1e1f76ea196def854c7b951a230f6e24f1"
  },
  "kernelspec": {
   "display_name": "Python 3.9.7 64-bit",
   "language": "python",
   "name": "python3"
  },
  "language_info": {
   "codemirror_mode": {
    "name": "ipython",
    "version": 3
   },
   "file_extension": ".py",
   "mimetype": "text/x-python",
   "name": "python",
   "nbconvert_exporter": "python",
   "pygments_lexer": "ipython3",
   "version": "3.9.7"
  },
  "orig_nbformat": 4
 },
 "nbformat": 4,
 "nbformat_minor": 2
}
