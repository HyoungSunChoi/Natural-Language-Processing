{
 "cells": [
  {
   "cell_type": "markdown",
   "metadata": {},
   "source": [
    "# 사고의 단위 : NLP의 개요"
   ]
  },
  {
   "cell_type": "markdown",
   "metadata": {},
   "source": [
    "## 자연어 처리(Natural Language Processing, NLP)\n",
    "- 자연어를 컴퓨터가 배우고 이해할 수 있도록 수치로 바꾸어 주는 것\n",
    "- 자연어 처리 시스템을 파이프라인(pipeline)이라고 부른다."
   ]
  },
  {
   "cell_type": "markdown",
   "metadata": {},
   "source": []
  }
 ],
 "metadata": {
  "language_info": {
   "name": "python"
  },
  "orig_nbformat": 4
 },
 "nbformat": 4,
 "nbformat_minor": 2
}
