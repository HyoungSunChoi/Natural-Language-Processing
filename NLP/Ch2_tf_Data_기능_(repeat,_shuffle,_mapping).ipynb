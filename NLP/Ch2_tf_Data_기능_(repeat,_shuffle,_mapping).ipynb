{
  "nbformat": 4,
  "nbformat_minor": 0,
  "metadata": {
    "colab": {
      "name": "Ch2.  tf.Data 기능 (repeat, shuffle, mapping).ipynb",
      "provenance": []
    },
    "kernelspec": {
      "name": "python3",
      "display_name": "Python 3"
    },
    "language_info": {
      "name": "python"
    }
  },
  "cells": [
    {
      "cell_type": "markdown",
      "metadata": {
        "id": "BC-hhY4d3aH_"
      },
      "source": [
        "머신러닝에서 문제를 해결할 때 많은 시간이 데이터를 다루는 데 소요된다.\n",
        "\n",
        "데이터 분석, 전처리, 파이프라인을 만드는 과정에서 약 70~80% 시간이 소비가 됨!"
      ]
    },
    {
      "cell_type": "code",
      "metadata": {
        "colab": {
          "base_uri": "https://localhost:8080/"
        },
        "id": "jRHkqI98AAjf",
        "outputId": "516b1c76-b577-4456-b3ab-9808db18893b"
      },
      "source": [
        "import os\n",
        "import tensorflow.compat.v1 as tf \n",
        "tf.disable_v2_behavior()\n",
        "import numpy as np\n",
        "\n",
        "from tensorflow.keras import preprocessing\n",
        "\n",
        "samples = ['너 오늘 이뻐 보인다',\n",
        "           '나는 오늘 기분이 더러워',\n",
        "           '끝내주는데, 좋은 일이 있나봐',\n",
        "           '나 좋은 일이 생겼어',\n",
        "           '아 오늘 진짜 짜증나',\n",
        "           '환상적인데, 정말 좋은거 같아']\n",
        "           \n",
        "label = [[1],[0], [1], [1], [0], [1]]\n",
        "\n",
        "# 전처리 과정 (각 단어들을 수치화 하는 것)\n",
        "tokenizer = preprocessing.text.Tokenizer()\n",
        "tokenizer.fit_on_texts(samples)\n",
        "sequences = tokenizer.texts_to_sequences(samples)\n",
        "\n",
        "word_index = tokenizer.word_index\n",
        "\n",
        "print(\"수치화된 텍스트 데이터 : \\n\", sequences)\n",
        "print(\"각 단어의 인덱스 : \\n\", word_index)\n",
        "print(\"라벨 :\", label)"
      ],
      "execution_count": null,
      "outputs": [
        {
          "output_type": "stream",
          "text": [
            "WARNING:tensorflow:From /usr/local/lib/python3.7/dist-packages/tensorflow/python/compat/v2_compat.py:96: disable_resource_variables (from tensorflow.python.ops.variable_scope) is deprecated and will be removed in a future version.\n",
            "Instructions for updating:\n",
            "non-resource variables are not supported in the long term\n",
            "수치화된 텍스트 데이터 : \n",
            " [[4, 1, 5, 6], [7, 1, 8, 9], [10, 2, 3, 11], [12, 2, 3, 13], [14, 1, 15, 16], [17, 18, 19, 20]]\n",
            "각 단어의 인덱스 : \n",
            " {'오늘': 1, '좋은': 2, '일이': 3, '너': 4, '이뻐': 5, '보인다': 6, '나는': 7, '기분이': 8, '더러워': 9, '끝내주는데': 10, '있나봐': 11, '나': 12, '생겼어': 13, '아': 14, '진짜': 15, '짜증나': 16, '환상적인데': 17, '정말': 18, '좋은거': 19, '같아': 20}\n",
            "라벨 : [[1], [0], [1], [1], [0], [1]]\n"
          ],
          "name": "stdout"
        }
      ]
    },
    {
      "cell_type": "code",
      "metadata": {
        "colab": {
          "base_uri": "https://localhost:8080/"
        },
        "id": "W-12dycWAwpW",
        "outputId": "04418baa-79d1-40d9-e099-23ad101fe399"
      },
      "source": [
        "# Sequences 에 있는 단어들을 하나씩 출력해보는 과정\n",
        "\n",
        "dataset = tf.data.Dataset.from_tensor_slices((sequences, label)) # sequences 와 label을 묶어서 조각으로 만들어준다.\n",
        "iterator = dataset.make_one_shot_iterator() # 데이터를 하나씩 사용할 수 있게 만드는 함수\n",
        "next_data = iterator.get_next() # 데이터가 하나씩 나오게 되는 구조\n",
        "\n",
        "with tf.Session() as sess:\n",
        "  while True:\n",
        "    try:\n",
        "      print(sess.run(next_data))\n",
        "    except tf.errors.OutOfRangeError:\n",
        "      break"
      ],
      "execution_count": null,
      "outputs": [
        {
          "output_type": "stream",
          "text": [
            "(array([4, 1, 5, 6], dtype=int32), array([1], dtype=int32))\n",
            "(array([7, 1, 8, 9], dtype=int32), array([0], dtype=int32))\n",
            "(array([10,  2,  3, 11], dtype=int32), array([1], dtype=int32))\n",
            "(array([12,  2,  3, 13], dtype=int32), array([1], dtype=int32))\n",
            "(array([14,  1, 15, 16], dtype=int32), array([0], dtype=int32))\n",
            "(array([17, 18, 19, 20], dtype=int32), array([1], dtype=int32))\n"
          ],
          "name": "stdout"
        }
      ]
    },
    {
      "cell_type": "code",
      "metadata": {
        "colab": {
          "base_uri": "https://localhost:8080/"
        },
        "id": "H4Cc8PLABVQH",
        "outputId": "bcebbb3b-b03f-4a8e-8b5e-e12021d62942"
      },
      "source": [
        "# 배치 크기를 정의한 후 데이터가 배치크기 만큼 한번에 사용할 수 있게 하기\n",
        "BATCH_SIZE=3\n",
        "\n",
        "dataset = tf.data.Dataset.from_tensor_slices((sequences, label))\n",
        "dataset = dataset.batch(BATCH_SIZE)\n",
        "iterator = dataset.make_one_shot_iterator()\n",
        "next_data = iterator.get_next()\n",
        "\n",
        "with tf.Session() as sess:\n",
        "  while True:\n",
        "    try :\n",
        "      print(sess.run(next_data))\n",
        "    except tf.errors.OutOfRangeError:\n",
        "      break"
      ],
      "execution_count": null,
      "outputs": [
        {
          "output_type": "stream",
          "text": [
            "(array([[ 4,  1,  5,  6],\n",
            "       [ 7,  1,  8,  9],\n",
            "       [10,  2,  3, 11]], dtype=int32), array([[1],\n",
            "       [0],\n",
            "       [1]], dtype=int32))\n",
            "(array([[12,  2,  3, 13],\n",
            "       [14,  1, 15, 16],\n",
            "       [17, 18, 19, 20]], dtype=int32), array([[1],\n",
            "       [0],\n",
            "       [1]], dtype=int32))\n"
          ],
          "name": "stdout"
        }
      ]
    },
    {
      "cell_type": "markdown",
      "metadata": {
        "id": "S0EHb2shKBo7"
      },
      "source": [
        "셔플 처리는 이후 모델의 성능에 크게 기여하기 때문에 매우 중요하다!!!!!"
      ]
    },
    {
      "cell_type": "markdown",
      "metadata": {
        "id": "5kkOTh1xK0a5"
      },
      "source": [
        "#### Shuffle"
      ]
    },
    {
      "cell_type": "code",
      "metadata": {
        "colab": {
          "base_uri": "https://localhost:8080/"
        },
        "id": "-qt2ChUhJRyM",
        "outputId": "c8602f8b-6bb3-4701-d10d-b7a681de9641"
      },
      "source": [
        "# 데이터를 섞어서 출력하도록 하기\n",
        "# dataset.shuffle\n",
        "dataset = tf.data.Dataset.from_tensor_slices((sequences, label))\n",
        "dataset = dataset.shuffle(len(sequences))\n",
        "iterator = dataset.make_one_shot_iterator()\n",
        "next_data = iterator.get_next()\n",
        "\n",
        "with tf.Session() as sess:\n",
        "  while True:\n",
        "    try:\n",
        "      print(sess.run(next_data))\n",
        "    except tf.errors.OutOfRangeError:\n",
        "      break"
      ],
      "execution_count": null,
      "outputs": [
        {
          "output_type": "stream",
          "text": [
            "(array([14,  1, 15, 16], dtype=int32), array([0], dtype=int32))\n",
            "(array([4, 1, 5, 6], dtype=int32), array([1], dtype=int32))\n",
            "(array([10,  2,  3, 11], dtype=int32), array([1], dtype=int32))\n",
            "(array([12,  2,  3, 13], dtype=int32), array([1], dtype=int32))\n",
            "(array([7, 1, 8, 9], dtype=int32), array([0], dtype=int32))\n",
            "(array([17, 18, 19, 20], dtype=int32), array([1], dtype=int32))\n"
          ],
          "name": "stdout"
        }
      ]
    },
    {
      "cell_type": "markdown",
      "metadata": {
        "id": "6MDPPLnvKyOQ"
      },
      "source": [
        "#### Repeat"
      ]
    },
    {
      "cell_type": "code",
      "metadata": {
        "colab": {
          "base_uri": "https://localhost:8080/"
        },
        "id": "6GXNBhrOJ5oI",
        "outputId": "23eb7bf9-1bef-4a9b-cc40-d6a52556e00f"
      },
      "source": [
        "# 모델에 몇번을 학습시킬 것인가를 정해주는 것!! epoch!!!\n",
        "# dataset.repeat\n",
        "EPOCH=2\n",
        "\n",
        "dataset = tf.data.Dataset.from_tensor_slices((sequences, label))\n",
        "dataset = dataset.repeat(EPOCH) # EPOCH 수만큼 반복시킨다!\n",
        "iterator = dataset.make_one_shot_iterator()\n",
        "next_data = iterator.get_next()\n",
        "with tf.Session() as sess:\n",
        "  while True:\n",
        "    try:\n",
        "      print(sess.run(next_data))\n",
        "    except tf.errors.OutOfRangeError:\n",
        "      break"
      ],
      "execution_count": null,
      "outputs": [
        {
          "output_type": "stream",
          "text": [
            "(array([4, 1, 5, 6], dtype=int32), array([1], dtype=int32))\n",
            "(array([7, 1, 8, 9], dtype=int32), array([0], dtype=int32))\n",
            "(array([10,  2,  3, 11], dtype=int32), array([1], dtype=int32))\n",
            "(array([12,  2,  3, 13], dtype=int32), array([1], dtype=int32))\n",
            "(array([14,  1, 15, 16], dtype=int32), array([0], dtype=int32))\n",
            "(array([17, 18, 19, 20], dtype=int32), array([1], dtype=int32))\n",
            "(array([4, 1, 5, 6], dtype=int32), array([1], dtype=int32))\n",
            "(array([7, 1, 8, 9], dtype=int32), array([0], dtype=int32))\n",
            "(array([10,  2,  3, 11], dtype=int32), array([1], dtype=int32))\n",
            "(array([12,  2,  3, 13], dtype=int32), array([1], dtype=int32))\n",
            "(array([14,  1, 15, 16], dtype=int32), array([0], dtype=int32))\n",
            "(array([17, 18, 19, 20], dtype=int32), array([1], dtype=int32))\n"
          ],
          "name": "stdout"
        }
      ]
    },
    {
      "cell_type": "markdown",
      "metadata": {
        "id": "1XEXoon-Kgyz"
      },
      "source": [
        "#### Mapping\n",
        "\n",
        "- 딕셔너리 구조로 활용된다.\n",
        "- 입력값은 하나의 딕셔너리로 묶어야 한다. 아래의 코드는 하나의 입력값만 사용했기 때문에 딕셔너리 안에 하나의 값만 존재하는데, 만약 두개 이상의 입력값이 존재한다면  아래와 같이 매핑함수를 정의해야한다\n",
        "\n",
        "    <python>python code :\n",
        "      def mapping_fn(X1, X2, Y=None):\n",
        "        input = {'x1':X1, 'x2':X2}\n",
        "        label = Y\n",
        "        return input, label\n",
        "    </python>"
      ]
    },
    {
      "cell_type": "code",
      "metadata": {
        "colab": {
          "base_uri": "https://localhost:8080/"
        },
        "id": "bN4lzHNUK3Gc",
        "outputId": "4c8ca9e4-6ec0-4a54-deae-a1079db93297"
      },
      "source": [
        "\n",
        "def mapping_fn(X, Y=None):\n",
        "  input= {'x' : X}\n",
        "  label= Y\n",
        "  return input, label\n",
        "\n",
        "dataset = tf.data.Dataset.from_tensor_slices((sequences, label))\n",
        "dataset = dataset.map(mapping_fn)\n",
        "iterator = dataset.make_one_shot_iterator()\n",
        "next_data = iterator.get_next()\n",
        "\n",
        "with tf.Session() as sess:\n",
        "  while True:\n",
        "    try:\n",
        "      print(sess.run(next_data))\n",
        "    except tf.errors.OutOfRangeError:\n",
        "      break"
      ],
      "execution_count": null,
      "outputs": [
        {
          "output_type": "stream",
          "text": [
            "({'x': array([4, 1, 5, 6], dtype=int32)}, array([1], dtype=int32))\n",
            "({'x': array([7, 1, 8, 9], dtype=int32)}, array([0], dtype=int32))\n",
            "({'x': array([10,  2,  3, 11], dtype=int32)}, array([1], dtype=int32))\n",
            "({'x': array([12,  2,  3, 13], dtype=int32)}, array([1], dtype=int32))\n",
            "({'x': array([14,  1, 15, 16], dtype=int32)}, array([0], dtype=int32))\n",
            "({'x': array([17, 18, 19, 20], dtype=int32)}, array([1], dtype=int32))\n"
          ],
          "name": "stdout"
        }
      ]
    },
    {
      "cell_type": "markdown",
      "metadata": {
        "id": "YWwan45JLMcf"
      },
      "source": [
        "배치, 셔플, 반복, 매핑 과정을 한번에 하기\n",
        "- dataset 에 함수를 중첩해서 적용하면 된다!!!"
      ]
    },
    {
      "cell_type": "code",
      "metadata": {
        "colab": {
          "base_uri": "https://localhost:8080/"
        },
        "id": "f5j59qa-MX-x",
        "outputId": "10adfa6a-e8c4-4b2a-9d08-050a80a46f42"
      },
      "source": [
        "BATCH_SIZE =2\n",
        "EPOCH =2\n",
        "\n",
        "def mapping_fn(X, Y=None):\n",
        "  input = {'x':X}\n",
        "  label = Y\n",
        "  return input, label\n",
        "\n",
        "dataset = tf.data.Dataset.from_tensor_slices((sequences, label))\n",
        "dataset = dataset.map(mapping_fn)\n",
        "dataset = dataset.shuffle(len(sequences))\n",
        "dataset = dataset.batch(BATCH_SIZE)\n",
        "dataset = dataset.repeat(EPOCH)\n",
        "\n",
        "iterator = dataset.make_one_shot_iterator()\n",
        "next_data = iterator.get_next()\n",
        "\n",
        "with tf.Session() as sess:\n",
        "  while True:\n",
        "    try:\n",
        "      print(sess.run(next_data))\n",
        "    except tf.errors.OutOfRangeError:\n",
        "      break"
      ],
      "execution_count": null,
      "outputs": [
        {
          "output_type": "stream",
          "text": [
            "({'x': array([[ 7,  1,  8,  9],\n",
            "       [17, 18, 19, 20]], dtype=int32)}, array([[0],\n",
            "       [1]], dtype=int32))\n",
            "({'x': array([[10,  2,  3, 11],\n",
            "       [ 4,  1,  5,  6]], dtype=int32)}, array([[1],\n",
            "       [1]], dtype=int32))\n",
            "({'x': array([[12,  2,  3, 13],\n",
            "       [14,  1, 15, 16]], dtype=int32)}, array([[1],\n",
            "       [0]], dtype=int32))\n",
            "({'x': array([[ 7,  1,  8,  9],\n",
            "       [10,  2,  3, 11]], dtype=int32)}, array([[0],\n",
            "       [1]], dtype=int32))\n",
            "({'x': array([[12,  2,  3, 13],\n",
            "       [ 4,  1,  5,  6]], dtype=int32)}, array([[1],\n",
            "       [1]], dtype=int32))\n",
            "({'x': array([[14,  1, 15, 16],\n",
            "       [17, 18, 19, 20]], dtype=int32)}, array([[0],\n",
            "       [1]], dtype=int32))\n"
          ],
          "name": "stdout"
        }
      ]
    },
    {
      "cell_type": "code",
      "metadata": {
        "id": "o0lYIUUJM5KM"
      },
      "source": [
        ""
      ],
      "execution_count": null,
      "outputs": []
    }
  ]
}