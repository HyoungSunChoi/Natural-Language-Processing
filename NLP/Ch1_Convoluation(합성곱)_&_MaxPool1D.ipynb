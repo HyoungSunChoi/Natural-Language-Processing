{
  "nbformat": 4,
  "nbformat_minor": 0,
  "metadata": {
    "colab": {
      "name": "Ch1. Convoluation(합성곱) & MaxPool1D.ipynb",
      "provenance": [],
      "collapsed_sections": []
    },
    "kernelspec": {
      "name": "python3",
      "display_name": "Python 3"
    },
    "language_info": {
      "name": "python"
    }
  },
  "cells": [
    {
      "cell_type": "markdown",
      "metadata": {
        "id": "pYJu80HVfDfi"
      },
      "source": [
        "## 텐서플로의 연산은 Conv1D, Conv2D, Conv3D로 나눠진다.\n",
        "- 합성곱은 일반적으로 2 가지 기준으로 구분한다.\n",
        "- 합성곱이 진행되는 방향과, 합성곱 결과로 나오는 출력값\n",
        "#### Conv1D\n",
        "- 한 방향(가로)   \n",
        "- 1-D array(vector)\n",
        "\n",
        "#### Conv2D\n",
        "- 두 방향 (가로, 세로)\n",
        "- 2-D array(matrix)\n",
        "\n",
        "\n",
        "#### Conv3D\n",
        "- 세 방향 (가로, 세로, 높이)\n",
        "- 3-D array(tensor)"
      ]
    },
    {
      "cell_type": "code",
      "metadata": {
        "id": "NGh6wjIC1Ed4"
      },
      "source": [
        "\n",
        "filters : 필터의 개수로서, 정수형으로 지정한다. 출력의 차원수를 나타낸다.\n",
        "kernel_size : 필터의 크기로서, 정수 혹은 정수의 리스트, 튜플 형태로 지정한다. \n",
        "  - 합성곱이 적용되는 윈도우의 길이를 나타낸다.\n",
        "strides : 적용할 스트라이드의 값으로서, 정수 혹은 정수의 리스트, 튜플 형태로 지정한다.\n",
        "padding = 패딩 방법을 정한다. 'valid', 'same'\n",
        "data_format = 데이터의 표현 방법을 선택한다. \n",
        "  - 'channels_last' : 데이터는 (batch, length, channels) 의 형태이어야 한다.\n",
        "  - 'channel_first' : 데이터는 (batch, channels, length) 의 형태이어야 한다.\n",
        "dilation_rate=1  : 합성곱 사용 시 적용할 dilation 값으로, 리시트, 튜플 형태로 지정한다.\n",
        "activation : 활성화 함수\n",
        "use_bias : 편향(b)를 사용할지의 여부\n",
        "kernel_initializer : Optimizer 에 의해 업데이트된 이후, 가중치에 적용되는 부가적인 제약 함수\n",
        "bias_initializer : Optimizer 에 의해 업데이트된 이후, 편향에 적용되는 부가적인 제약 함수\n",
        "kernel_regularizer=None,\n",
        "bias_regularizer=None,\n"
      ],
      "execution_count": null,
      "outputs": []
    },
    {
      "cell_type": "code",
      "metadata": {
        "colab": {
          "base_uri": "https://localhost:8080/"
        },
        "id": "MoQ_aWNZ2ILi",
        "outputId": "fa669716-76b4-4738-822f-b553add19bf6"
      },
      "source": [
        "# Conv1D 의 기본적인 사용방법\n",
        "import tensorflow.compat.v1 as tf \n",
        "tf.disable_v2_behavior()\n",
        "\n",
        "INPUT_SIZE = (1, 28, 28)\n",
        "input = tf.placeholder(tf.float32, shape=INPUT_SIZE)\n",
        "conv = tf.keras.layers.Conv1D(\n",
        "    filters=10,\n",
        "    kernel_size=3,\n",
        "    padding='same',\n",
        "    activation=tf.nn.relu)(input)"
      ],
      "execution_count": null,
      "outputs": [
        {
          "output_type": "stream",
          "text": [
            "WARNING:tensorflow:From /usr/local/lib/python3.7/dist-packages/tensorflow/python/compat/v2_compat.py:96: disable_resource_variables (from tensorflow.python.ops.variable_scope) is deprecated and will be removed in a future version.\n",
            "Instructions for updating:\n",
            "non-resource variables are not supported in the long term\n"
          ],
          "name": "stdout"
        }
      ]
    },
    {
      "cell_type": "code",
      "metadata": {
        "id": "qiJRUwZn2ie7"
      },
      "source": [
        "# 입력값에 드롭아웃을 적용한 합성곱 신경망\n",
        "import tensorflow.compat.v1 as tf \n",
        "tf.disable_v2_behavior()\n",
        "\n",
        "INPUT_SIZE=(1,28,28)\n",
        "is_training = True\n",
        "input = tf.placeholder(tf.float32, shape=INPUT_SIZE)\n",
        "dropout = tf.keras.layers.Dropout(rate=0.2)(input)\n",
        "conv = tf.keras.layers.Conv1D(\n",
        "    filters=10,\n",
        "    kernel_size=3,\n",
        "    padding='same',\n",
        "    activation=tf.nn.relu)(dropout)\n"
      ],
      "execution_count": null,
      "outputs": []
    },
    {
      "cell_type": "markdown",
      "metadata": {
        "id": "ye8-j-0U2ZEW"
      },
      "source": [
        "## tf.keras.layers.MaxPool1D\n",
        "- 합성곱 신경망과 함께 쓰이는 기법 중 하나이다.\n",
        "- 보통 피처 맵(feature map) 의 크기를 줄이거나, 주요한 특징을 뽑아내기 위해 합성곱 이후에 적용되는 기법이다.\n",
        "\n",
        "#### Max-Pooling(맥스 풀링)\n",
        "- 피처맵에 대해 최댓값만을 뽑아내는 방식\n",
        "\n",
        "\n",
        "#### Average-Pooling(평균 풀링)\n",
        "- 피처맵에 대해 전체 값들을 평균한 값을 뽑는 방식\n",
        "\n",
        "\n",
        "\n",
        "pool_size : 풀링을 적용할 필터의 크기를 뜻한다.\n",
        "\n",
        "\n",
        "strides : 적용할 스트라이드의 값, 정수 혹은 None 값을 받는다.\n",
        "\n",
        "\n",
        "padding : 패딩 방법을 지정한다. \"valid, same 을 지정한다.\n",
        "\n",
        "\n",
        "data_format : 데이터의 표현 방법을 선택한다.\n",
        "\n"
      ]
    },
    {
      "cell_type": "code",
      "metadata": {
        "id": "LHfvVPiX8FMQ"
      },
      "source": [
        "INPUT_SIZE=(1,28,28)\n",
        "input = tf.placeholder(tf.float32, shape=INPUT_SIZE)\n",
        "dropout = tf.keras.layers.Dropout(rate=0.2)(input)\n",
        "conv = tf.keras.layers.Conv1D(\n",
        "    filters = 10,\n",
        "    kernel_size=3,\n",
        "    padding = 'same',\n",
        "    activation=tf.nn.relu)(dropout)\n",
        "max_pool = tf.keras.layers.MaxPool1D(pool_size=3, padding='same')(conv)\n",
        "flatten = tf.keras.layers.Flatten()(max_pool)\n",
        "hidden = tf.keras.layers.Dens(units=50, activation = tf.nn.relu)(flatten)\n",
        "output = tf.keras.layers.Dense(units=10, activation= tf.nn.softmax)(hidden)\n"
      ],
      "execution_count": null,
      "outputs": []
    },
    {
      "cell_type": "code",
      "metadata": {
        "id": "YUR8JceT8oAy"
      },
      "source": [
        ""
      ],
      "execution_count": null,
      "outputs": []
    }
  ]
}