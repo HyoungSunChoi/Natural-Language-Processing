{
 "cells": [
  {
   "cell_type": "markdown",
   "metadata": {},
   "source": [
    "# 다양한 단어의 표현 방법\n",
    "\n",
    "## 1. 단어의 표현 방법\n",
    "- 국소 표현 (Local Representation) \n",
    "    - 해당 단어 그 자체로, 특정값을 맵핑하여 단어를 표현하는 방법\n",
    "    - 이산 표현(Discrete Representation)\n",
    "- 분산 표현 (Distributed Representation)\n",
    "    - 해당 단어 주변을 참고하여 단어를 표현하는 방법\n",
    "    - 뉘앙스 표현 가능\n",
    "    - 연속 표현(Continuous Representation)\n",
    "    \n",
    "\n",
    "- 예시)\n",
    "    - puppy, cute, lovely -> 각 단어를 맵핑하면 국소 표현 방법\n",
    "    - puppy 주변에 cute, lovely 가 자주 등장하므로, 두 단어는 연관성이 있다. ->"
   ]
  },
  {
   "cell_type": "markdown",
   "metadata": {},
   "source": [
    "## 2. 단어 표현의 카테고리 화"
   ]
  },
  {
   "cell_type": "markdown",
   "metadata": {},
   "source": [
    "![카테고리](https://wikidocs.net/images/page/31767/wordrepresentation.PNG)"
   ]
  },
  {
   "cell_type": "markdown",
   "metadata": {},
   "source": [
    "# Bag of Words (BoW)\n",
    "- 단어들의 순서를 고려하지 않고, 단어들의 출현 빈도에 집중하는 텍스트 데이터의 수치화 표현 방법\n",
    "- 문서의 성격을 판단하는 작업에 쓰인다. (빈도가 높은 단어들을 중점으로 파악)\n",
    "\n",
    "\n",
    "- Bag of Words는 국소 표현\n",
    "    - 단어의 빈도수를 카운트하여 단어를 수치화하는 단어 표현 방법\n",
    "- 절차\n",
    "    1. 각 단어에 고유한 정수 인덱스를 부여\n",
    "    2. 각 인덱스의 위치에 단어 토큰의 등장 횟수를 기록한 벡터 생성"
   ]
  },
  {
   "cell_type": "code",
   "execution_count": 18,
   "metadata": {},
   "outputs": [
    {
     "name": "stdout",
     "output_type": "stream",
     "text": [
      "[0.004s][warning][os,thread] Attempt to protect stack guard pages failed (0x000000016b7c8000-0x000000016b7d4000).\n",
      "[0.004s][warning][os,thread] Attempt to deallocate stack guard pages failed.\n"
     ]
    }
   ],
   "source": [
    "from konlpy.tag import Okt\n",
    "\n",
    "okt = Okt()\n",
    "\n",
    "def build_bag_of_words(doc):\n",
    "    doc = doc.replace('.', '')\n",
    "    tokenized_doc = okt.morphs(doc)\n",
    "    \n",
    "    word_to_index = {}\n",
    "    bow = []\n",
    "    \n",
    "    for word in tokenized_doc:\n",
    "        if word not in word_to_index.keys():\n",
    "            word_to_index[word] = len(word_to_index)\n",
    "            # BoW 에 기본값 1을 넣는다\n",
    "            bow.insert(len(word_to_index)-1, 1)\n",
    "        else:\n",
    "            # 재등장하는 단어의 인덱스\n",
    "            index = word_to_index.get(word)\n",
    "            bow[index] = bow[index]+1\n",
    "    return word_to_index, bow"
   ]
  },
  {
   "cell_type": "code",
   "execution_count": 19,
   "metadata": {},
   "outputs": [
    {
     "name": "stdout",
     "output_type": "stream",
     "text": [
      "Vocab :  {'정부': 0, '가': 1, '발표': 2, '하는': 3, '물가상승률': 4, '과': 5, '소비자': 6, '느끼는': 7, '은': 8, '다르다': 9}\n",
      "Bag of Words vector :  [1, 2, 1, 1, 2, 1, 1, 1, 1, 1]\n"
     ]
    }
   ],
   "source": [
    "doc1 = \"정부가 발표하는 물가상승률과 소비자가 느끼는 물가상승률은 다르다.\"\n",
    "vocab, bow = build_bag_of_words(doc1)\n",
    "print(\"Vocab : \", vocab)\n",
    "print(\"Bag of Words vector : \", bow)"
   ]
  },
  {
   "cell_type": "code",
   "execution_count": 20,
   "metadata": {},
   "outputs": [
    {
     "name": "stdout",
     "output_type": "stream",
     "text": [
      "Vocab :  {'소비자': 0, '는': 1, '주로': 2, '소비': 3, '하는': 4, '상품': 5, '을': 6, '기준': 7, '으로': 8, '물가상승률': 9, '느낀다': 10}\n",
      "Bag of Words vector :  [1, 1, 1, 1, 1, 1, 2, 1, 1, 1, 1]\n"
     ]
    }
   ],
   "source": [
    "doc2 = \"소비자는 주로 소비하는 상품을 기준으로 물가상승률을 느낀다.\"\n",
    "vocab, bow = build_bag_of_words(doc2)\n",
    "print(\"Vocab : \", vocab)\n",
    "print(\"Bag of Words vector : \", bow)"
   ]
  },
  {
   "cell_type": "code",
   "execution_count": 21,
   "metadata": {},
   "outputs": [
    {
     "name": "stdout",
     "output_type": "stream",
     "text": [
      "Vocab :  {'정부': 0, '가': 1, '발표': 2, '하는': 3, '물가상승률': 4, '과': 5, '소비자': 6, '느끼는': 7, '은': 8, '다르다': 9, '는': 10, '주로': 11, '소비': 12, '상품': 13, '을': 14, '기준': 15, '으로': 16, '느낀다': 17}\n",
      "Bag of Words vector :  [1, 2, 1, 2, 3, 1, 2, 1, 1, 1, 1, 1, 1, 1, 2, 1, 1, 1]\n"
     ]
    }
   ],
   "source": [
    "doc3 = doc1 + ' ' + doc2\n",
    "vocab, bow = build_bag_of_words(doc3)\n",
    "print(\"Vocab : \", vocab)\n",
    "print(\"Bag of Words vector : \", bow)"
   ]
  },
  {
   "cell_type": "markdown",
   "metadata": {},
   "source": [
    "## 3. CounteVectorizer 클래스로 BoW 만들기\n",
    "\n",
    "- 사이킷 런에서 단어의 빈도를 count 하여 Vector 로 만들어줌\n",
    "    - CountVectorizer 클래스\n",
    "- 길이가 2 이상이 문자에 대해서만 토큰으로 인식해준다\n",
    "    - 영어에서는 짧은 문자를 제거하는 것도 전처리 작업으로 고려됨\n",
    "- 주의점\n",
    "    - 띄어쓰기를 기준으로 단어를 자르기 때문에 수준이 낮음\n",
    "    - 한글에서 쓸 경우 원하는 의도와 다르게 될 가능성이 있음"
   ]
  },
  {
   "cell_type": "code",
   "execution_count": 22,
   "metadata": {},
   "outputs": [
    {
     "name": "stdout",
     "output_type": "stream",
     "text": [
      "Bag of Words Vector :  [[1 1 2 1 2 1]]\n",
      "Vocab :  [('because', 0), ('know', 1), ('love', 2), ('want', 3), ('you', 4), ('your', 5)]\n"
     ]
    }
   ],
   "source": [
    "from sklearn.feature_extraction.text import CountVectorizer\n",
    "\n",
    "corpus = ['you know I want your love. because I love you']\n",
    "vector = CountVectorizer()\n",
    "\n",
    "# 코퍼스로부터 각 단어의 빈도수를 기록\n",
    "print(\"Bag of Words Vector : \", vector.fit_transform(corpus).toarray())\n",
    "\n",
    "# 각 단어의 인덱스가 어떻게 부여되었는지 출력\n",
    "print(\"Vocab : \", sorted(vector.vocabulary_.items(), key= lambda item : item[1]))"
   ]
  },
  {
   "cell_type": "code",
   "execution_count": 26,
   "metadata": {},
   "outputs": [
    {
     "name": "stdout",
     "output_type": "stream",
     "text": [
      "Bag of Words Vector :  [[1 1 1 1 1 1 1]]\n",
      "Vocab :  {'정부가': 6, '발표하는': 4, '물가상승률과': 2, '소비자가': 5, '느끼는': 0, '물가상승률은': 3, '다르다': 1}\n"
     ]
    }
   ],
   "source": [
    "# 한글도 정상적으로 먹히지만, 조사나 데이터 전처리 후 하는게 좋겠군\n",
    "corpus = ['정부가 발표하는 물가상승률과 소비자가 느끼는 물가상승률은 다르다.']\n",
    "vector = CountVectorizer()\n",
    "\n",
    "# 코퍼스로부터 각 단어의 빈도수를 기록\n",
    "print(\"Bag of Words Vector : \", vector.fit_transform(corpus).toarray())\n",
    "\n",
    "# 각 단어의 인덱스가 어떻게 부여되었는지 출력\n",
    "print(\"Vocab : \", vector.vocabulary_)"
   ]
  },
  {
   "cell_type": "markdown",
   "metadata": {},
   "source": [
    "## 4. 불용어를 제거한 BoW 만들기\n",
    "- BoW는 해당 문서에 각 단어가 얼마나 등장하는지 파악하기 위함\n",
    "    - 불용어를 제거하는 것은, 자연어 처리의 정확도를 높이기 위해 선택 가능\n",
    "\n",
    "\n",
    "- 영어의 BoW 를 만들기 위해 불용어를 제외하고 만드는 방법!!!!"
   ]
  },
  {
   "cell_type": "code",
   "execution_count": 27,
   "metadata": {},
   "outputs": [
    {
     "name": "stdout",
     "output_type": "stream",
     "text": [
      "Bag of Words vector :  [[1 1 1 1 1]]\n",
      "Vocab : {'family': 1, 'important': 2, 'thing': 4, 'it': 3, 'everything': 0}\n"
     ]
    }
   ],
   "source": [
    "from sklearn.feature_extraction.text import CountVectorizer\n",
    "from nltk.corpus import stopwords\n",
    "\n",
    "# 1. 사용자가 직접 정의한 불용어 사용\n",
    "text = [\"Family is not an important thing. It's everything.\"]\n",
    "vect = CountVectorizer(stop_words=['the','a','an','is','not'])\n",
    "print(\"Bag of Words vector : \", vect.fit_transform(text).toarray())\n",
    "print(\"Vocab :\", vect.vocabulary_)\n",
    "\n"
   ]
  },
  {
   "cell_type": "code",
   "execution_count": 28,
   "metadata": {},
   "outputs": [
    {
     "name": "stdout",
     "output_type": "stream",
     "text": [
      "Bag of Words vector :  [[1 1 1]]\n",
      "Vocab : {'family': 0, 'important': 1, 'thing': 2}\n"
     ]
    }
   ],
   "source": [
    "# 2. CountVectorizer 에서 제공하는 자체 불용어 사용\n",
    "text = [\"Family is not an important thing. It's everything.\"]\n",
    "vect = CountVectorizer(stop_words='english')\n",
    "print(\"Bag of Words vector : \", vect.fit_transform(text).toarray())\n",
    "print(\"Vocab :\", vect.vocabulary_)\n",
    "\n"
   ]
  },
  {
   "cell_type": "code",
   "execution_count": 29,
   "metadata": {},
   "outputs": [
    {
     "name": "stdout",
     "output_type": "stream",
     "text": [
      "Bag of Words vector :  [[1 1 1 1]]\n",
      "Vocab : {'family': 1, 'important': 2, 'thing': 3, 'everything': 0}\n"
     ]
    }
   ],
   "source": [
    "# 3. NLTK 에서 지원하는 불용어 사용\n",
    "text = [\"Family is not an important thing. It's everything.\"]\n",
    "stop_words = stopwords.words('english')\n",
    "vect = CountVectorizer(stop_words=stop_words)\n",
    "print(\"Bag of Words vector : \", vect.fit_transform(text).toarray())\n",
    "print(\"Vocab :\", vect.vocabulary_)\n",
    "\n"
   ]
  },
  {
   "cell_type": "code",
   "execution_count": null,
   "metadata": {},
   "outputs": [],
   "source": []
  }
 ],
 "metadata": {
  "interpreter": {
   "hash": "8459f5eb1ede4b4f9177267bb7d209bb99cbe04fb453024182bbd03c1d314234"
  },
  "kernelspec": {
   "display_name": "Python 3.8.12 64-bit ('py38': conda)",
   "language": "python",
   "name": "python3"
  },
  "language_info": {
   "codemirror_mode": {
    "name": "ipython",
    "version": 3
   },
   "file_extension": ".py",
   "mimetype": "text/x-python",
   "name": "python",
   "nbconvert_exporter": "python",
   "pygments_lexer": "ipython3",
   "version": "3.8.12"
  },
  "orig_nbformat": 4
 },
 "nbformat": 4,
 "nbformat_minor": 2
}
