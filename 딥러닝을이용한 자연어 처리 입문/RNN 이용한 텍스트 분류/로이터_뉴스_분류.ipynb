{
 "cells": [
  {
   "cell_type": "markdown",
   "metadata": {},
   "source": [
    "# 로이터 뉴스 기사 분류"
   ]
  },
  {
   "cell_type": "code",
   "execution_count": 28,
   "metadata": {},
   "outputs": [],
   "source": [
    "import numpy as np\n",
    "import pandas as pd\n",
    "import matplotlib.pyplot as plt\n",
    "import seaborn as sns\n",
    "from tensorflow.keras.datasets import reuters"
   ]
  },
  {
   "cell_type": "code",
   "execution_count": 29,
   "metadata": {},
   "outputs": [
    {
     "name": "stdout",
     "output_type": "stream",
     "text": [
      "훈련용 뉴스 기사 : 8982\n",
      "테스트용 뉴스 기사 : 2246\n",
      "카테고리 : 46\n"
     ]
    }
   ],
   "source": [
    "(X_train, y_train), (X_test, y_test) = reuters.load_data(num_words=None, test_split=0.2)\n",
    "\n",
    "print(\"훈련용 뉴스 기사 : {}\".format(len(X_train)))\n",
    "print(\"테스트용 뉴스 기사 : {}\".format(len(X_test)))\n",
    "\n",
    "num_classes = len(set(y_train))\n",
    "print(\"카테고리 : {}\".format(num_classes))"
   ]
  },
  {
   "cell_type": "code",
   "execution_count": 30,
   "metadata": {},
   "outputs": [
    {
     "name": "stdout",
     "output_type": "stream",
     "text": [
      "첫 번쨰 훈련용 뉴스 기사 레이블 :  3\n",
      "첫 번째 훈련용 뉴스 기사 :  [1, 27595, 28842, 8, 43, 10, 447, 5, 25, 207, 270, 5, 3095, 111, 16, 369, 186, 90, 67, 7, 89, 5, 19, 102, 6, 19, 124, 15, 90, 67, 84, 22, 482, 26, 7, 48, 4, 49, 8, 864, 39, 209, 154, 6, 151, 6, 83, 11, 15, 22, 155, 11, 15, 7, 48, 9, 4579, 1005, 504, 6, 258, 6, 272, 11, 15, 22, 134, 44, 11, 15, 16, 8, 197, 1245, 90, 67, 52, 29, 209, 30, 32, 132, 6, 109, 15, 17, 12]\n"
     ]
    }
   ],
   "source": [
    "print(\"첫 번쨰 훈련용 뉴스 기사 레이블 : \",y_train[0])\n",
    "print(\"첫 번째 훈련용 뉴스 기사 : \", X_train[0])"
   ]
  },
  {
   "cell_type": "markdown",
   "metadata": {},
   "source": [
    "각 숫자는 각 단어의 등장 빈도 등수를 나타낸다."
   ]
  },
  {
   "cell_type": "code",
   "execution_count": 31,
   "metadata": {},
   "outputs": [
    {
     "name": "stdout",
     "output_type": "stream",
     "text": [
      "뉴스 기사의 최대 길이 : 2376\n",
      "뉴스 기사의 평균 길이 : 145.5398574927633\n"
     ]
    },
    {
     "data": {
      "image/png": "[encoded data removed]",
      "text/plain": [
       "<Figure size 432x288 with 1 Axes>"
      ]
     },
     "metadata": {
      "needs_background": "light"
     },
     "output_type": "display_data"
    }
   ],
   "source": [
    "print(\"뉴스 기사의 최대 길이 : {}\".format(max(len(sample) for sample in X_train)))\n",
    "print(\"뉴스 기사의 평균 길이 : {}\".format(sum(map(len, X_train))/len(X_train)))\n",
    "\n",
    "plt.hist([len(sample) for sample in X_train], bins=50)\n",
    "plt.xlabel(\"length of samples\")\n",
    "plt.ylabel(\"number of samples\")\n",
    "plt.show()"
   ]
  },
  {
   "cell_type": "markdown",
   "metadata": {},
   "source": [
    "- 관측 결과\n",
    "    - 대부분의 뉴스 길이가 100~200 사이의 길이를 가진다"
   ]
  },
  {
   "cell_type": "code",
   "execution_count": 32,
   "metadata": {},
   "outputs": [
    {
     "name": "stderr",
     "output_type": "stream",
     "text": [
      "/Users/sunny/miniforge3/envs/py38/lib/python3.8/site-packages/seaborn/_decorators.py:36: FutureWarning: Pass the following variable as a keyword arg: x. From version 0.12, the only valid positional argument will be `data`, and passing other arguments without an explicit keyword will result in an error or misinterpretation.\n",
      "  warnings.warn(\n"
     ]
    },
    {
     "data": {
      "image/png": "[encoded data removed]",
      "text/plain": [
       "<Figure size 864x360 with 1 Axes>"
      ]
     },
     "metadata": {
      "needs_background": "light"
     },
     "output_type": "display_data"
    }
   ],
   "source": [
    "plt.figure(figsize=(12,5))\n",
    "sns.countplot(y_train)\n",
    "plt.show()"
   ]
  },
  {
   "cell_type": "markdown",
   "metadata": {},
   "source": [
    "- 관측결과\n",
    "    - label 이 3,4 가 가장 많다.\n",
    "    - 정확한 개수 파악해보기"
   ]
  },
  {
   "cell_type": "code",
   "execution_count": 33,
   "metadata": {},
   "outputs": [
    {
     "name": "stdout",
     "output_type": "stream",
     "text": [
      "각 레이블에 대한 빈도수 \n",
      "[[   0    1    2    3    4    5    6    7    8    9   10   11   12   13\n",
      "    14   15   16   17   18   19   20   21   22   23   24   25   26   27\n",
      "    28   29   30   31   32   33   34   35   36   37   38   39   40   41\n",
      "    42   43   44   45]\n",
      " [  55  432   74 3159 1949   17   48   16  139  101  124  390   49  172\n",
      "    26   20  444   39   66  549  269  100   15   41   62   92   24   15\n",
      "    48   19   45   39   32   11   50   10   49   19   19   24   36   30\n",
      "    13   21   12   18]]\n"
     ]
    }
   ],
   "source": [
    "unique_elements, counts_elements = np.unique(y_train, return_counts=True)\n",
    "print(\"각 레이블에 대한 빈도수 \")\n",
    "print(np.asarray((unique_elements, counts_elements)))"
   ]
  },
  {
   "cell_type": "code",
   "execution_count": 34,
   "metadata": {},
   "outputs": [],
   "source": [
    "word_to_index = reuters.get_word_index()"
   ]
  },
  {
   "cell_type": "code",
   "execution_count": 35,
   "metadata": {},
   "outputs": [],
   "source": [
    "index_to_word = {}\n",
    "for key,value in word_to_index.items():\n",
    "    index_to_word[value+3] = key"
   ]
  },
  {
   "cell_type": "code",
   "execution_count": 36,
   "metadata": {},
   "outputs": [
    {
     "name": "stdout",
     "output_type": "stream",
     "text": [
      "빈도수 상위 1번 단어 : the\n"
     ]
    }
   ],
   "source": [
    "print(\"빈도수 상위 1번 단어 : {}\".format(index_to_word[4]))"
   ]
  },
  {
   "cell_type": "code",
   "execution_count": 37,
   "metadata": {},
   "outputs": [
    {
     "name": "stdout",
     "output_type": "stream",
     "text": [
      "빈도수 상위 1번 단어 : only\n"
     ]
    }
   ],
   "source": [
    "print(\"빈도수 상위 1번 단어 : {}\".format(index_to_word[210]))\n"
   ]
  },
  {
   "cell_type": "markdown",
   "metadata": {},
   "source": [
    "- 로이터 뉴스 데이터셋에서는 index_to_word 을 아래와 같이 패딩해야한다.\n",
    "    - 숫자 0 : 패딩을 의미하는 토큰 = pad\n",
    "    - 숫자 1 : 문장의 시작을 의미 = sos\n",
    "    - 숫자 2 : OOV를 위한 토큰 = unk"
   ]
  },
  {
   "cell_type": "code",
   "execution_count": 38,
   "metadata": {},
   "outputs": [
    {
     "name": "stdout",
     "output_type": "stream",
     "text": [
      "<sos> mcgrath rentcorp said as a result of its december acquisition of space co it expects earnings per share in 1987 of 1 15 to 1 30 dlrs per share up from 70 cts in 1986 the company said pretax net should rise to nine to 10 mln dlrs from six mln dlrs in 1986 and rental operation revenues to 19 to 22 mln dlrs from 12 5 mln dlrs it said cash flow per share this year should be 2 50 to three dlrs reuter 3\n"
     ]
    }
   ],
   "source": [
    "# index_to_word를 이용해서 첫번쨰 훈련용 뉴스 기사 확인하기\n",
    "for index, token in enumerate((\"<pad>\", \"<sos>\", \"<unk>\")):\n",
    "    index_to_word[index] = token\n",
    "\n",
    "print(' '.join([index_to_word[index] for index in X_train[0]]))"
   ]
  },
  {
   "cell_type": "markdown",
   "metadata": {},
   "source": [
    "### LSTM 으로 로이터 뉴스 분류하기"
   ]
  },
  {
   "cell_type": "code",
   "execution_count": 39,
   "metadata": {},
   "outputs": [],
   "source": [
    "from tensorflow.keras.models import Sequential\n",
    "from tensorflow.keras.layers import Dense, LSTM, Embedding\n",
    "from tensorflow.keras.preprocessing.sequence import pad_sequences\n",
    "from tensorflow.keras.utils import to_categorical\n",
    "from tensorflow.keras.callbacks import EarlyStopping, ModelCheckpoint\n",
    "from tensorflow.keras.models import load_model\n",
    "\n",
    "vocab_size = 1000\n",
    "max_len = 100\n",
    "\n",
    "(X_train, y_train), (X_test, y_test) = reuters.load_data(num_words=vocab_size, test_split=0.2)\n",
    "\n",
    "X_train = pad_sequences(X_train, maxlen=max_len)\n",
    "X_test = pad_sequences(X_test, maxlen=max_len)\n",
    "\n",
    "y_train = to_categorical(y_train)\n",
    "y_test = to_categorical(y_test)"
   ]
  },
  {
   "cell_type": "code",
   "execution_count": 40,
   "metadata": {},
   "outputs": [
    {
     "name": "stdout",
     "output_type": "stream",
     "text": [
      "Epoch 1/30\n"
     ]
    },
    {
     "name": "stderr",
     "output_type": "stream",
     "text": [
      "2022-02-26 19:27:06.458297: I tensorflow/core/grappler/optimizers/custom_graph_optimizer_registry.cc:112] Plugin optimizer for device_type GPU is enabled.\n",
      "2022-02-26 19:27:06.588205: I tensorflow/core/grappler/optimizers/custom_graph_optimizer_registry.cc:112] Plugin optimizer for device_type GPU is enabled.\n",
      "2022-02-26 19:27:06.766799: I tensorflow/core/grappler/optimizers/custom_graph_optimizer_registry.cc:112] Plugin optimizer for device_type GPU is enabled.\n"
     ]
    },
    {
     "name": "stdout",
     "output_type": "stream",
     "text": [
      "71/71 [==============================] - ETA: 0s - loss: 2.7080 - acc: 0.3457"
     ]
    },
    {
     "name": "stderr",
     "output_type": "stream",
     "text": [
      "2022-02-26 19:27:11.299831: I tensorflow/core/grappler/optimizers/custom_graph_optimizer_registry.cc:112] Plugin optimizer for device_type GPU is enabled.\n",
      "2022-02-26 19:27:11.348650: I tensorflow/core/grappler/optimizers/custom_graph_optimizer_registry.cc:112] Plugin optimizer for device_type GPU is enabled.\n"
     ]
    },
    {
     "name": "stdout",
     "output_type": "stream",
     "text": [
      "\n",
      "Epoch 00001: val_acc improved from -inf to 0.36198, saving model to best_model.h5\n",
      "71/71 [==============================] - 6s 70ms/step - loss: 2.7080 - acc: 0.3457 - val_loss: 2.4188 - val_acc: 0.3620\n",
      "Epoch 2/30\n",
      "70/71 [============================>.] - ETA: 0s - loss: 2.4082 - acc: 0.3517\n",
      "Epoch 00002: val_acc did not improve from 0.36198\n",
      "71/71 [==============================] - 4s 58ms/step - loss: 2.4082 - acc: 0.3517 - val_loss: 2.4119 - val_acc: 0.3620\n",
      "Epoch 3/30\n",
      "70/71 [============================>.] - ETA: 0s - loss: 2.3996 - acc: 0.3542\n",
      "Epoch 00003: val_acc did not improve from 0.36198\n",
      "71/71 [==============================] - 4s 60ms/step - loss: 2.4007 - acc: 0.3538 - val_loss: 2.4387 - val_acc: 0.2449\n",
      "Epoch 4/30\n",
      "70/71 [============================>.] - ETA: 0s - loss: 2.2557 - acc: 0.4244\n",
      "Epoch 00004: val_acc did not improve from 0.36198\n",
      "71/71 [==============================] - 5s 64ms/step - loss: 2.2566 - acc: 0.4237 - val_loss: 2.5223 - val_acc: 0.2124\n",
      "Epoch 5/30\n",
      "70/71 [============================>.] - ETA: 0s - loss: 2.2294 - acc: 0.4187\n",
      "Epoch 00005: val_acc improved from 0.36198 to 0.48486, saving model to best_model.h5\n",
      "71/71 [==============================] - 4s 63ms/step - loss: 2.2300 - acc: 0.4185 - val_loss: 2.0848 - val_acc: 0.4849\n",
      "Epoch 6/30\n",
      "70/71 [============================>.] - ETA: 0s - loss: 2.0957 - acc: 0.4760\n",
      "Epoch 00006: val_acc improved from 0.48486 to 0.48620, saving model to best_model.h5\n",
      "71/71 [==============================] - 4s 63ms/step - loss: 2.0945 - acc: 0.4764 - val_loss: 2.0689 - val_acc: 0.4862\n",
      "Epoch 7/30\n",
      "70/71 [============================>.] - ETA: 0s - loss: 2.0737 - acc: 0.4789\n",
      "Epoch 00007: val_acc did not improve from 0.48620\n",
      "71/71 [==============================] - 4s 63ms/step - loss: 2.0744 - acc: 0.4786 - val_loss: 2.0725 - val_acc: 0.4858\n",
      "Epoch 8/30\n",
      "70/71 [============================>.] - ETA: 0s - loss: 2.0685 - acc: 0.4852\n",
      "Epoch 00008: val_acc improved from 0.48620 to 0.50445, saving model to best_model.h5\n",
      "71/71 [==============================] - 5s 64ms/step - loss: 2.0686 - acc: 0.4850 - val_loss: 2.0349 - val_acc: 0.5045\n",
      "Epoch 9/30\n",
      "70/71 [============================>.] - ETA: 0s - loss: 2.0182 - acc: 0.5001\n",
      "Epoch 00009: val_acc did not improve from 0.50445\n",
      "71/71 [==============================] - 5s 64ms/step - loss: 2.0184 - acc: 0.5000 - val_loss: 2.0256 - val_acc: 0.5018\n",
      "Epoch 10/30\n",
      "70/71 [============================>.] - ETA: 0s - loss: 2.0311 - acc: 0.4924\n",
      "Epoch 00010: val_acc improved from 0.50445 to 0.50935, saving model to best_model.h5\n",
      "71/71 [==============================] - 5s 65ms/step - loss: 2.0310 - acc: 0.4924 - val_loss: 2.0233 - val_acc: 0.5093\n",
      "Epoch 11/30\n",
      "70/71 [============================>.] - ETA: 0s - loss: 1.9768 - acc: 0.5044\n",
      "Epoch 00011: val_acc improved from 0.50935 to 0.51247, saving model to best_model.h5\n",
      "71/71 [==============================] - 4s 63ms/step - loss: 1.9766 - acc: 0.5042 - val_loss: 2.0176 - val_acc: 0.5125\n",
      "Epoch 12/30\n",
      "70/71 [============================>.] - ETA: 0s - loss: 1.9715 - acc: 0.5007\n",
      "Epoch 00012: val_acc improved from 0.51247 to 0.51870, saving model to best_model.h5\n",
      "71/71 [==============================] - 4s 63ms/step - loss: 1.9721 - acc: 0.5006 - val_loss: 1.9305 - val_acc: 0.5187\n",
      "Epoch 13/30\n",
      "70/71 [============================>.] - ETA: 0s - loss: 1.9670 - acc: 0.4882\n",
      "Epoch 00013: val_acc did not improve from 0.51870\n",
      "71/71 [==============================] - 4s 63ms/step - loss: 1.9667 - acc: 0.4883 - val_loss: 2.3802 - val_acc: 0.3348\n",
      "Epoch 14/30\n",
      "70/71 [============================>.] - ETA: 0s - loss: 2.0456 - acc: 0.4594\n",
      "Epoch 00014: val_acc improved from 0.51870 to 0.52716, saving model to best_model.h5\n",
      "71/71 [==============================] - 4s 63ms/step - loss: 2.0460 - acc: 0.4596 - val_loss: 1.8829 - val_acc: 0.5272\n",
      "Epoch 15/30\n",
      "70/71 [============================>.] - ETA: 0s - loss: 2.0392 - acc: 0.4905\n",
      "Epoch 00015: val_acc did not improve from 0.52716\n",
      "71/71 [==============================] - 5s 63ms/step - loss: 2.0386 - acc: 0.4910 - val_loss: 2.0126 - val_acc: 0.5076\n",
      "Epoch 16/30\n",
      "70/71 [============================>.] - ETA: 0s - loss: 2.0063 - acc: 0.4994\n",
      "Epoch 00016: val_acc did not improve from 0.52716\n",
      "71/71 [==============================] - 4s 62ms/step - loss: 2.0073 - acc: 0.4992 - val_loss: 2.0240 - val_acc: 0.5009\n",
      "Epoch 17/30\n",
      "70/71 [============================>.] - ETA: 0s - loss: 1.9780 - acc: 0.5055\n",
      "Epoch 00017: val_acc did not improve from 0.52716\n",
      "71/71 [==============================] - 4s 62ms/step - loss: 1.9785 - acc: 0.5053 - val_loss: 1.9708 - val_acc: 0.5031\n",
      "Epoch 18/30\n",
      "71/71 [==============================] - ETA: 0s - loss: 1.9451 - acc: 0.5059\n",
      "Epoch 00018: val_acc did not improve from 0.52716\n",
      "71/71 [==============================] - 4s 63ms/step - loss: 1.9451 - acc: 0.5059 - val_loss: 1.9310 - val_acc: 0.5076\n",
      "Epoch 00018: early stopping\n"
     ]
    }
   ],
   "source": [
    "embedding_dim = 128\n",
    "hidden_units = 128\n",
    "num_classes = 46\n",
    "\n",
    "model = Sequential()\n",
    "model.add(Embedding(vocab_size, embedding_dim))\n",
    "model.add(LSTM(hidden_units))\n",
    "model.add(Dense(num_classes, activation='softmax'))\n",
    "\n",
    "es = EarlyStopping(monitor='val_loss', mode='min', verbose=1, patience=4)\n",
    "mc = ModelCheckpoint('best_model.h5', monitor='val_acc', mode='max', verbose=1, save_best_only=True)\n",
    "\n",
    "model.compile(loss='categorical_crossentropy', optimizer='adam', metrics=['acc'])\n",
    "history = model.fit(X_train, y_train, batch_size=128, epochs=30, callbacks=[es, mc], validation_data=(X_test, y_test))"
   ]
  },
  {
   "cell_type": "code",
   "execution_count": 41,
   "metadata": {},
   "outputs": [
    {
     "name": "stderr",
     "output_type": "stream",
     "text": [
      "2022-02-26 19:28:27.839081: I tensorflow/core/grappler/optimizers/custom_graph_optimizer_registry.cc:112] Plugin optimizer for device_type GPU is enabled.\n",
      "2022-02-26 19:28:27.888506: I tensorflow/core/grappler/optimizers/custom_graph_optimizer_registry.cc:112] Plugin optimizer for device_type GPU is enabled.\n"
     ]
    },
    {
     "name": "stdout",
     "output_type": "stream",
     "text": [
      "71/71 [==============================] - 2s 19ms/step - loss: 1.8831 - acc: 0.5272\n",
      "\n",
      " 테스트 정확도: 0.5272\n"
     ]
    }
   ],
   "source": [
    "loaded_model = load_model('best_model.h5')\n",
    "print(\"\\n 테스트 정확도: %.4f\" % (loaded_model.evaluate(X_test, y_test)[1]))"
   ]
  },
  {
   "cell_type": "code",
   "execution_count": 42,
   "metadata": {},
   "outputs": [
    {
     "data": {
      "image/png": "[encoded data removed]",
      "text/plain": [
       "<Figure size 432x288 with 1 Axes>"
      ]
     },
     "metadata": {
      "needs_background": "light"
     },
     "output_type": "display_data"
    }
   ],
   "source": [
    "epochs = range(1, len(history.history['acc']) + 1)\n",
    "plt.plot(epochs, history.history['loss'])\n",
    "plt.plot(epochs, history.history['val_loss'])\n",
    "plt.title('model loss')\n",
    "plt.ylabel('loss')\n",
    "plt.xlabel('epoch')\n",
    "plt.legend(['train', 'test'], loc='upper left')\n",
    "plt.show()"
   ]
  }
 ],
 "metadata": {
  "interpreter": {
   "hash": "8459f5eb1ede4b4f9177267bb7d209bb99cbe04fb453024182bbd03c1d314234"
  },
  "kernelspec": {
   "display_name": "Python 3.8.12 ('py38')",
   "language": "python",
   "name": "python3"
  },
  "language_info": {
   "codemirror_mode": {
    "name": "ipython",
    "version": 3
   },
   "file_extension": ".py",
   "mimetype": "text/x-python",
   "name": "python",
   "nbconvert_exporter": "python",
   "pygments_lexer": "ipython3",
   "version": "3.8.12"
  },
  "orig_nbformat": 4
 },
 "nbformat": 4,
 "nbformat_minor": 2
}
