{
 "cells": [
  {
   "cell_type": "markdown",
   "metadata": {},
   "source": [
    "# 워드 임베딩(Word Embedding)\n",
    "- 텍스트를 컴퓨터가 이해할 수 있도록 숫자로 변환하는 것"
   ]
  },
  {
   "cell_type": "markdown",
   "metadata": {},
   "source": [
    "### 1. 희소 표현 (Sparse Representation)\n",
    "- 벡터, 행렬의 값이 0으로 표현되는 것\n",
    "    - 원-핫 벡터 = 희소 벡터(sparse vector)\n",
    "- 이러한 벡터 표현은 공간적 낭비를 일으킨다.\n",
    "\n",
    "\n",
    "### 2. 밀집 표현(Dense Representation)\n",
    "- 벡터의 차원을 단어 집합의 크기로 상정하지 않는 것.\n",
    "    - 사용자가 설정한 값으로 모든 단어의 벡터 표현의 차원을 맞춘다.\n",
    "- 실수값을 가진다\n",
    "- 밀집 벡터(dense vector)\n",
    "\n",
    "### 3. 워드 임베딩(Word Embedding)\n",
    "- 단어를 밀집 벡터(dense vector)의 형태로 표현하는 방법\n",
    "    - 임베딩 벡터 : 워드 임베딩 과정을 통해 나온 결과\n",
    "- 방법론\n",
    "    - LSA\n",
    "    - Word2Vec\n",
    "    - FastText\n",
    "    - Glove\n",
    "\n",
    "    \n",
    "![](2022-02-10-15-39-00.png)"
   ]
  },
  {
   "cell_type": "markdown",
   "metadata": {},
   "source": []
  }
 ],
 "metadata": {
  "language_info": {
   "name": "python"
  },
  "orig_nbformat": 4
 },
 "nbformat": 4,
 "nbformat_minor": 2
}
