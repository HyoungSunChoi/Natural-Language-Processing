{
 "cells": [
  {
   "cell_type": "markdown",
   "metadata": {},
   "source": [
    "# 정제(cleaning) & 정규화(NOrmalization)"
   ]
  },
  {
   "cell_type": "markdown",
   "metadata": {},
   "source": [
    "- 정제(cleaning) : 갖고 있는 코퍼스로부터 노이즈 데이터를 제거한다\n",
    "- 정규화(normalization) : 표현 방법이 다른 단어들을 통합시켜서 같은 단어로 만들어준다.\n",
    "\n",
    "1. 표기가 다른 단어들을 하나의 단어로 정규화하는 방법 사용 가능\n",
    "    - e.x.) USA, US / uh-huh , uhhuh\n",
    "    - 이를 통해 둘중 하나만 검색을 하더라도 같이 찾을 수 있도록 (어간 추출(stemming) 과 표제어 추출(lemmatizaiton))\n",
    "\n",
    "2. 대, 소문자 통합\n",
    "    - 무작정 통합해서는 안됨\n",
    "        - US(미국) , us(우리)\n",
    "\n",
    "3. 노이즈 데이터\n",
    "    - 아무 의미를 갖지 않는 글자(특수 문자) 혹은  분석하고자 하는 목적에 맞지 않는 불필요한 데이터\n",
    "    - 보통 정규 표현식으로 삭제한다\n",
    "    1. 등장 빈도가 적은 단어\n",
    "    2. 길이가 짧은 단어 (영어권에 한함)\n",
    "    "
   ]
  },
  {
   "cell_type": "code",
   "execution_count": 1,
   "metadata": {},
   "outputs": [
    {
     "name": "stdout",
     "output_type": "stream",
     "text": [
      " was wondering  anyone out there could enlighten   this car.\n"
     ]
    }
   ],
   "source": [
    "import re\n",
    "text = \"I was wondering if anyone out there could enlighten me on this car.\"\n",
    "\n",
    "# 길이가 1~2 인 단어들을 정규 표현식을 이용하여 삭제\n",
    "shortword = re.compile(r'\\w*\\b\\w{1,2}\\b')\n",
    "print(shortword.sub('', text))"
   ]
  },
  {
   "cell_type": "markdown",
   "metadata": {},
   "source": [
    "4. 정규 표현식 (Regular Expression)\n",
    "- 반복되는 여러 글자들을 규칙에 기반하여 한번에 제거할 수 있다."
   ]
  },
  {
   "cell_type": "markdown",
   "metadata": {},
   "source": []
  }
 ],
 "metadata": {
  "interpreter": {
   "hash": "a867a277ecf2af885ec9568148caf8a8507793bb561c75f760acfb1c32ff6b3d"
  },
  "kernelspec": {
   "display_name": "Python 3.8.12 64-bit ('py38_NLP': conda)",
   "language": "python",
   "name": "python3"
  },
  "language_info": {
   "codemirror_mode": {
    "name": "ipython",
    "version": 3
   },
   "file_extension": ".py",
   "mimetype": "text/x-python",
   "name": "python",
   "nbconvert_exporter": "python",
   "pygments_lexer": "ipython3",
   "version": "3.8.12"
  },
  "orig_nbformat": 4
 },
 "nbformat": 4,
 "nbformat_minor": 2
}
