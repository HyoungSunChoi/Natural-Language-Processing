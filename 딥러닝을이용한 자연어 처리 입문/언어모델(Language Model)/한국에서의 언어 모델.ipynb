{
 "cells": [
  {
   "cell_type": "markdown",
   "metadata": {},
   "source": [
    "# 한국에서의 언어 모델(Language Model for Korean Sentences)\n",
    "- 영어보다 훨~씬 까다로움"
   ]
  },
  {
   "cell_type": "markdown",
   "metadata": {},
   "source": [
    "## 1. 한국어는 어순이 중요하지 않다\n",
    "- 이전 단어가 주어졌을 때, 다음 단어가 나타날 확률을 계산해야함\n",
    "    - 어순이 중요하지 않기 때문에, 다음 단어로 어떤 단어든 등장할 수 있음\n",
    "- 예시 ( 모두 의미가 통함)\n",
    "    - 나는 운동을 합니다 체육관에서\n",
    "    - 나는 체육관에서 운동을 합니다\n",
    "    - 체육관에서 운동을 합니다\n",
    "    - 나는 운동을 체육관에서 합니다.\n",
    "\n"
   ]
  },
  {
   "cell_type": "markdown",
   "metadata": {},
   "source": [
    "## 2. 한국어는 교착어\n",
    "- 언어 모델 작동이 어려움,,,,,\n",
    "- 띄어쓰기 단위인 어절 단위로 토큰화를 할 경우, 문장에서 발생 가능한 단어의 수가 엄청나게 늘어난다.\n",
    "    - 대표적인 예로 \"조사\"(어떤 행동을 하는 동사의 주어나 목적어를 위해 사용됨)\n",
    "    - 따라서 한글에서는, 토큰화를 통해 접사나 조사 등을 분리하는 것이 중요!!!!!!!!!!!\n",
    "    - 예시)\n",
    "        - 그녀 -> (그녀가, 그녀를, 그녀의, 그녀와 $\\dots$)\n"
   ]
  },
  {
   "cell_type": "markdown",
   "metadata": {},
   "source": [
    "## 3. 한국어는 띄어쓰기가 제대로 지켜지지 않는다.\n",
    "- 토큰을 반드시 제대로 분리 할 것\n",
    "    - 안그러면 언어 모델이 작동하지 않음 ㅠ"
   ]
  },
  {
   "cell_type": "markdown",
   "metadata": {},
   "source": []
  }
 ],
 "metadata": {
  "language_info": {
   "name": "python"
  },
  "orig_nbformat": 4
 },
 "nbformat": 4,
 "nbformat_minor": 2
}
