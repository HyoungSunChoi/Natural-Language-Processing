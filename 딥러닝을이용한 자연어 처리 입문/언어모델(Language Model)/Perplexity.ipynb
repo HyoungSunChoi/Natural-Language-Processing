{
 "cells": [
  {
   "cell_type": "markdown",
   "metadata": {},
   "source": [
    "# 펄플렉서티(Perplexity, PPL)\n",
    "\n",
    "## 1. 언어 모델의 평가 방법 (Evaluation metric) : PPL\n",
    "- 언어 모델을 평가하기 위한 평가 지표이다.\n",
    "- A.K.A 헷갈리는 정도\n",
    "- 값이 낮을수록 언어 모델의 성능이 좋다\n",
    "- 문장의 길이로 정규화된 문장 확률의 역수이다.\n",
    "    - 문장 W의 길이가 N이라고 하였을 때 PPL\n",
    "    $$ PPL(W) = P(w_1,w_2,\\dots,w_N)^-\\frac{1}{2} = \\sqrt{\\frac{1}{P(w_1,w_2,\\dots,w_N)}}$$\n",
    "    - 문장의 확률에 체인룰(chain rule)을 적용하면 다음과 같음\n",
    "    $$ PPL(W) = N\\sqrt{\\frac{1}{P(w_1,w_2,\\dots,w_N)}}= N\\sqrt{\\frac{1}{\\prod_{i=1}^N P(w_i|w_{i-1})}}$$\n",
    "\n"
   ]
  },
  {
   "cell_type": "markdown",
   "metadata": {},
   "source": [
    "## 2. 분기 계수 (Branching Factor)\n",
    "- PPL은 선택할 수 있는 가능한 경우의 수를 의미하는 분기계수(branching facotr)이다.\n",
    "- 예시)\n",
    "    - 언어 모델에 테스트를 했을 때, PPL이 10이라면,\n",
    "    - 해당 언어 모델은, 다음 단어를 예측하는 모든 시점(time step)마다 평균 10개의 단어를 가지고 어떤 것이 정답인지 고민하고 있다.\n",
    "    - 같은 테스트 데이터에 대해서 두 언어 모델의 PPL을 각각 계산 후에 비교\n",
    "\n",
    "    $$ PPL(W) = P(w_1, w_2,\\dots,w_N)^\\frac{1}{N}= (\\frac{1}{10}^N)^{-\\frac{1}{N}}=\\frac{1}{10}^{-1}=10 $$\n",
    "- **주의** 높은 정확도를 보일 뿐, 사람이 직접 느끼기에 좋은 언어 모델이라는 것은 아님!!!!"
   ]
  },
  {
   "cell_type": "markdown",
   "metadata": {},
   "source": [
    "- 두 모델의 성능 비교하는 방법\n",
    "    1. 오타 교정, 기계 번역 등의 평가\n",
    "    2. 해당 업무의 성능 비교\n",
    "    - 하지만 위의 두 방식들은 시간이 오래걸린다.\n",
    "\n",
    "- 이때 사용하는 것이 모델 내에서 자신의 성능을 수치화하여 결과를 내놓는 PPL!!!!!"
   ]
  },
  {
   "cell_type": "markdown",
   "metadata": {},
   "source": []
  }
 ],
 "metadata": {
  "language_info": {
   "name": "python"
  },
  "orig_nbformat": 4
 },
 "nbformat": 4,
 "nbformat_minor": 2
}
