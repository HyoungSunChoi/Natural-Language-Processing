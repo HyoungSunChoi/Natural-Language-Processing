{
 "cells": [
  {
   "cell_type": "markdown",
   "metadata": {},
   "source": [
    "# N-gram 언어 모델(N-gram Language Model)\n",
    "\n",
    "- SLM의 일종\n",
    "- 모든 단어가 아닌, 일부 단어만 고려하는 접근 방법\n",
    "    - 일부 단어를 몇 개 보는데 결정\n",
    "    "
   ]
  },
  {
   "cell_type": "markdown",
   "metadata": {},
   "source": [
    "## 1. 코퍼스에서 카운트하지 못하는 경우의 감소\n",
    "- SLM의 한계는 학습하지 못한 데이터로 인한 확률의 공백이 있을 수 있다는 것!\n",
    "    - 확률을 계산하고 싶은 문장이 길어질수록 갖고있는 코퍼스에서 그 문장이 존재하지 않을 가능성이 높음\n",
    "    - 즉 카운트할 수 없을 가능성이 높음\n",
    "    - 그런데,, 참고하는 단어를 줄이면 카운트할 수 있을 가능성이 높아짐\n",
    "    $$ P(is|An \\,adorable\\,little\\,boy) \\approx P(is|boy)$$\n",
    "\n",
    "    - e.x) An adorable little boy 가 나왔을 때\n",
    "        - is 가 나올 확률을 그냥 boy 가 나왔을 때, is가 나올 확률로 생각한다면? ( boy is)\n",
    "        - boy is 라는 더 짧은 단어 시퀀스가 존재할 가능성이 더 높다"
   ]
  },
  {
   "cell_type": "markdown",
   "metadata": {},
   "source": [
    "## 2. N-gram\n",
    "갖고 있는 코퍼스에서 n 개의 단어 뭉치 단위로 끊어서 하나의 토큰으로 만든다\n",
    "\n",
    "An adorable little boy is spreading smiles\n",
    "- unigrams\n",
    "    - an, adorable, little, boy, is, spreading, smiles\n",
    "- bigrams\n",
    "    - an adorable, adorable little, little boy, boy is, is spreading, spreading smiles\n",
    "- trigrams\n",
    "    - an adorable little, adorable little boy, little boy is, boy is spreading, is spreading smiles\n",
    "- 4-grams\n",
    "    - and adorable little boy, adorable little boy is, little boy is spreading, boy is spreading smiles\n",
    "$$특정 단어가 들어올 확률 = \\frac{특정 단어가 오는 개수}{전체개수}$$"
   ]
  },
  {
   "cell_type": "markdown",
   "metadata": {},
   "source": [
    "## 3. N-gram Language MOdel 의 한계\n",
    "- 확률에 의해 정해지기 때문에, 의도하고 싶은대로 문장을 끝내지 못하는 경우가 생긴다.\n",
    "- 즉, 전체 문장을 고려한 언어 모델보다는 정확도가 떨어진다.\n",
    "\n",
    "1. 희소 문제(Sparsity Problem)\n",
    "    - 일부 단어만 봐서 코퍼스에서 카운트 하는 확률을 높일 수는 있지만, 희소 문제가 존재한다.\n",
    "2. n을 선택하는 것은 trade-off 문제\n",
    "    -  n 을 크게 선택할수록, n-gram을 카운트할 수 있는 확률이 작아진다. \n",
    "    - 정확도가 올라가긴 하지만, 확률분포가 떨어진다.\n",
    "\n"
   ]
  },
  {
   "cell_type": "markdown",
   "metadata": {},
   "source": [
    "## 4. 적용 분야(Domain)에 맞는 코퍼스의 수집\n",
    "- 특정 분야에 따라 확률 분포가 달라진다. ( 학습 데이터셋 )\n",
    "\n",
    "## 5. 인공 신경망을 이용한 언어 모델(Neural Network based Language Model)\n",
    "- n-gram보다 높은 성능을 가지며, 최근 많이 사용됨"
   ]
  },
  {
   "cell_type": "markdown",
   "metadata": {},
   "source": []
  }
 ],
 "metadata": {
  "language_info": {
   "name": "python"
  },
  "orig_nbformat": 4
 },
 "nbformat": 4,
 "nbformat_minor": 2
}
