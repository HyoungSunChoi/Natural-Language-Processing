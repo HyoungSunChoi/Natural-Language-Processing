{
 "cells": [
  {
   "cell_type": "markdown",
   "metadata": {},
   "source": [
    "# 통계적 언어 모델(Statistical Language Model, SLM)\n",
    "\n",
    "## 작동방법!!!!!!!\n",
    "\n",
    "### 1. 조건부 확률\n",
    "$$P(x_1,x_2,x_3,\\dots,x_n) = P(x_1)P(x_2|x_1)P(x_3|x_1,x_2)\\dots P(x_n|x_1,\\dots x_{n_1}$$\n",
    "\n",
    "\n",
    "### 2. 문장에 대한 확률\n",
    "- 문장의 확률을 구하기 위해 조건부 확률을 사용한다.\n",
    "- 위의 식을 한번 더 확률적으로 보면\n",
    "$$P(w_1,w_2,\\dots,w_n)=\\prod_{n=1}^n P(w_n|w_1,\\dots,w_{n_1})$$\n",
    "- 문장의 확률을 구하기 위해 각 단어에 대한 예측 확률들을 곱한다\n",
    "- e.x) P(An adorable little boy is spreading smiles)\n",
    "    - P(An) X P(adorable|An) X P(little|An adorable) X P(boy|An adorable little) X P(is|An adorable little boy) X P(spreading|An adorable little boy is) X P(smiles|An adorable little boy is spreading)\n"
   ]
  },
  {
   "cell_type": "markdown",
   "metadata": {},
   "source": [
    "### 3. 카운트 기반의 접근\n",
    "- 이전 단어로부터 다음 단어에 대한 확률을 구하는 방법\n",
    "- e.x) An adorable little boy 가 나왔을 때, is 가 나올 확률인 P(is|An adorable little boy)를 구하면\n",
    "$$ P(is|An adorable little boy) = \\frac{count(An adorable little boy is)}{count(An adorable little boy)} $$\n",
    "\n",
    "    - 만약 An adorable little boy 가 100번 등장하고, 그 다음 is 가 등장이 30번이면 30%"
   ]
  },
  {
   "cell_type": "markdown",
   "metadata": {},
   "source": [
    "## 4. 카운트 기반 접근의 한계 - 희소 문제(Sparsity Problem)\n",
    "- 데이터가 굉장히 많이 필요하다\n",
    "- 충분한 데이터를 관측하지 못하면 정확히 모델링 하지 못하는 문제!!!"
   ]
  },
  {
   "cell_type": "markdown",
   "metadata": {},
   "source": []
  }
 ],
 "metadata": {
  "language_info": {
   "name": "python"
  },
  "orig_nbformat": 4
 },
 "nbformat": 4,
 "nbformat_minor": 2
}
