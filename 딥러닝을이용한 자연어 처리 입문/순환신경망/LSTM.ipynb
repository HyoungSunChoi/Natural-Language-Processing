{
 "cells": [
  {
   "cell_type": "markdown",
   "metadata": {},
   "source": [
    "# 1. 장단기 메모리(Long Short Term Memory, LSTM)\n",
    "- 바닐라RNN 은 출력 결과가 이전의 계산 결좌에 의존한다.\n",
    "    - 짧은 시퀀스에 대해서만 효과를 보이는 단점\n",
    "    - time step이 길어질수록 앞의 정보가 뒤로 전달되지 못하는 현상이 발생한다.\n",
    "    - 장기 의존성 문제 (the problem of Long-Term Dependencies)\n",
    "    "
   ]
  },
  {
   "cell_type": "markdown",
   "metadata": {},
   "source": [
    "\n"
   ]
  }
 ],
 "metadata": {
  "language_info": {
   "name": "python"
  },
  "orig_nbformat": 4
 },
 "nbformat": 4,
 "nbformat_minor": 2
}
