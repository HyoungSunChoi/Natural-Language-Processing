{
 "cells": [
  {
   "cell_type": "markdown",
   "metadata": {},
   "source": [
    "## 1. 문자 단위 RNN 언어 모델 (Char RNNLM)\n",
    "- "
   ]
  },
  {
   "cell_type": "code",
   "execution_count": 1,
   "metadata": {},
   "outputs": [],
   "source": [
    "import numpy as np\n",
    "import urllib.request\n",
    "from tensorflow.keras.utils import to_categorical\n",
    "\n",
    "urllib.request.urlretrieve(\"http://www.gutenberg.org/files/11/11-0.txt\", filename=\"11-0.txt\")\n",
    "\n",
    "f = open('11-0.txt', 'rb')\n",
    "sentences = []\n",
    "for sentence in f:\n",
    "    sentence = sentence.strip()\n",
    "    sentence = sentence.lower()\n",
    "    sentence = sentence.decode('ascii','ignore') # 바이트 열 제거\n",
    "    if len(sentence)>0:\n",
    "        sentences.append(sentence)\n",
    "f.close()\n"
   ]
  },
  {
   "cell_type": "code",
   "execution_count": 2,
   "metadata": {},
   "outputs": [
    {
     "name": "stdout",
     "output_type": "stream",
     "text": [
      "문자열의 총 길이 : 159484\n"
     ]
    }
   ],
   "source": [
    "total_data = ' '.join(sentences)\n",
    "print('문자열의 총 길이 : %d' % len(total_data))"
   ]
  },
  {
   "cell_type": "code",
   "execution_count": 3,
   "metadata": {},
   "outputs": [
    {
     "name": "stdout",
     "output_type": "stream",
     "text": [
      "문자 집합의 크기 :56\n"
     ]
    }
   ],
   "source": [
    "char_vocab = sorted(list(set(total_data)))\n",
    "vocab_size = len(char_vocab)\n",
    "print(\"문자 집합의 크기 :{}\".format(vocab_size))"
   ]
  },
  {
   "cell_type": "code",
   "execution_count": 4,
   "metadata": {},
   "outputs": [
    {
     "name": "stdout",
     "output_type": "stream",
     "text": [
      "문자 집합 : {' ': 0, '!': 1, '\"': 2, '#': 3, '$': 4, '%': 5, \"'\": 6, '(': 7, ')': 8, '*': 9, ',': 10, '-': 11, '.': 12, '/': 13, '0': 14, '1': 15, '2': 16, '3': 17, '4': 18, '5': 19, '6': 20, '7': 21, '8': 22, '9': 23, ':': 24, ';': 25, '?': 26, '[': 27, ']': 28, '_': 29, 'a': 30, 'b': 31, 'c': 32, 'd': 33, 'e': 34, 'f': 35, 'g': 36, 'h': 37, 'i': 38, 'j': 39, 'k': 40, 'l': 41, 'm': 42, 'n': 43, 'o': 44, 'p': 45, 'q': 46, 'r': 47, 's': 48, 't': 49, 'u': 50, 'v': 51, 'w': 52, 'x': 53, 'y': 54, 'z': 55}\n"
     ]
    }
   ],
   "source": [
    "char_to_index = dict((char, index) for index, char in enumerate(char_vocab))\n",
    "print('문자 집합 :',char_to_index)"
   ]
  },
  {
   "cell_type": "code",
   "execution_count": 5,
   "metadata": {},
   "outputs": [],
   "source": [
    "index_to_char = {}\n",
    "for key, value in char_to_index.items():\n",
    "    index_to_char[value] = key"
   ]
  },
  {
   "cell_type": "code",
   "execution_count": 6,
   "metadata": {},
   "outputs": [],
   "source": [
    "# appl (입력 시퀀스) -> pple (예측해야하는 시퀀스)\n",
    "train_X = 'appl'\n",
    "train_y = 'pple'"
   ]
  },
  {
   "cell_type": "code",
   "execution_count": 7,
   "metadata": {},
   "outputs": [
    {
     "name": "stdout",
     "output_type": "stream",
     "text": [
      "샘플의 수 : 2658\n"
     ]
    }
   ],
   "source": [
    "seq_length = 60\n",
    "\n",
    "# 문자열의 길이를 seq_length로 나누면 전처리 후 생겨날 샘플 수\n",
    "n_samples = int(np.floor((len(total_data) - 1) / seq_length))\n",
    "print ('샘플의 수 : {}'.format(n_samples))"
   ]
  },
  {
   "cell_type": "code",
   "execution_count": 8,
   "metadata": {},
   "outputs": [],
   "source": [
    "train_X = []\n",
    "train_y = []\n",
    "\n",
    "for i in range(n_samples):\n",
    "    # 0:60 -> 60:120 -> 120:180로 loop를 돌면서 문장 샘플을 1개씩 pick.\n",
    "    X_sample = total_data[i * seq_length: (i + 1) * seq_length]\n",
    "\n",
    "    # 정수 인코딩\n",
    "    X_encoded = [char_to_index[c] for c in X_sample]\n",
    "    train_X.append(X_encoded)\n",
    "\n",
    "    # 오른쪽으로 1칸 쉬프트\n",
    "    y_sample = total_data[i * seq_length + 1: (i + 1) * seq_length + 1]\n",
    "    y_encoded = [char_to_index[c] for c in y_sample]\n",
    "    train_y.append(y_encoded)"
   ]
  },
  {
   "cell_type": "code",
   "execution_count": 9,
   "metadata": {},
   "outputs": [
    {
     "name": "stdout",
     "output_type": "stream",
     "text": [
      "X 데이터의 첫번째 샘플 : [49, 37, 34, 0, 45, 47, 44, 39, 34, 32, 49, 0, 36, 50, 49, 34, 43, 31, 34, 47, 36, 0, 34, 31, 44, 44, 40, 0, 44, 35, 0, 30, 41, 38, 32, 34, 48, 0, 30, 33, 51, 34, 43, 49, 50, 47, 34, 48, 0, 38, 43, 0, 52, 44, 43, 33, 34, 47, 41, 30]\n",
      "y 데이터의 첫번째 샘플 : [37, 34, 0, 45, 47, 44, 39, 34, 32, 49, 0, 36, 50, 49, 34, 43, 31, 34, 47, 36, 0, 34, 31, 44, 44, 40, 0, 44, 35, 0, 30, 41, 38, 32, 34, 48, 0, 30, 33, 51, 34, 43, 49, 50, 47, 34, 48, 0, 38, 43, 0, 52, 44, 43, 33, 34, 47, 41, 30, 43]\n",
      "--------------------------------------------------\n",
      "X 데이터의 첫번째 샘플 디코딩 : ['t', 'h', 'e', ' ', 'p', 'r', 'o', 'j', 'e', 'c', 't', ' ', 'g', 'u', 't', 'e', 'n', 'b', 'e', 'r', 'g', ' ', 'e', 'b', 'o', 'o', 'k', ' ', 'o', 'f', ' ', 'a', 'l', 'i', 'c', 'e', 's', ' ', 'a', 'd', 'v', 'e', 'n', 't', 'u', 'r', 'e', 's', ' ', 'i', 'n', ' ', 'w', 'o', 'n', 'd', 'e', 'r', 'l', 'a']\n",
      "y 데이터의 첫번째 샘플 디코딩 : ['h', 'e', ' ', 'p', 'r', 'o', 'j', 'e', 'c', 't', ' ', 'g', 'u', 't', 'e', 'n', 'b', 'e', 'r', 'g', ' ', 'e', 'b', 'o', 'o', 'k', ' ', 'o', 'f', ' ', 'a', 'l', 'i', 'c', 'e', 's', ' ', 'a', 'd', 'v', 'e', 'n', 't', 'u', 'r', 'e', 's', ' ', 'i', 'n', ' ', 'w', 'o', 'n', 'd', 'e', 'r', 'l', 'a', 'n']\n"
     ]
    }
   ],
   "source": [
    "print('X 데이터의 첫번째 샘플 :',train_X[0])\n",
    "print('y 데이터의 첫번째 샘플 :',train_y[0])\n",
    "print('-'*50)\n",
    "print('X 데이터의 첫번째 샘플 디코딩 :',[index_to_char[i] for i in train_X[0]])\n",
    "print('y 데이터의 첫번째 샘플 디코딩 :',[index_to_char[i] for i in train_y[0]])"
   ]
  },
  {
   "cell_type": "code",
   "execution_count": 10,
   "metadata": {},
   "outputs": [
    {
     "name": "stdout",
     "output_type": "stream",
     "text": [
      "[43, 33, 10, 0, 31, 54, 0, 41, 34, 52, 38, 48, 0, 32, 30, 47, 47, 44, 41, 41, 0, 49, 37, 38, 48, 0, 34, 31, 44, 44, 40, 0, 38, 48, 0, 35, 44, 47, 0, 49, 37, 34, 0, 50, 48, 34, 0, 44, 35, 0, 30, 43, 54, 44, 43, 34, 0, 30, 43, 54]\n"
     ]
    }
   ],
   "source": [
    "print(train_X[1])"
   ]
  },
  {
   "cell_type": "code",
   "execution_count": 11,
   "metadata": {},
   "outputs": [
    {
     "name": "stdout",
     "output_type": "stream",
     "text": [
      "train_X의 크기(shape) : (2658, 60, 56)\n",
      "train_y의 크기(shape) : (2658, 60, 56)\n"
     ]
    }
   ],
   "source": [
    "train_X = to_categorical(train_X)\n",
    "train_y = to_categorical(train_y)\n",
    "\n",
    "print('train_X의 크기(shape) : {}'.format(train_X.shape)) # 원-핫 인코딩\n",
    "print('train_y의 크기(shape) : {}'.format(train_y.shape)) # 원-핫 인코딩"
   ]
  },
  {
   "cell_type": "code",
   "execution_count": 12,
   "metadata": {},
   "outputs": [
    {
     "name": "stdout",
     "output_type": "stream",
     "text": [
      "1 Physical GPUs, 1 Logical GPUs\n",
      "Epoch 1/80\n",
      "84/84 - 11s - loss: 3.0682 - accuracy: 0.1818 - 11s/epoch - 129ms/step\n",
      "Epoch 2/80\n",
      "84/84 - 1s - loss: 2.7435 - accuracy: 0.2454 - 1s/epoch - 14ms/step\n",
      "Epoch 3/80\n",
      "84/84 - 1s - loss: 2.3939 - accuracy: 0.3283 - 1s/epoch - 15ms/step\n",
      "Epoch 4/80\n",
      "84/84 - 1s - loss: 2.2474 - accuracy: 0.3626 - 1s/epoch - 16ms/step\n",
      "Epoch 5/80\n",
      "84/84 - 1s - loss: 2.1513 - accuracy: 0.3875 - 1s/epoch - 16ms/step\n",
      "Epoch 6/80\n",
      "84/84 - 1s - loss: 2.0701 - accuracy: 0.4047 - 1s/epoch - 17ms/step\n",
      "Epoch 7/80\n",
      "84/84 - 1s - loss: 2.0041 - accuracy: 0.4239 - 1s/epoch - 17ms/step\n",
      "Epoch 8/80\n",
      "84/84 - 1s - loss: 1.9510 - accuracy: 0.4364 - 1s/epoch - 16ms/step\n",
      "Epoch 9/80\n",
      "84/84 - 1s - loss: 1.9037 - accuracy: 0.4479 - 1s/epoch - 17ms/step\n",
      "Epoch 10/80\n",
      "84/84 - 1s - loss: 1.8601 - accuracy: 0.4608 - 1s/epoch - 17ms/step\n",
      "Epoch 11/80\n",
      "84/84 - 1s - loss: 1.8181 - accuracy: 0.4732 - 1s/epoch - 17ms/step\n",
      "Epoch 12/80\n",
      "84/84 - 1s - loss: 1.7787 - accuracy: 0.4840 - 1s/epoch - 16ms/step\n",
      "Epoch 13/80\n",
      "84/84 - 1s - loss: 1.7424 - accuracy: 0.4931 - 1s/epoch - 17ms/step\n",
      "Epoch 14/80\n",
      "84/84 - 1s - loss: 1.7071 - accuracy: 0.5019 - 1s/epoch - 17ms/step\n",
      "Epoch 15/80\n",
      "84/84 - 1s - loss: 1.6747 - accuracy: 0.5110 - 1s/epoch - 17ms/step\n",
      "Epoch 16/80\n",
      "84/84 - 1s - loss: 1.6420 - accuracy: 0.5180 - 1s/epoch - 18ms/step\n",
      "Epoch 17/80\n",
      "84/84 - 2s - loss: 1.6097 - accuracy: 0.5276 - 2s/epoch - 18ms/step\n",
      "Epoch 18/80\n",
      "84/84 - 1s - loss: 1.5799 - accuracy: 0.5351 - 1s/epoch - 17ms/step\n",
      "Epoch 19/80\n",
      "84/84 - 1s - loss: 1.5510 - accuracy: 0.5436 - 1s/epoch - 17ms/step\n",
      "Epoch 20/80\n",
      "84/84 - 1s - loss: 1.5217 - accuracy: 0.5514 - 1s/epoch - 17ms/step\n",
      "Epoch 21/80\n",
      "84/84 - 1s - loss: 1.4953 - accuracy: 0.5588 - 1s/epoch - 17ms/step\n",
      "Epoch 22/80\n",
      "84/84 - 1s - loss: 1.4694 - accuracy: 0.5647 - 1s/epoch - 18ms/step\n",
      "Epoch 23/80\n",
      "84/84 - 1s - loss: 1.4413 - accuracy: 0.5729 - 1s/epoch - 17ms/step\n",
      "Epoch 24/80\n",
      "84/84 - 1s - loss: 1.4141 - accuracy: 0.5804 - 1s/epoch - 17ms/step\n",
      "Epoch 25/80\n",
      "84/84 - 1s - loss: 1.3903 - accuracy: 0.5874 - 1s/epoch - 17ms/step\n",
      "Epoch 26/80\n",
      "84/84 - 1s - loss: 1.3652 - accuracy: 0.5933 - 1s/epoch - 18ms/step\n",
      "Epoch 27/80\n",
      "84/84 - 1s - loss: 1.3414 - accuracy: 0.6009 - 1s/epoch - 17ms/step\n",
      "Epoch 28/80\n",
      "84/84 - 1s - loss: 1.3156 - accuracy: 0.6084 - 1s/epoch - 17ms/step\n",
      "Epoch 29/80\n",
      "84/84 - 1s - loss: 1.2885 - accuracy: 0.6159 - 1s/epoch - 17ms/step\n",
      "Epoch 30/80\n",
      "84/84 - 1s - loss: 1.2644 - accuracy: 0.6224 - 1s/epoch - 17ms/step\n",
      "Epoch 31/80\n",
      "84/84 - 1s - loss: 1.2381 - accuracy: 0.6296 - 1s/epoch - 17ms/step\n",
      "Epoch 32/80\n",
      "84/84 - 1s - loss: 1.2161 - accuracy: 0.6369 - 1s/epoch - 17ms/step\n",
      "Epoch 33/80\n",
      "84/84 - 1s - loss: 1.1910 - accuracy: 0.6457 - 1s/epoch - 17ms/step\n",
      "Epoch 34/80\n",
      "84/84 - 2s - loss: 1.1669 - accuracy: 0.6519 - 2s/epoch - 18ms/step\n",
      "Epoch 35/80\n",
      "84/84 - 1s - loss: 1.1418 - accuracy: 0.6587 - 1s/epoch - 17ms/step\n",
      "Epoch 36/80\n",
      "84/84 - 1s - loss: 1.1157 - accuracy: 0.6666 - 1s/epoch - 18ms/step\n",
      "Epoch 37/80\n",
      "84/84 - 1s - loss: 1.0881 - accuracy: 0.6753 - 1s/epoch - 17ms/step\n",
      "Epoch 38/80\n",
      "84/84 - 1s - loss: 1.0660 - accuracy: 0.6810 - 1s/epoch - 17ms/step\n",
      "Epoch 39/80\n",
      "84/84 - 1s - loss: 1.0354 - accuracy: 0.6909 - 1s/epoch - 17ms/step\n",
      "Epoch 40/80\n",
      "84/84 - 1s - loss: 1.0088 - accuracy: 0.6993 - 1s/epoch - 17ms/step\n",
      "Epoch 41/80\n",
      "84/84 - 1s - loss: 0.9881 - accuracy: 0.7050 - 1s/epoch - 17ms/step\n",
      "Epoch 42/80\n",
      "84/84 - 1s - loss: 0.9627 - accuracy: 0.7132 - 1s/epoch - 18ms/step\n",
      "Epoch 43/80\n",
      "84/84 - 1s - loss: 0.9414 - accuracy: 0.7189 - 1s/epoch - 18ms/step\n",
      "Epoch 44/80\n",
      "84/84 - 1s - loss: 0.9115 - accuracy: 0.7290 - 1s/epoch - 18ms/step\n",
      "Epoch 45/80\n",
      "84/84 - 1s - loss: 0.8904 - accuracy: 0.7346 - 1s/epoch - 18ms/step\n",
      "Epoch 46/80\n",
      "84/84 - 1s - loss: 0.8610 - accuracy: 0.7453 - 1s/epoch - 18ms/step\n",
      "Epoch 47/80\n",
      "84/84 - 1s - loss: 0.8439 - accuracy: 0.7489 - 1s/epoch - 18ms/step\n",
      "Epoch 48/80\n",
      "84/84 - 1s - loss: 0.8168 - accuracy: 0.7587 - 1s/epoch - 17ms/step\n",
      "Epoch 49/80\n",
      "84/84 - 1s - loss: 0.7967 - accuracy: 0.7646 - 1s/epoch - 17ms/step\n",
      "Epoch 50/80\n",
      "84/84 - 1s - loss: 0.7725 - accuracy: 0.7716 - 1s/epoch - 18ms/step\n",
      "Epoch 51/80\n",
      "84/84 - 2s - loss: 0.7480 - accuracy: 0.7802 - 2s/epoch - 18ms/step\n",
      "Epoch 52/80\n",
      "84/84 - 1s - loss: 0.7203 - accuracy: 0.7890 - 1s/epoch - 18ms/step\n",
      "Epoch 53/80\n",
      "84/84 - 1s - loss: 0.7024 - accuracy: 0.7953 - 1s/epoch - 17ms/step\n",
      "Epoch 54/80\n",
      "84/84 - 2s - loss: 0.6762 - accuracy: 0.8031 - 2s/epoch - 18ms/step\n",
      "Epoch 55/80\n",
      "84/84 - 2s - loss: 0.6576 - accuracy: 0.8080 - 2s/epoch - 18ms/step\n",
      "Epoch 56/80\n",
      "84/84 - 2s - loss: 0.6350 - accuracy: 0.8158 - 2s/epoch - 19ms/step\n",
      "Epoch 57/80\n",
      "84/84 - 2s - loss: 0.6147 - accuracy: 0.8218 - 2s/epoch - 18ms/step\n",
      "Epoch 58/80\n",
      "84/84 - 2s - loss: 0.6061 - accuracy: 0.8241 - 2s/epoch - 18ms/step\n",
      "Epoch 59/80\n",
      "84/84 - 2s - loss: 0.5742 - accuracy: 0.8363 - 2s/epoch - 19ms/step\n",
      "Epoch 60/80\n",
      "84/84 - 2s - loss: 0.5656 - accuracy: 0.8365 - 2s/epoch - 18ms/step\n",
      "Epoch 61/80\n",
      "84/84 - 1s - loss: 0.5386 - accuracy: 0.8472 - 1s/epoch - 18ms/step\n",
      "Epoch 62/80\n",
      "84/84 - 2s - loss: 0.5226 - accuracy: 0.8514 - 2s/epoch - 18ms/step\n",
      "Epoch 63/80\n",
      "84/84 - 2s - loss: 0.5136 - accuracy: 0.8529 - 2s/epoch - 19ms/step\n",
      "Epoch 64/80\n",
      "84/84 - 2s - loss: 0.5071 - accuracy: 0.8548 - 2s/epoch - 19ms/step\n",
      "Epoch 65/80\n",
      "84/84 - 2s - loss: 0.4812 - accuracy: 0.8642 - 2s/epoch - 18ms/step\n",
      "Epoch 66/80\n",
      "84/84 - 2s - loss: 0.4490 - accuracy: 0.8761 - 2s/epoch - 18ms/step\n",
      "Epoch 67/80\n",
      "84/84 - 1s - loss: 0.4374 - accuracy: 0.8795 - 1s/epoch - 17ms/step\n",
      "Epoch 68/80\n",
      "84/84 - 2s - loss: 0.4151 - accuracy: 0.8869 - 2s/epoch - 18ms/step\n",
      "Epoch 69/80\n",
      "84/84 - 2s - loss: 0.4137 - accuracy: 0.8864 - 2s/epoch - 18ms/step\n",
      "Epoch 70/80\n",
      "84/84 - 2s - loss: 0.3838 - accuracy: 0.8978 - 2s/epoch - 19ms/step\n",
      "Epoch 71/80\n",
      "84/84 - 2s - loss: 0.3800 - accuracy: 0.8975 - 2s/epoch - 18ms/step\n",
      "Epoch 72/80\n",
      "84/84 - 2s - loss: 0.3743 - accuracy: 0.8982 - 2s/epoch - 18ms/step\n",
      "Epoch 73/80\n",
      "84/84 - 2s - loss: 0.3613 - accuracy: 0.9030 - 2s/epoch - 19ms/step\n",
      "Epoch 74/80\n",
      "84/84 - 2s - loss: 0.3479 - accuracy: 0.9075 - 2s/epoch - 18ms/step\n",
      "Epoch 75/80\n",
      "84/84 - 1s - loss: 0.3467 - accuracy: 0.9064 - 1s/epoch - 17ms/step\n",
      "Epoch 76/80\n",
      "84/84 - 2s - loss: 0.3180 - accuracy: 0.9172 - 2s/epoch - 18ms/step\n",
      "Epoch 77/80\n",
      "84/84 - 1s - loss: 0.3149 - accuracy: 0.9173 - 1s/epoch - 17ms/step\n",
      "Epoch 78/80\n",
      "84/84 - 2s - loss: 0.2945 - accuracy: 0.9249 - 2s/epoch - 18ms/step\n",
      "Epoch 79/80\n",
      "84/84 - 2s - loss: 0.2801 - accuracy: 0.9298 - 2s/epoch - 18ms/step\n",
      "Epoch 80/80\n",
      "84/84 - 2s - loss: 0.2624 - accuracy: 0.9359 - 2s/epoch - 18ms/step\n"
     ]
    },
    {
     "data": {
      "text/plain": [
       "<keras.callbacks.History at 0x21c7e1e8a30>"
      ]
     },
     "execution_count": 12,
     "metadata": {},
     "output_type": "execute_result"
    }
   ],
   "source": [
    "from tensorflow.keras.models import Sequential\n",
    "from tensorflow.keras.layers import Dense, LSTM, TimeDistributed\n",
    "\n",
    "import tensorflow as tf\n",
    "physical_devices = tf.config.list_physical_devices('GPU')\n",
    "tf.config.experimental.set_memory_growth(physical_devices[0], enable=True)\n",
    "gpus = tf.config.experimental.list_physical_devices('GPU')\n",
    "if gpus:\n",
    "  # Restrict TensorFlow to only allocate 1GB of memory on the first GPU\n",
    "  try:\n",
    "    tf.config.experimental.set_virtual_device_configuration(\n",
    "        gpus[0],\n",
    "        [tf.config.experimental.VirtualDeviceConfiguration(memory_limit=1024)])\n",
    "    logical_gpus = tf.config.experimental.list_logical_devices('GPU')\n",
    "    print(len(gpus), \"Physical GPUs,\", len(logical_gpus), \"Logical GPUs\")\n",
    "  except RuntimeError as e:\n",
    "    # Virtual devices must be set before GPUs have been initialized\n",
    "    print(e)\n",
    "\n",
    "hidden_units = 256\n",
    "\n",
    "model = Sequential()\n",
    "model.add(LSTM(hidden_units, input_shape=(None, train_X.shape[2]), return_sequences=True))\n",
    "model.add(LSTM(hidden_units, return_sequences=True))\n",
    "model.add(TimeDistributed(Dense(vocab_size, activation='softmax')))\n",
    "\n",
    "model.compile(loss='categorical_crossentropy', optimizer='adam', metrics=['accuracy'])\n",
    "model.fit(train_X, train_y, epochs=80, verbose=2)"
   ]
  },
  {
   "cell_type": "code",
   "execution_count": 13,
   "metadata": {},
   "outputs": [],
   "source": [
    "def sentence_generation(model, length):\n",
    "    # 문자에 대한 랜덤한 정수 생성\n",
    "    ix = [np.random.randint(vocab_size)]\n",
    "\n",
    "    # 랜덤한 정수로부터 맵핑되는 문자 생성\n",
    "    y_char = [index_to_char[ix[-1]]]\n",
    "    print(ix[-1],'번 문자',y_char[-1],'로 예측을 시작!')\n",
    "\n",
    "    # (1, length, 55) 크기의 X 생성. 즉, LSTM의 입력 시퀀스 생성\n",
    "    X = np.zeros((1, length, vocab_size))\n",
    "\n",
    "    for i in range(length):\n",
    "        # X[0][i][예측한 문자의 인덱스] = 1, 즉, 예측 문자를 다음 입력 시퀀스에 추가\n",
    "        X[0][i][ix[-1]] = 1\n",
    "        print(index_to_char[ix[-1]], end=\"\")\n",
    "        ix = np.argmax(model.predict(X[:, :i+1, :])[0], 1)\n",
    "        y_char.append(index_to_char[ix[-1]])\n",
    "    return ('').join(y_char)"
   ]
  },
  {
   "cell_type": "code",
   "execution_count": 14,
   "metadata": {},
   "outputs": [
    {
     "name": "stdout",
     "output_type": "stream",
     "text": [
      "39 번 문자 j 로 예측을 시작!\n",
      "jesty, he feet they were all locked, and contated to see if there were a sortow, the room worts not jesty, he feet they were all locked, and contated to see if there were a sortow, the room worts not p\n"
     ]
    }
   ],
   "source": [
    "result = sentence_generation(model, 100)\n",
    "print(result)"
   ]
  },
  {
   "cell_type": "code",
   "execution_count": null,
   "metadata": {},
   "outputs": [],
   "source": []
  },
  {
   "cell_type": "markdown",
   "metadata": {},
   "source": [
    "# 2. 문자 단위 RNN(Char RNN)으로 텍스트 생성하기"
   ]
  },
  {
   "cell_type": "markdown",
   "metadata": {},
   "source": [
    "1) 데이터에 대한 이해와 전처리"
   ]
  },
  {
   "cell_type": "code",
   "execution_count": 15,
   "metadata": {},
   "outputs": [],
   "source": [
    "import numpy as np\n",
    "from tensorflow.keras.utils import to_categorical"
   ]
  },
  {
   "cell_type": "code",
   "execution_count": 28,
   "metadata": {},
   "outputs": [],
   "source": [
    "raw_text = '''\n",
    "I get on with life as a programmer,\n",
    "I like to contemplate beer.\n",
    "But when I start to daydream,\n",
    "My mind turns straight to wine.\n",
    "\n",
    "Do I love wine more than beer?\n",
    "\n",
    "I like to use words about beer.\n",
    "But when I stop my talking,\n",
    "My mind turns straight to wine.\n",
    "\n",
    "I hate bugs and errors.\n",
    "But I just think back to wine,\n",
    "And I'm happy once again.\n",
    "\n",
    "I like to hang out with programming and deep learning.\n",
    "But when left alone,\n",
    "My mind turns straight to wine.\n",
    "'''"
   ]
  },
  {
   "cell_type": "code",
   "execution_count": 29,
   "metadata": {},
   "outputs": [
    {
     "data": {
      "text/plain": [
       "\"I get on with life as a programmer, I like to contemplate beer. But when I start to daydream, My mind turns straight to wine. Do I love wine more than beer? I like to use words about beer. But when I stop my talking, My mind turns straight to wine. I hate bugs and errors. But I just think back to wine, And I'm happy once again. I like to hang out with programming and deep learning. But when left alone, My mind turns straight to wine.\""
      ]
     },
     "execution_count": 29,
     "metadata": {},
     "output_type": "execute_result"
    }
   ],
   "source": [
    "# 단락을 없애고 하나의 문자열로 재저장\n",
    "tokens = raw_text.split()\n",
    "raw_text = ' '.join(tokens)\n",
    "raw_text"
   ]
  },
  {
   "cell_type": "code",
   "execution_count": 30,
   "metadata": {},
   "outputs": [
    {
     "name": "stdout",
     "output_type": "stream",
     "text": [
      "문자 집합 : [' ', \"'\", ',', '.', '?', 'A', 'B', 'D', 'I', 'M', 'a', 'b', 'c', 'd', 'e', 'f', 'g', 'h', 'i', 'j', 'k', 'l', 'm', 'n', 'o', 'p', 'r', 's', 't', 'u', 'v', 'w', 'y']\n",
      "문자 집합의 크기 : 33\n"
     ]
    }
   ],
   "source": [
    "# 중복을 제거한 문자 집합 생성\n",
    "char_vocab = sorted(list(set(raw_text)))\n",
    "vocab_size = len(char_vocab)\n",
    "print(\"문자 집합 :\",  char_vocab)\n",
    "print(\"문자 집합의 크기 : {}\".format(vocab_size))"
   ]
  },
  {
   "cell_type": "code",
   "execution_count": 31,
   "metadata": {},
   "outputs": [
    {
     "name": "stdout",
     "output_type": "stream",
     "text": [
      "{' ': 0, \"'\": 1, ',': 2, '.': 3, '?': 4, 'A': 5, 'B': 6, 'D': 7, 'I': 8, 'M': 9, 'a': 10, 'b': 11, 'c': 12, 'd': 13, 'e': 14, 'f': 15, 'g': 16, 'h': 17, 'i': 18, 'j': 19, 'k': 20, 'l': 21, 'm': 22, 'n': 23, 'o': 24, 'p': 25, 'r': 26, 's': 27, 't': 28, 'u': 29, 'v': 30, 'w': 31, 'y': 32}\n"
     ]
    }
   ],
   "source": [
    "char_to_index = dict((char, index) for index, char in enumerate(char_vocab))\n",
    "print(char_to_index)"
   ]
  },
  {
   "cell_type": "code",
   "execution_count": 32,
   "metadata": {},
   "outputs": [
    {
     "name": "stdout",
     "output_type": "stream",
     "text": [
      "총 훈련 샘플 수 : 426\n"
     ]
    }
   ],
   "source": [
    "# 훈련에 사용할 문장 샘플들을 만든다\n",
    "# 입력 시퀀스의 길이가 5라고 하면, stude -> n  // tuden -> t 처럼 예측된다\n",
    "# 입력시퀀스가 10이 되도록 구성하고, 예측 대상까지 포함한 길이를 11로 한다\n",
    "length=11\n",
    "sequences = []\n",
    "for i in range(length, len(raw_text)):\n",
    "    seq = raw_text[i-length:i]\n",
    "    sequences.append(seq)\n",
    "print(\"총 훈련 샘플 수 : %d\"%len(sequences))"
   ]
  },
  {
   "cell_type": "code",
   "execution_count": 33,
   "metadata": {},
   "outputs": [
    {
     "data": {
      "text/plain": [
       "['I get on wi',\n",
       " ' get on wit',\n",
       " 'get on with',\n",
       " 'et on with ',\n",
       " 't on with l',\n",
       " ' on with li',\n",
       " 'on with lif',\n",
       " 'n with life',\n",
       " ' with life ',\n",
       " 'with life a']"
      ]
     },
     "execution_count": 33,
     "metadata": {},
     "output_type": "execute_result"
    }
   ],
   "source": [
    "sequences[:10]"
   ]
  },
  {
   "cell_type": "code",
   "execution_count": 36,
   "metadata": {},
   "outputs": [],
   "source": [
    "encoded_sequences = []\n",
    "for sequence in sequences:\n",
    "    # 문장 샘플에서 각 문자에 대하여 정수 인코딩을 수행\n",
    "    encoded_sequence = [char_to_index[char] for char in sequence] \n",
    "    encoded_sequences.append(encoded_sequence)"
   ]
  },
  {
   "cell_type": "code",
   "execution_count": 37,
   "metadata": {},
   "outputs": [
    {
     "data": {
      "text/plain": [
       "[[8, 0, 16, 14, 28, 0, 24, 23, 0, 31, 18],\n",
       " [0, 16, 14, 28, 0, 24, 23, 0, 31, 18, 28],\n",
       " [16, 14, 28, 0, 24, 23, 0, 31, 18, 28, 17],\n",
       " [14, 28, 0, 24, 23, 0, 31, 18, 28, 17, 0],\n",
       " [28, 0, 24, 23, 0, 31, 18, 28, 17, 0, 21]]"
      ]
     },
     "execution_count": 37,
     "metadata": {},
     "output_type": "execute_result"
    }
   ],
   "source": [
    "encoded_sequences[:5]"
   ]
  },
  {
   "cell_type": "code",
   "execution_count": 38,
   "metadata": {},
   "outputs": [],
   "source": [
    "encoded_sequences = np.array(encoded_sequences)\n",
    "\n",
    "X_data = encoded_sequences[:, :-1]\n",
    "y_data = encoded_sequences[:, -1]\n"
   ]
  },
  {
   "cell_type": "code",
   "execution_count": 39,
   "metadata": {},
   "outputs": [],
   "source": [
    "X_data_one_hot = [to_categorical(encoded, num_classes=vocab_size) for encoded in X_data]\n",
    "X_data_one_hot = np.array(X_data_one_hot)\n",
    "\n",
    "y_data_one_hot = to_categorical(y_data, num_classes=vocab_size)"
   ]
  },
  {
   "cell_type": "code",
   "execution_count": 41,
   "metadata": {},
   "outputs": [
    {
     "name": "stdout",
     "output_type": "stream",
     "text": [
      "(426, 10, 33)\n"
     ]
    }
   ],
   "source": [
    "print(X_data_one_hot.shape)\n",
    "# 배치 개수, 타임스탭, 벡터 차원(문자집합의 크기)"
   ]
  },
  {
   "cell_type": "code",
   "execution_count": 42,
   "metadata": {},
   "outputs": [
    {
     "name": "stdout",
     "output_type": "stream",
     "text": [
      "Epoch 1/100\n",
      "14/14 - 2s - loss: 3.4640 - accuracy: 0.1573 - 2s/epoch - 127ms/step\n",
      "Epoch 2/100\n",
      "14/14 - 0s - loss: 3.3482 - accuracy: 0.1972 - 66ms/epoch - 5ms/step\n",
      "Epoch 3/100\n",
      "14/14 - 0s - loss: 3.1154 - accuracy: 0.1972 - 80ms/epoch - 6ms/step\n",
      "Epoch 4/100\n",
      "14/14 - 0s - loss: 3.0010 - accuracy: 0.1972 - 111ms/epoch - 8ms/step\n",
      "Epoch 5/100\n",
      "14/14 - 0s - loss: 2.9630 - accuracy: 0.1972 - 83ms/epoch - 6ms/step\n",
      "Epoch 6/100\n",
      "14/14 - 0s - loss: 2.9422 - accuracy: 0.1972 - 68ms/epoch - 5ms/step\n",
      "Epoch 7/100\n",
      "14/14 - 0s - loss: 2.9223 - accuracy: 0.1972 - 77ms/epoch - 5ms/step\n",
      "Epoch 8/100\n",
      "14/14 - 0s - loss: 2.9150 - accuracy: 0.1972 - 68ms/epoch - 5ms/step\n",
      "Epoch 9/100\n",
      "14/14 - 0s - loss: 2.8933 - accuracy: 0.1972 - 68ms/epoch - 5ms/step\n",
      "Epoch 10/100\n",
      "14/14 - 0s - loss: 2.8740 - accuracy: 0.1972 - 67ms/epoch - 5ms/step\n",
      "Epoch 11/100\n",
      "14/14 - 0s - loss: 2.8540 - accuracy: 0.1972 - 76ms/epoch - 5ms/step\n",
      "Epoch 12/100\n",
      "14/14 - 0s - loss: 2.8340 - accuracy: 0.1972 - 66ms/epoch - 5ms/step\n",
      "Epoch 13/100\n",
      "14/14 - 0s - loss: 2.8051 - accuracy: 0.1972 - 65ms/epoch - 5ms/step\n",
      "Epoch 14/100\n",
      "14/14 - 0s - loss: 2.7737 - accuracy: 0.2113 - 62ms/epoch - 4ms/step\n",
      "Epoch 15/100\n",
      "14/14 - 0s - loss: 2.7525 - accuracy: 0.2113 - 70ms/epoch - 5ms/step\n",
      "Epoch 16/100\n",
      "14/14 - 0s - loss: 2.7101 - accuracy: 0.2113 - 78ms/epoch - 6ms/step\n",
      "Epoch 17/100\n",
      "14/14 - 0s - loss: 2.6716 - accuracy: 0.2700 - 73ms/epoch - 5ms/step\n",
      "Epoch 18/100\n",
      "14/14 - 0s - loss: 2.6421 - accuracy: 0.2559 - 65ms/epoch - 5ms/step\n",
      "Epoch 19/100\n",
      "14/14 - 0s - loss: 2.6045 - accuracy: 0.2817 - 65ms/epoch - 5ms/step\n",
      "Epoch 20/100\n",
      "14/14 - 0s - loss: 2.5629 - accuracy: 0.2817 - 86ms/epoch - 6ms/step\n",
      "Epoch 21/100\n",
      "14/14 - 0s - loss: 2.5148 - accuracy: 0.2911 - 77ms/epoch - 6ms/step\n",
      "Epoch 22/100\n",
      "14/14 - 0s - loss: 2.4823 - accuracy: 0.3099 - 70ms/epoch - 5ms/step\n",
      "Epoch 23/100\n",
      "14/14 - 0s - loss: 2.4332 - accuracy: 0.3075 - 74ms/epoch - 5ms/step\n",
      "Epoch 24/100\n",
      "14/14 - 0s - loss: 2.3935 - accuracy: 0.3239 - 72ms/epoch - 5ms/step\n",
      "Epoch 25/100\n",
      "14/14 - 0s - loss: 2.3517 - accuracy: 0.3709 - 75ms/epoch - 5ms/step\n",
      "Epoch 26/100\n",
      "14/14 - 0s - loss: 2.2955 - accuracy: 0.3380 - 77ms/epoch - 5ms/step\n",
      "Epoch 27/100\n",
      "14/14 - 0s - loss: 2.2693 - accuracy: 0.3850 - 87ms/epoch - 6ms/step\n",
      "Epoch 28/100\n",
      "14/14 - 0s - loss: 2.2117 - accuracy: 0.3826 - 80ms/epoch - 6ms/step\n",
      "Epoch 29/100\n",
      "14/14 - 0s - loss: 2.1755 - accuracy: 0.3991 - 65ms/epoch - 5ms/step\n",
      "Epoch 30/100\n",
      "14/14 - 0s - loss: 2.1362 - accuracy: 0.4014 - 79ms/epoch - 6ms/step\n",
      "Epoch 31/100\n",
      "14/14 - 0s - loss: 2.0951 - accuracy: 0.4108 - 72ms/epoch - 5ms/step\n",
      "Epoch 32/100\n",
      "14/14 - 0s - loss: 2.0533 - accuracy: 0.4249 - 78ms/epoch - 6ms/step\n",
      "Epoch 33/100\n",
      "14/14 - 0s - loss: 2.0016 - accuracy: 0.4531 - 91ms/epoch - 7ms/step\n",
      "Epoch 34/100\n",
      "14/14 - 0s - loss: 1.9717 - accuracy: 0.4554 - 97ms/epoch - 7ms/step\n",
      "Epoch 35/100\n",
      "14/14 - 0s - loss: 1.9202 - accuracy: 0.4906 - 68ms/epoch - 5ms/step\n",
      "Epoch 36/100\n",
      "14/14 - 0s - loss: 1.8879 - accuracy: 0.4718 - 71ms/epoch - 5ms/step\n",
      "Epoch 37/100\n",
      "14/14 - 0s - loss: 1.8470 - accuracy: 0.4977 - 72ms/epoch - 5ms/step\n",
      "Epoch 38/100\n",
      "14/14 - 0s - loss: 1.7961 - accuracy: 0.5164 - 74ms/epoch - 5ms/step\n",
      "Epoch 39/100\n",
      "14/14 - 0s - loss: 1.7647 - accuracy: 0.5141 - 61ms/epoch - 4ms/step\n",
      "Epoch 40/100\n",
      "14/14 - 0s - loss: 1.7326 - accuracy: 0.5493 - 68ms/epoch - 5ms/step\n",
      "Epoch 41/100\n",
      "14/14 - 0s - loss: 1.6823 - accuracy: 0.5657 - 64ms/epoch - 5ms/step\n",
      "Epoch 42/100\n",
      "14/14 - 0s - loss: 1.6270 - accuracy: 0.5892 - 83ms/epoch - 6ms/step\n",
      "Epoch 43/100\n",
      "14/14 - 0s - loss: 1.6020 - accuracy: 0.5704 - 75ms/epoch - 5ms/step\n",
      "Epoch 44/100\n",
      "14/14 - 0s - loss: 1.5489 - accuracy: 0.6103 - 72ms/epoch - 5ms/step\n",
      "Epoch 45/100\n",
      "14/14 - 0s - loss: 1.5009 - accuracy: 0.6080 - 70ms/epoch - 5ms/step\n",
      "Epoch 46/100\n",
      "14/14 - 0s - loss: 1.4713 - accuracy: 0.6244 - 67ms/epoch - 5ms/step\n",
      "Epoch 47/100\n",
      "14/14 - 0s - loss: 1.4448 - accuracy: 0.6385 - 68ms/epoch - 5ms/step\n",
      "Epoch 48/100\n",
      "14/14 - 0s - loss: 1.4178 - accuracy: 0.6479 - 75ms/epoch - 5ms/step\n",
      "Epoch 49/100\n",
      "14/14 - 0s - loss: 1.3748 - accuracy: 0.6455 - 74ms/epoch - 5ms/step\n",
      "Epoch 50/100\n",
      "14/14 - 0s - loss: 1.3279 - accuracy: 0.6761 - 75ms/epoch - 5ms/step\n",
      "Epoch 51/100\n",
      "14/14 - 0s - loss: 1.3015 - accuracy: 0.6714 - 75ms/epoch - 5ms/step\n",
      "Epoch 52/100\n",
      "14/14 - 0s - loss: 1.2903 - accuracy: 0.6948 - 73ms/epoch - 5ms/step\n",
      "Epoch 53/100\n",
      "14/14 - 0s - loss: 1.2459 - accuracy: 0.7136 - 68ms/epoch - 5ms/step\n",
      "Epoch 54/100\n",
      "14/14 - 0s - loss: 1.2044 - accuracy: 0.6948 - 81ms/epoch - 6ms/step\n",
      "Epoch 55/100\n",
      "14/14 - 0s - loss: 1.1585 - accuracy: 0.7347 - 91ms/epoch - 6ms/step\n",
      "Epoch 56/100\n",
      "14/14 - 0s - loss: 1.1327 - accuracy: 0.7347 - 76ms/epoch - 5ms/step\n",
      "Epoch 57/100\n",
      "14/14 - 0s - loss: 1.1315 - accuracy: 0.7277 - 74ms/epoch - 5ms/step\n",
      "Epoch 58/100\n",
      "14/14 - 0s - loss: 1.0817 - accuracy: 0.7418 - 75ms/epoch - 5ms/step\n",
      "Epoch 59/100\n",
      "14/14 - 0s - loss: 1.0480 - accuracy: 0.7512 - 82ms/epoch - 6ms/step\n",
      "Epoch 60/100\n",
      "14/14 - 0s - loss: 1.0158 - accuracy: 0.7606 - 76ms/epoch - 5ms/step\n",
      "Epoch 61/100\n",
      "14/14 - 0s - loss: 0.9997 - accuracy: 0.7676 - 78ms/epoch - 6ms/step\n",
      "Epoch 62/100\n",
      "14/14 - 0s - loss: 0.9507 - accuracy: 0.8075 - 72ms/epoch - 5ms/step\n",
      "Epoch 63/100\n",
      "14/14 - 0s - loss: 0.9359 - accuracy: 0.7864 - 67ms/epoch - 5ms/step\n",
      "Epoch 64/100\n",
      "14/14 - 0s - loss: 0.8992 - accuracy: 0.8122 - 79ms/epoch - 6ms/step\n",
      "Epoch 65/100\n",
      "14/14 - 0s - loss: 0.8869 - accuracy: 0.8146 - 74ms/epoch - 5ms/step\n",
      "Epoch 66/100\n",
      "14/14 - 0s - loss: 0.8577 - accuracy: 0.8169 - 73ms/epoch - 5ms/step\n",
      "Epoch 67/100\n",
      "14/14 - 0s - loss: 0.8277 - accuracy: 0.8310 - 72ms/epoch - 5ms/step\n",
      "Epoch 68/100\n",
      "14/14 - 0s - loss: 0.8065 - accuracy: 0.8427 - 70ms/epoch - 5ms/step\n",
      "Epoch 69/100\n",
      "14/14 - 0s - loss: 0.7857 - accuracy: 0.8427 - 89ms/epoch - 6ms/step\n",
      "Epoch 70/100\n",
      "14/14 - 0s - loss: 0.7789 - accuracy: 0.8427 - 63ms/epoch - 5ms/step\n",
      "Epoch 71/100\n",
      "14/14 - 0s - loss: 0.7628 - accuracy: 0.8451 - 62ms/epoch - 4ms/step\n",
      "Epoch 72/100\n",
      "14/14 - 0s - loss: 0.7350 - accuracy: 0.8451 - 72ms/epoch - 5ms/step\n",
      "Epoch 73/100\n",
      "14/14 - 0s - loss: 0.6843 - accuracy: 0.8803 - 63ms/epoch - 4ms/step\n",
      "Epoch 74/100\n",
      "14/14 - 0s - loss: 0.6621 - accuracy: 0.8850 - 77ms/epoch - 6ms/step\n",
      "Epoch 75/100\n",
      "14/14 - 0s - loss: 0.6459 - accuracy: 0.8873 - 62ms/epoch - 4ms/step\n",
      "Epoch 76/100\n",
      "14/14 - 0s - loss: 0.6323 - accuracy: 0.8897 - 63ms/epoch - 4ms/step\n",
      "Epoch 77/100\n",
      "14/14 - 0s - loss: 0.6067 - accuracy: 0.8967 - 60ms/epoch - 4ms/step\n",
      "Epoch 78/100\n",
      "14/14 - 0s - loss: 0.5958 - accuracy: 0.9108 - 77ms/epoch - 5ms/step\n",
      "Epoch 79/100\n",
      "14/14 - 0s - loss: 0.5764 - accuracy: 0.9085 - 75ms/epoch - 5ms/step\n",
      "Epoch 80/100\n",
      "14/14 - 0s - loss: 0.5479 - accuracy: 0.9178 - 62ms/epoch - 4ms/step\n",
      "Epoch 81/100\n",
      "14/14 - 0s - loss: 0.5309 - accuracy: 0.9155 - 65ms/epoch - 5ms/step\n",
      "Epoch 82/100\n",
      "14/14 - 0s - loss: 0.5225 - accuracy: 0.9178 - 81ms/epoch - 6ms/step\n",
      "Epoch 83/100\n",
      "14/14 - 0s - loss: 0.5084 - accuracy: 0.9225 - 75ms/epoch - 5ms/step\n",
      "Epoch 84/100\n",
      "14/14 - 0s - loss: 0.4968 - accuracy: 0.9319 - 66ms/epoch - 5ms/step\n",
      "Epoch 85/100\n",
      "14/14 - 0s - loss: 0.4732 - accuracy: 0.9437 - 74ms/epoch - 5ms/step\n",
      "Epoch 86/100\n",
      "14/14 - 0s - loss: 0.4618 - accuracy: 0.9507 - 81ms/epoch - 6ms/step\n",
      "Epoch 87/100\n",
      "14/14 - 0s - loss: 0.4477 - accuracy: 0.9601 - 65ms/epoch - 5ms/step\n",
      "Epoch 88/100\n",
      "14/14 - 0s - loss: 0.4334 - accuracy: 0.9507 - 65ms/epoch - 5ms/step\n",
      "Epoch 89/100\n",
      "14/14 - 0s - loss: 0.4163 - accuracy: 0.9601 - 63ms/epoch - 4ms/step\n",
      "Epoch 90/100\n",
      "14/14 - 0s - loss: 0.4002 - accuracy: 0.9577 - 74ms/epoch - 5ms/step\n",
      "Epoch 91/100\n",
      "14/14 - 0s - loss: 0.3855 - accuracy: 0.9648 - 81ms/epoch - 6ms/step\n",
      "Epoch 92/100\n",
      "14/14 - 0s - loss: 0.3775 - accuracy: 0.9624 - 107ms/epoch - 8ms/step\n",
      "Epoch 93/100\n",
      "14/14 - 0s - loss: 0.3651 - accuracy: 0.9671 - 95ms/epoch - 7ms/step\n",
      "Epoch 94/100\n",
      "14/14 - 0s - loss: 0.3568 - accuracy: 0.9624 - 98ms/epoch - 7ms/step\n",
      "Epoch 95/100\n",
      "14/14 - 0s - loss: 0.3434 - accuracy: 0.9648 - 108ms/epoch - 8ms/step\n",
      "Epoch 96/100\n",
      "14/14 - 0s - loss: 0.3332 - accuracy: 0.9742 - 92ms/epoch - 7ms/step\n",
      "Epoch 97/100\n",
      "14/14 - 0s - loss: 0.3188 - accuracy: 0.9648 - 113ms/epoch - 8ms/step\n",
      "Epoch 98/100\n",
      "14/14 - 0s - loss: 0.3112 - accuracy: 0.9718 - 94ms/epoch - 7ms/step\n",
      "Epoch 99/100\n",
      "14/14 - 0s - loss: 0.3018 - accuracy: 0.9718 - 68ms/epoch - 5ms/step\n",
      "Epoch 100/100\n",
      "14/14 - 0s - loss: 0.2936 - accuracy: 0.9718 - 61ms/epoch - 4ms/step\n"
     ]
    },
    {
     "data": {
      "text/plain": [
       "<keras.callbacks.History at 0x21c83d552b0>"
      ]
     },
     "execution_count": 42,
     "metadata": {},
     "output_type": "execute_result"
    }
   ],
   "source": [
    "from tensorflow.keras.models import Sequential\n",
    "from tensorflow.keras.layers import Dense, LSTM\n",
    "from tensorflow.keras.preprocessing.sequence import pad_sequences\n",
    "\n",
    "hidden_units = 64\n",
    "\n",
    "model = Sequential()\n",
    "model.add(LSTM(hidden_units, input_shape=(X_data_one_hot.shape[1], X_data_one_hot.shape[2])))\n",
    "model.add(Dense(vocab_size, activation='softmax'))\n",
    "\n",
    "model.compile(loss='categorical_crossentropy', optimizer='adam', metrics=['accuracy'])\n",
    "model.fit(X_data_one_hot, y_data_one_hot, epochs=100, verbose=2)"
   ]
  },
  {
   "cell_type": "code",
   "execution_count": 43,
   "metadata": {},
   "outputs": [],
   "source": [
    "# 문자열로 다음 문자 예측하기\n",
    "def sentence_generation(model, char_to_index, seq_length, seed_text, n):\n",
    "    \n",
    "    # 초기 시퀀스 \n",
    "    init_text = seed_text\n",
    "    sentence = ''\n",
    "    \n",
    "    # 다음 문자 예측을 n 번 반복\n",
    "    for _ in range(n):\n",
    "        # 현재 시퀀스에 대한 정수 인코딩\n",
    "        encoded = [char_to_index[char] for char in seed_text]\n",
    "        # 데이터 패딩\n",
    "        encoded = pad_sequences([encoded], maxlen=seq_length, padding='pre')\n",
    "        encoded = to_categorical(encoded, num_classes=len(char_to_index))\n",
    "        \n",
    "        # 입력한 X에 대하여 y를 예측하고 y 를 result 에 저장한다\n",
    "        result = model.predict(encoded, verbose=0)\n",
    "        result = np.argmax(result, axis=1)\n",
    "        \n",
    "        for char, index in char_to_index.items():\n",
    "            if index==result:\n",
    "                break\n",
    "            \n",
    "        # 현재 시퀀스 + 예측 문자를 현재 시퀀스로 변경\n",
    "        seed_text = seed_text + char\n",
    "        \n",
    "        # 예측 문자를 문장에 저장한다\n",
    "        sentence = sentence + char\n",
    "        \n",
    "    # n 번의 예측이 끝나면 완성 문장을 리턴한다\n",
    "    sentence = init_text + sentence\n",
    "    return sentence"
   ]
  },
  {
   "cell_type": "code",
   "execution_count": 44,
   "metadata": {},
   "outputs": [
    {
     "name": "stdout",
     "output_type": "stream",
     "text": [
      "I get on with life as a programmer, I like to hang out with programming and deep learning.\n"
     ]
    }
   ],
   "source": [
    "print(sentence_generation(model, char_to_index, 10, 'I get on w', 80))\n"
   ]
  },
  {
   "cell_type": "code",
   "execution_count": null,
   "metadata": {},
   "outputs": [],
   "source": []
  }
 ],
 "metadata": {
  "interpreter": {
   "hash": "a867a277ecf2af885ec9568148caf8a8507793bb561c75f760acfb1c32ff6b3d"
  },
  "kernelspec": {
   "display_name": "Python 3.8.12 ('py38_NLP')",
   "language": "python",
   "name": "python3"
  },
  "language_info": {
   "codemirror_mode": {
    "name": "ipython",
    "version": 3
   },
   "file_extension": ".py",
   "mimetype": "text/x-python",
   "name": "python",
   "nbconvert_exporter": "python",
   "pygments_lexer": "ipython3",
   "version": "3.8.12"
  },
  "orig_nbformat": 4
 },
 "nbformat": 4,
 "nbformat_minor": 2
}
