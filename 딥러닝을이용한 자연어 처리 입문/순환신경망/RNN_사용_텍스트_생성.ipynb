{
 "cells": [
  {
   "cell_type": "markdown",
   "metadata": {},
   "source": [
    "# RNN 이용한 텍스트 생성"
   ]
  },
  {
   "cell_type": "code",
   "execution_count": 1,
   "metadata": {},
   "outputs": [],
   "source": [
    "import numpy as np\n",
    "from tensorflow.keras.preprocessing.text import Tokenizer\n",
    "from tensorflow.keras.preprocessing.sequence import pad_sequences\n",
    "from tensorflow.keras.utils import to_categorical"
   ]
  },
  {
   "cell_type": "code",
   "execution_count": 2,
   "metadata": {},
   "outputs": [],
   "source": [
    "text = \"\"\"경마장에 있는 말이 뛰고 있다\\n\n",
    "그의 말이 법이다\\n\n",
    "가는 말이 고와야 오는 말이 곱다\\n\"\"\""
   ]
  },
  {
   "cell_type": "code",
   "execution_count": 7,
   "metadata": {},
   "outputs": [
    {
     "name": "stdout",
     "output_type": "stream",
     "text": [
      "단어 집합의 크기 :  12\n"
     ]
    }
   ],
   "source": [
    "tokenizer = Tokenizer()\n",
    "tokenizer.fit_on_texts([text])\n",
    "vocab_size = len(tokenizer.word_index)+1\n",
    "print(\"단어 집합의 크기 : \", vocab_size)"
   ]
  },
  {
   "cell_type": "code",
   "execution_count": 10,
   "metadata": {},
   "outputs": [
    {
     "name": "stdout",
     "output_type": "stream",
     "text": [
      "{'말이': 1, '경마장에': 2, '있는': 3, '뛰고': 4, '있다': 5, '그의': 6, '법이다': 7, '가는': 8, '고와야': 9, '오는': 10, '곱다': 11}\n"
     ]
    }
   ],
   "source": [
    "print(tokenizer.word_index)\n"
   ]
  },
  {
   "cell_type": "markdown",
   "metadata": {},
   "source": [
    "훈련 데이터 만들기 "
   ]
  },
  {
   "cell_type": "code",
   "execution_count": 13,
   "metadata": {},
   "outputs": [
    {
     "name": "stdout",
     "output_type": "stream",
     "text": [
      "학습에 사용할 샘플의 개수 :  11\n"
     ]
    }
   ],
   "source": [
    "sequences = list()\n",
    "for line in text.split('\\n'):\n",
    "    encoded= tokenizer.texts_to_sequences([line])[0]\n",
    "    for i in range(1, len(encoded)):\n",
    "        sequence = encoded[:i+1]\n",
    "        sequences.append(sequence)\n",
    "print(\"학습에 사용할 샘플의 개수 : \", len(sequences))\n",
    "    "
   ]
  },
  {
   "cell_type": "code",
   "execution_count": 15,
   "metadata": {},
   "outputs": [
    {
     "name": "stdout",
     "output_type": "stream",
     "text": [
      "샘플의 최대 길이 : 6\n"
     ]
    }
   ],
   "source": [
    "max_len = max(len(l) for l in sequences)\n",
    "print(\"샘플의 최대 길이 :\", max_len)"
   ]
  },
  {
   "cell_type": "code",
   "execution_count": 17,
   "metadata": {},
   "outputs": [
    {
     "name": "stdout",
     "output_type": "stream",
     "text": [
      "[[ 0  0  0  0  2  3]\n",
      " [ 0  0  0  2  3  1]\n",
      " [ 0  0  2  3  1  4]\n",
      " [ 0  2  3  1  4  5]\n",
      " [ 0  0  0  0  6  1]\n",
      " [ 0  0  0  6  1  7]\n",
      " [ 0  0  0  0  8  1]\n",
      " [ 0  0  0  8  1  9]\n",
      " [ 0  0  8  1  9 10]\n",
      " [ 0  8  1  9 10  1]\n",
      " [ 8  1  9 10  1 11]]\n"
     ]
    }
   ],
   "source": [
    "# 길이가 6보다 짧은 모든 샘플에 대하여 앞에 0을 채워주는 패딩\n",
    "sequences = pad_sequences(sequences, maxlen=max_len, padding='pre')\n",
    "print(sequences)"
   ]
  },
  {
   "cell_type": "code",
   "execution_count": 18,
   "metadata": {},
   "outputs": [],
   "source": [
    "# 레이블링\n",
    "sequences = np.array(sequences)\n",
    "X=sequences[:, :-1]\n",
    "y= sequences[:,-1]"
   ]
  },
  {
   "cell_type": "code",
   "execution_count": 19,
   "metadata": {},
   "outputs": [
    {
     "name": "stdout",
     "output_type": "stream",
     "text": [
      "[[ 0  0  0  0  2]\n",
      " [ 0  0  0  2  3]\n",
      " [ 0  0  2  3  1]\n",
      " [ 0  2  3  1  4]\n",
      " [ 0  0  0  0  6]\n",
      " [ 0  0  0  6  1]\n",
      " [ 0  0  0  0  8]\n",
      " [ 0  0  0  8  1]\n",
      " [ 0  0  8  1  9]\n",
      " [ 0  8  1  9 10]\n",
      " [ 8  1  9 10  1]]\n"
     ]
    }
   ],
   "source": [
    "print(X)"
   ]
  },
  {
   "cell_type": "code",
   "execution_count": 20,
   "metadata": {},
   "outputs": [
    {
     "name": "stdout",
     "output_type": "stream",
     "text": [
      "[ 3  1  4  5  1  7  1  9 10  1 11]\n"
     ]
    }
   ],
   "source": [
    "print(y)"
   ]
  },
  {
   "cell_type": "code",
   "execution_count": 21,
   "metadata": {},
   "outputs": [],
   "source": [
    "# 원핫 인코딩\n",
    "y= to_categorical(y, num_classes=vocab_size)"
   ]
  },
  {
   "cell_type": "code",
   "execution_count": 22,
   "metadata": {},
   "outputs": [
    {
     "name": "stdout",
     "output_type": "stream",
     "text": [
      "[[0. 0. 0. 1. 0. 0. 0. 0. 0. 0. 0. 0.]\n",
      " [0. 1. 0. 0. 0. 0. 0. 0. 0. 0. 0. 0.]\n",
      " [0. 0. 0. 0. 1. 0. 0. 0. 0. 0. 0. 0.]\n",
      " [0. 0. 0. 0. 0. 1. 0. 0. 0. 0. 0. 0.]\n",
      " [0. 1. 0. 0. 0. 0. 0. 0. 0. 0. 0. 0.]\n",
      " [0. 0. 0. 0. 0. 0. 0. 1. 0. 0. 0. 0.]\n",
      " [0. 1. 0. 0. 0. 0. 0. 0. 0. 0. 0. 0.]\n",
      " [0. 0. 0. 0. 0. 0. 0. 0. 0. 1. 0. 0.]\n",
      " [0. 0. 0. 0. 0. 0. 0. 0. 0. 0. 1. 0.]\n",
      " [0. 1. 0. 0. 0. 0. 0. 0. 0. 0. 0. 0.]\n",
      " [0. 0. 0. 0. 0. 0. 0. 0. 0. 0. 0. 1.]]\n"
     ]
    }
   ],
   "source": [
    "print(y)"
   ]
  },
  {
   "cell_type": "markdown",
   "metadata": {},
   "source": [
    "RNN 모델 설계하기"
   ]
  },
  {
   "cell_type": "code",
   "execution_count": 23,
   "metadata": {},
   "outputs": [
    {
     "name": "stdout",
     "output_type": "stream",
     "text": [
      "Epoch 1/200\n",
      "1/1 - 2s - loss: 2.4804 - accuracy: 0.0000e+00 - 2s/epoch - 2s/step\n",
      "Epoch 2/200\n",
      "1/1 - 0s - loss: 2.4669 - accuracy: 0.0909 - 27ms/epoch - 27ms/step\n",
      "Epoch 3/200\n",
      "1/1 - 0s - loss: 2.4535 - accuracy: 0.1818 - 25ms/epoch - 25ms/step\n",
      "Epoch 4/200\n",
      "1/1 - 0s - loss: 2.4400 - accuracy: 0.2727 - 16ms/epoch - 16ms/step\n",
      "Epoch 5/200\n",
      "1/1 - 0s - loss: 2.4265 - accuracy: 0.3636 - 14ms/epoch - 14ms/step\n",
      "Epoch 6/200\n",
      "1/1 - 0s - loss: 2.4129 - accuracy: 0.3636 - 14ms/epoch - 14ms/step\n",
      "Epoch 7/200\n",
      "1/1 - 0s - loss: 2.3990 - accuracy: 0.4545 - 15ms/epoch - 15ms/step\n",
      "Epoch 8/200\n",
      "1/1 - 0s - loss: 2.3849 - accuracy: 0.4545 - 15ms/epoch - 15ms/step\n",
      "Epoch 9/200\n",
      "1/1 - 0s - loss: 2.3704 - accuracy: 0.4545 - 16ms/epoch - 16ms/step\n",
      "Epoch 10/200\n",
      "1/1 - 0s - loss: 2.3555 - accuracy: 0.4545 - 15ms/epoch - 15ms/step\n",
      "Epoch 11/200\n",
      "1/1 - 0s - loss: 2.3400 - accuracy: 0.5455 - 15ms/epoch - 15ms/step\n",
      "Epoch 12/200\n",
      "1/1 - 0s - loss: 2.3240 - accuracy: 0.5455 - 14ms/epoch - 14ms/step\n",
      "Epoch 13/200\n",
      "1/1 - 0s - loss: 2.3074 - accuracy: 0.5455 - 14ms/epoch - 14ms/step\n",
      "Epoch 14/200\n",
      "1/1 - 0s - loss: 2.2901 - accuracy: 0.5455 - 14ms/epoch - 14ms/step\n",
      "Epoch 15/200\n",
      "1/1 - 0s - loss: 2.2721 - accuracy: 0.4545 - 16ms/epoch - 16ms/step\n",
      "Epoch 16/200\n",
      "1/1 - 0s - loss: 2.2534 - accuracy: 0.4545 - 15ms/epoch - 15ms/step\n",
      "Epoch 17/200\n",
      "1/1 - 0s - loss: 2.2338 - accuracy: 0.4545 - 14ms/epoch - 14ms/step\n",
      "Epoch 18/200\n",
      "1/1 - 0s - loss: 2.2135 - accuracy: 0.4545 - 15ms/epoch - 15ms/step\n",
      "Epoch 19/200\n",
      "1/1 - 0s - loss: 2.1924 - accuracy: 0.3636 - 15ms/epoch - 15ms/step\n",
      "Epoch 20/200\n",
      "1/1 - 0s - loss: 2.1705 - accuracy: 0.3636 - 16ms/epoch - 16ms/step\n",
      "Epoch 21/200\n",
      "1/1 - 0s - loss: 2.1481 - accuracy: 0.3636 - 16ms/epoch - 16ms/step\n",
      "Epoch 22/200\n",
      "1/1 - 0s - loss: 2.1250 - accuracy: 0.3636 - 14ms/epoch - 14ms/step\n",
      "Epoch 23/200\n",
      "1/1 - 0s - loss: 2.1015 - accuracy: 0.3636 - 15ms/epoch - 15ms/step\n",
      "Epoch 24/200\n",
      "1/1 - 0s - loss: 2.0777 - accuracy: 0.3636 - 16ms/epoch - 16ms/step\n",
      "Epoch 25/200\n",
      "1/1 - 0s - loss: 2.0538 - accuracy: 0.3636 - 15ms/epoch - 15ms/step\n",
      "Epoch 26/200\n",
      "1/1 - 0s - loss: 2.0300 - accuracy: 0.3636 - 15ms/epoch - 15ms/step\n",
      "Epoch 27/200\n",
      "1/1 - 0s - loss: 2.0065 - accuracy: 0.3636 - 14ms/epoch - 14ms/step\n",
      "Epoch 28/200\n",
      "1/1 - 0s - loss: 1.9836 - accuracy: 0.3636 - 14ms/epoch - 14ms/step\n",
      "Epoch 29/200\n",
      "1/1 - 0s - loss: 1.9613 - accuracy: 0.3636 - 16ms/epoch - 16ms/step\n",
      "Epoch 30/200\n",
      "1/1 - 0s - loss: 1.9400 - accuracy: 0.3636 - 15ms/epoch - 15ms/step\n",
      "Epoch 31/200\n",
      "1/1 - 0s - loss: 1.9197 - accuracy: 0.3636 - 18ms/epoch - 18ms/step\n",
      "Epoch 32/200\n",
      "1/1 - 0s - loss: 1.9004 - accuracy: 0.3636 - 18ms/epoch - 18ms/step\n",
      "Epoch 33/200\n",
      "1/1 - 0s - loss: 1.8822 - accuracy: 0.3636 - 17ms/epoch - 17ms/step\n",
      "Epoch 34/200\n",
      "1/1 - 0s - loss: 1.8649 - accuracy: 0.3636 - 16ms/epoch - 16ms/step\n",
      "Epoch 35/200\n",
      "1/1 - 0s - loss: 1.8483 - accuracy: 0.3636 - 15ms/epoch - 15ms/step\n",
      "Epoch 36/200\n",
      "1/1 - 0s - loss: 1.8321 - accuracy: 0.3636 - 15ms/epoch - 15ms/step\n",
      "Epoch 37/200\n",
      "1/1 - 0s - loss: 1.8162 - accuracy: 0.3636 - 23ms/epoch - 23ms/step\n",
      "Epoch 38/200\n",
      "1/1 - 0s - loss: 1.8002 - accuracy: 0.3636 - 14ms/epoch - 14ms/step\n",
      "Epoch 39/200\n",
      "1/1 - 0s - loss: 1.7841 - accuracy: 0.3636 - 15ms/epoch - 15ms/step\n",
      "Epoch 40/200\n",
      "1/1 - 0s - loss: 1.7677 - accuracy: 0.3636 - 16ms/epoch - 16ms/step\n",
      "Epoch 41/200\n",
      "1/1 - 0s - loss: 1.7510 - accuracy: 0.4545 - 16ms/epoch - 16ms/step\n",
      "Epoch 42/200\n",
      "1/1 - 0s - loss: 1.7339 - accuracy: 0.4545 - 16ms/epoch - 16ms/step\n",
      "Epoch 43/200\n",
      "1/1 - 0s - loss: 1.7165 - accuracy: 0.4545 - 15ms/epoch - 15ms/step\n",
      "Epoch 44/200\n",
      "1/1 - 0s - loss: 1.6988 - accuracy: 0.4545 - 15ms/epoch - 15ms/step\n",
      "Epoch 45/200\n",
      "1/1 - 0s - loss: 1.6809 - accuracy: 0.4545 - 14ms/epoch - 14ms/step\n",
      "Epoch 46/200\n",
      "1/1 - 0s - loss: 1.6628 - accuracy: 0.4545 - 15ms/epoch - 15ms/step\n",
      "Epoch 47/200\n",
      "1/1 - 0s - loss: 1.6446 - accuracy: 0.4545 - 15ms/epoch - 15ms/step\n",
      "Epoch 48/200\n",
      "1/1 - 0s - loss: 1.6261 - accuracy: 0.4545 - 16ms/epoch - 16ms/step\n",
      "Epoch 49/200\n",
      "1/1 - 0s - loss: 1.6074 - accuracy: 0.4545 - 13ms/epoch - 13ms/step\n",
      "Epoch 50/200\n",
      "1/1 - 0s - loss: 1.5884 - accuracy: 0.4545 - 13ms/epoch - 13ms/step\n",
      "Epoch 51/200\n",
      "1/1 - 0s - loss: 1.5690 - accuracy: 0.4545 - 14ms/epoch - 14ms/step\n",
      "Epoch 52/200\n",
      "1/1 - 0s - loss: 1.5493 - accuracy: 0.4545 - 15ms/epoch - 15ms/step\n",
      "Epoch 53/200\n",
      "1/1 - 0s - loss: 1.5291 - accuracy: 0.4545 - 14ms/epoch - 14ms/step\n",
      "Epoch 54/200\n",
      "1/1 - 0s - loss: 1.5086 - accuracy: 0.4545 - 14ms/epoch - 14ms/step\n",
      "Epoch 55/200\n",
      "1/1 - 0s - loss: 1.4876 - accuracy: 0.4545 - 15ms/epoch - 15ms/step\n",
      "Epoch 56/200\n",
      "1/1 - 0s - loss: 1.4663 - accuracy: 0.5455 - 14ms/epoch - 14ms/step\n",
      "Epoch 57/200\n",
      "1/1 - 0s - loss: 1.4447 - accuracy: 0.5455 - 14ms/epoch - 14ms/step\n",
      "Epoch 58/200\n",
      "1/1 - 0s - loss: 1.4229 - accuracy: 0.5455 - 15ms/epoch - 15ms/step\n",
      "Epoch 59/200\n",
      "1/1 - 0s - loss: 1.4010 - accuracy: 0.5455 - 15ms/epoch - 15ms/step\n",
      "Epoch 60/200\n",
      "1/1 - 0s - loss: 1.3790 - accuracy: 0.5455 - 14ms/epoch - 14ms/step\n",
      "Epoch 61/200\n",
      "1/1 - 0s - loss: 1.3571 - accuracy: 0.5455 - 15ms/epoch - 15ms/step\n",
      "Epoch 62/200\n",
      "1/1 - 0s - loss: 1.3353 - accuracy: 0.6364 - 14ms/epoch - 14ms/step\n",
      "Epoch 63/200\n",
      "1/1 - 0s - loss: 1.3136 - accuracy: 0.6364 - 14ms/epoch - 14ms/step\n",
      "Epoch 64/200\n",
      "1/1 - 0s - loss: 1.2921 - accuracy: 0.6364 - 15ms/epoch - 15ms/step\n",
      "Epoch 65/200\n",
      "1/1 - 0s - loss: 1.2708 - accuracy: 0.6364 - 17ms/epoch - 17ms/step\n",
      "Epoch 66/200\n",
      "1/1 - 0s - loss: 1.2497 - accuracy: 0.6364 - 19ms/epoch - 19ms/step\n",
      "Epoch 67/200\n",
      "1/1 - 0s - loss: 1.2290 - accuracy: 0.6364 - 14ms/epoch - 14ms/step\n",
      "Epoch 68/200\n",
      "1/1 - 0s - loss: 1.2084 - accuracy: 0.6364 - 14ms/epoch - 14ms/step\n",
      "Epoch 69/200\n",
      "1/1 - 0s - loss: 1.1882 - accuracy: 0.6364 - 14ms/epoch - 14ms/step\n",
      "Epoch 70/200\n",
      "1/1 - 0s - loss: 1.1682 - accuracy: 0.6364 - 14ms/epoch - 14ms/step\n",
      "Epoch 71/200\n",
      "1/1 - 0s - loss: 1.1485 - accuracy: 0.6364 - 16ms/epoch - 16ms/step\n",
      "Epoch 72/200\n",
      "1/1 - 0s - loss: 1.1291 - accuracy: 0.6364 - 15ms/epoch - 15ms/step\n",
      "Epoch 73/200\n",
      "1/1 - 0s - loss: 1.1099 - accuracy: 0.6364 - 15ms/epoch - 15ms/step\n",
      "Epoch 74/200\n",
      "1/1 - 0s - loss: 1.0911 - accuracy: 0.6364 - 14ms/epoch - 14ms/step\n",
      "Epoch 75/200\n",
      "1/1 - 0s - loss: 1.0725 - accuracy: 0.6364 - 13ms/epoch - 13ms/step\n",
      "Epoch 76/200\n",
      "1/1 - 0s - loss: 1.0542 - accuracy: 0.6364 - 14ms/epoch - 14ms/step\n",
      "Epoch 77/200\n",
      "1/1 - 0s - loss: 1.0362 - accuracy: 0.6364 - 15ms/epoch - 15ms/step\n",
      "Epoch 78/200\n",
      "1/1 - 0s - loss: 1.0184 - accuracy: 0.6364 - 15ms/epoch - 15ms/step\n",
      "Epoch 79/200\n",
      "1/1 - 0s - loss: 1.0010 - accuracy: 0.6364 - 16ms/epoch - 16ms/step\n",
      "Epoch 80/200\n",
      "1/1 - 0s - loss: 0.9837 - accuracy: 0.6364 - 14ms/epoch - 14ms/step\n",
      "Epoch 81/200\n",
      "1/1 - 0s - loss: 0.9668 - accuracy: 0.6364 - 16ms/epoch - 16ms/step\n",
      "Epoch 82/200\n",
      "1/1 - 0s - loss: 0.9501 - accuracy: 0.6364 - 16ms/epoch - 16ms/step\n",
      "Epoch 83/200\n",
      "1/1 - 0s - loss: 0.9336 - accuracy: 0.6364 - 14ms/epoch - 14ms/step\n",
      "Epoch 84/200\n",
      "1/1 - 0s - loss: 0.9175 - accuracy: 0.6364 - 15ms/epoch - 15ms/step\n",
      "Epoch 85/200\n",
      "1/1 - 0s - loss: 0.9016 - accuracy: 0.6364 - 14ms/epoch - 14ms/step\n",
      "Epoch 86/200\n",
      "1/1 - 0s - loss: 0.8860 - accuracy: 0.7273 - 15ms/epoch - 15ms/step\n",
      "Epoch 87/200\n",
      "1/1 - 0s - loss: 0.8706 - accuracy: 0.7273 - 15ms/epoch - 15ms/step\n",
      "Epoch 88/200\n",
      "1/1 - 0s - loss: 0.8556 - accuracy: 0.7273 - 15ms/epoch - 15ms/step\n",
      "Epoch 89/200\n",
      "1/1 - 0s - loss: 0.8409 - accuracy: 0.8182 - 14ms/epoch - 14ms/step\n",
      "Epoch 90/200\n",
      "1/1 - 0s - loss: 0.8264 - accuracy: 0.8182 - 14ms/epoch - 14ms/step\n",
      "Epoch 91/200\n",
      "1/1 - 0s - loss: 0.8123 - accuracy: 0.8182 - 14ms/epoch - 14ms/step\n",
      "Epoch 92/200\n",
      "1/1 - 0s - loss: 0.7984 - accuracy: 0.8182 - 15ms/epoch - 15ms/step\n",
      "Epoch 93/200\n",
      "1/1 - 0s - loss: 0.7848 - accuracy: 0.8182 - 16ms/epoch - 16ms/step\n",
      "Epoch 94/200\n",
      "1/1 - 0s - loss: 0.7715 - accuracy: 0.8182 - 14ms/epoch - 14ms/step\n",
      "Epoch 95/200\n",
      "1/1 - 0s - loss: 0.7585 - accuracy: 0.8182 - 13ms/epoch - 13ms/step\n",
      "Epoch 96/200\n",
      "1/1 - 0s - loss: 0.7458 - accuracy: 0.8182 - 25ms/epoch - 25ms/step\n",
      "Epoch 97/200\n",
      "1/1 - 0s - loss: 0.7333 - accuracy: 0.8182 - 18ms/epoch - 18ms/step\n",
      "Epoch 98/200\n",
      "1/1 - 0s - loss: 0.7211 - accuracy: 0.8182 - 17ms/epoch - 17ms/step\n",
      "Epoch 99/200\n",
      "1/1 - 0s - loss: 0.7091 - accuracy: 0.8182 - 15ms/epoch - 15ms/step\n",
      "Epoch 100/200\n",
      "1/1 - 0s - loss: 0.6974 - accuracy: 0.8182 - 14ms/epoch - 14ms/step\n",
      "Epoch 101/200\n",
      "1/1 - 0s - loss: 0.6859 - accuracy: 0.8182 - 14ms/epoch - 14ms/step\n",
      "Epoch 102/200\n",
      "1/1 - 0s - loss: 0.6746 - accuracy: 0.8182 - 15ms/epoch - 15ms/step\n",
      "Epoch 103/200\n",
      "1/1 - 0s - loss: 0.6636 - accuracy: 0.8182 - 14ms/epoch - 14ms/step\n",
      "Epoch 104/200\n",
      "1/1 - 0s - loss: 0.6527 - accuracy: 0.8182 - 14ms/epoch - 14ms/step\n",
      "Epoch 105/200\n",
      "1/1 - 0s - loss: 0.6421 - accuracy: 0.8182 - 15ms/epoch - 15ms/step\n",
      "Epoch 106/200\n",
      "1/1 - 0s - loss: 0.6317 - accuracy: 0.8182 - 15ms/epoch - 15ms/step\n",
      "Epoch 107/200\n",
      "1/1 - 0s - loss: 0.6214 - accuracy: 0.8182 - 15ms/epoch - 15ms/step\n",
      "Epoch 108/200\n",
      "1/1 - 0s - loss: 0.6114 - accuracy: 0.8182 - 14ms/epoch - 14ms/step\n",
      "Epoch 109/200\n",
      "1/1 - 0s - loss: 0.6016 - accuracy: 0.8182 - 14ms/epoch - 14ms/step\n",
      "Epoch 110/200\n",
      "1/1 - 0s - loss: 0.5919 - accuracy: 0.8182 - 15ms/epoch - 15ms/step\n",
      "Epoch 111/200\n",
      "1/1 - 0s - loss: 0.5824 - accuracy: 0.8182 - 16ms/epoch - 16ms/step\n",
      "Epoch 112/200\n",
      "1/1 - 0s - loss: 0.5731 - accuracy: 0.8182 - 14ms/epoch - 14ms/step\n",
      "Epoch 113/200\n",
      "1/1 - 0s - loss: 0.5640 - accuracy: 0.8182 - 15ms/epoch - 15ms/step\n",
      "Epoch 114/200\n",
      "1/1 - 0s - loss: 0.5551 - accuracy: 0.8182 - 16ms/epoch - 16ms/step\n",
      "Epoch 115/200\n",
      "1/1 - 0s - loss: 0.5463 - accuracy: 0.8182 - 14ms/epoch - 14ms/step\n",
      "Epoch 116/200\n",
      "1/1 - 0s - loss: 0.5378 - accuracy: 0.8182 - 14ms/epoch - 14ms/step\n",
      "Epoch 117/200\n",
      "1/1 - 0s - loss: 0.5294 - accuracy: 0.8182 - 14ms/epoch - 14ms/step\n",
      "Epoch 118/200\n",
      "1/1 - 0s - loss: 0.5211 - accuracy: 0.8182 - 14ms/epoch - 14ms/step\n",
      "Epoch 119/200\n",
      "1/1 - 0s - loss: 0.5131 - accuracy: 0.8182 - 14ms/epoch - 14ms/step\n",
      "Epoch 120/200\n",
      "1/1 - 0s - loss: 0.5052 - accuracy: 0.8182 - 14ms/epoch - 14ms/step\n",
      "Epoch 121/200\n",
      "1/1 - 0s - loss: 0.4974 - accuracy: 0.8182 - 15ms/epoch - 15ms/step\n",
      "Epoch 122/200\n",
      "1/1 - 0s - loss: 0.4898 - accuracy: 0.8182 - 16ms/epoch - 16ms/step\n",
      "Epoch 123/200\n",
      "1/1 - 0s - loss: 0.4824 - accuracy: 0.8182 - 15ms/epoch - 15ms/step\n",
      "Epoch 124/200\n",
      "1/1 - 0s - loss: 0.4751 - accuracy: 0.8182 - 14ms/epoch - 14ms/step\n",
      "Epoch 125/200\n",
      "1/1 - 0s - loss: 0.4680 - accuracy: 0.8182 - 15ms/epoch - 15ms/step\n",
      "Epoch 126/200\n",
      "1/1 - 0s - loss: 0.4611 - accuracy: 0.8182 - 15ms/epoch - 15ms/step\n",
      "Epoch 127/200\n",
      "1/1 - 0s - loss: 0.4542 - accuracy: 0.8182 - 14ms/epoch - 14ms/step\n",
      "Epoch 128/200\n",
      "1/1 - 0s - loss: 0.4476 - accuracy: 0.8182 - 14ms/epoch - 14ms/step\n",
      "Epoch 129/200\n",
      "1/1 - 0s - loss: 0.4410 - accuracy: 0.8182 - 15ms/epoch - 15ms/step\n",
      "Epoch 130/200\n",
      "1/1 - 0s - loss: 0.4346 - accuracy: 0.8182 - 14ms/epoch - 14ms/step\n",
      "Epoch 131/200\n",
      "1/1 - 0s - loss: 0.4284 - accuracy: 0.8182 - 15ms/epoch - 15ms/step\n",
      "Epoch 132/200\n",
      "1/1 - 0s - loss: 0.4222 - accuracy: 0.8182 - 14ms/epoch - 14ms/step\n",
      "Epoch 133/200\n",
      "1/1 - 0s - loss: 0.4162 - accuracy: 0.8182 - 14ms/epoch - 14ms/step\n",
      "Epoch 134/200\n",
      "1/1 - 0s - loss: 0.4103 - accuracy: 0.8182 - 14ms/epoch - 14ms/step\n",
      "Epoch 135/200\n",
      "1/1 - 0s - loss: 0.4046 - accuracy: 0.8182 - 21ms/epoch - 21ms/step\n",
      "Epoch 136/200\n",
      "1/1 - 0s - loss: 0.3989 - accuracy: 0.8182 - 15ms/epoch - 15ms/step\n",
      "Epoch 137/200\n",
      "1/1 - 0s - loss: 0.3934 - accuracy: 0.8182 - 15ms/epoch - 15ms/step\n",
      "Epoch 138/200\n",
      "1/1 - 0s - loss: 0.3880 - accuracy: 0.8182 - 14ms/epoch - 14ms/step\n",
      "Epoch 139/200\n",
      "1/1 - 0s - loss: 0.3827 - accuracy: 0.9091 - 16ms/epoch - 16ms/step\n",
      "Epoch 140/200\n",
      "1/1 - 0s - loss: 0.3775 - accuracy: 1.0000 - 15ms/epoch - 15ms/step\n",
      "Epoch 141/200\n",
      "1/1 - 0s - loss: 0.3724 - accuracy: 1.0000 - 14ms/epoch - 14ms/step\n",
      "Epoch 142/200\n",
      "1/1 - 0s - loss: 0.3674 - accuracy: 1.0000 - 15ms/epoch - 15ms/step\n",
      "Epoch 143/200\n",
      "1/1 - 0s - loss: 0.3625 - accuracy: 1.0000 - 15ms/epoch - 15ms/step\n",
      "Epoch 144/200\n",
      "1/1 - 0s - loss: 0.3577 - accuracy: 1.0000 - 15ms/epoch - 15ms/step\n",
      "Epoch 145/200\n",
      "1/1 - 0s - loss: 0.3530 - accuracy: 1.0000 - 15ms/epoch - 15ms/step\n",
      "Epoch 146/200\n",
      "1/1 - 0s - loss: 0.3484 - accuracy: 1.0000 - 14ms/epoch - 14ms/step\n",
      "Epoch 147/200\n",
      "1/1 - 0s - loss: 0.3439 - accuracy: 1.0000 - 14ms/epoch - 14ms/step\n",
      "Epoch 148/200\n",
      "1/1 - 0s - loss: 0.3394 - accuracy: 1.0000 - 21ms/epoch - 21ms/step\n",
      "Epoch 149/200\n",
      "1/1 - 0s - loss: 0.3351 - accuracy: 1.0000 - 16ms/epoch - 16ms/step\n",
      "Epoch 150/200\n",
      "1/1 - 0s - loss: 0.3308 - accuracy: 1.0000 - 15ms/epoch - 15ms/step\n",
      "Epoch 151/200\n",
      "1/1 - 0s - loss: 0.3266 - accuracy: 1.0000 - 18ms/epoch - 18ms/step\n",
      "Epoch 152/200\n",
      "1/1 - 0s - loss: 0.3225 - accuracy: 1.0000 - 15ms/epoch - 15ms/step\n",
      "Epoch 153/200\n",
      "1/1 - 0s - loss: 0.3184 - accuracy: 1.0000 - 16ms/epoch - 16ms/step\n",
      "Epoch 154/200\n",
      "1/1 - 0s - loss: 0.3144 - accuracy: 1.0000 - 14ms/epoch - 14ms/step\n",
      "Epoch 155/200\n",
      "1/1 - 0s - loss: 0.3105 - accuracy: 1.0000 - 15ms/epoch - 15ms/step\n",
      "Epoch 156/200\n",
      "1/1 - 0s - loss: 0.3067 - accuracy: 1.0000 - 15ms/epoch - 15ms/step\n",
      "Epoch 157/200\n",
      "1/1 - 0s - loss: 0.3029 - accuracy: 1.0000 - 15ms/epoch - 15ms/step\n",
      "Epoch 158/200\n",
      "1/1 - 0s - loss: 0.2992 - accuracy: 1.0000 - 14ms/epoch - 14ms/step\n",
      "Epoch 159/200\n",
      "1/1 - 0s - loss: 0.2955 - accuracy: 1.0000 - 18ms/epoch - 18ms/step\n",
      "Epoch 160/200\n",
      "1/1 - 0s - loss: 0.2919 - accuracy: 1.0000 - 18ms/epoch - 18ms/step\n",
      "Epoch 161/200\n",
      "1/1 - 0s - loss: 0.2884 - accuracy: 1.0000 - 18ms/epoch - 18ms/step\n",
      "Epoch 162/200\n",
      "1/1 - 0s - loss: 0.2849 - accuracy: 1.0000 - 15ms/epoch - 15ms/step\n",
      "Epoch 163/200\n",
      "1/1 - 0s - loss: 0.2815 - accuracy: 1.0000 - 14ms/epoch - 14ms/step\n",
      "Epoch 164/200\n",
      "1/1 - 0s - loss: 0.2782 - accuracy: 1.0000 - 16ms/epoch - 16ms/step\n",
      "Epoch 165/200\n",
      "1/1 - 0s - loss: 0.2748 - accuracy: 1.0000 - 14ms/epoch - 14ms/step\n",
      "Epoch 166/200\n",
      "1/1 - 0s - loss: 0.2716 - accuracy: 1.0000 - 14ms/epoch - 14ms/step\n",
      "Epoch 167/200\n",
      "1/1 - 0s - loss: 0.2684 - accuracy: 1.0000 - 14ms/epoch - 14ms/step\n",
      "Epoch 168/200\n",
      "1/1 - 0s - loss: 0.2652 - accuracy: 1.0000 - 14ms/epoch - 14ms/step\n",
      "Epoch 169/200\n",
      "1/1 - 0s - loss: 0.2621 - accuracy: 1.0000 - 14ms/epoch - 14ms/step\n",
      "Epoch 170/200\n",
      "1/1 - 0s - loss: 0.2591 - accuracy: 1.0000 - 15ms/epoch - 15ms/step\n",
      "Epoch 171/200\n",
      "1/1 - 0s - loss: 0.2560 - accuracy: 1.0000 - 14ms/epoch - 14ms/step\n",
      "Epoch 172/200\n",
      "1/1 - 0s - loss: 0.2531 - accuracy: 1.0000 - 15ms/epoch - 15ms/step\n",
      "Epoch 173/200\n",
      "1/1 - 0s - loss: 0.2501 - accuracy: 1.0000 - 15ms/epoch - 15ms/step\n",
      "Epoch 174/200\n",
      "1/1 - 0s - loss: 0.2472 - accuracy: 1.0000 - 14ms/epoch - 14ms/step\n",
      "Epoch 175/200\n",
      "1/1 - 0s - loss: 0.2444 - accuracy: 1.0000 - 15ms/epoch - 15ms/step\n",
      "Epoch 176/200\n",
      "1/1 - 0s - loss: 0.2415 - accuracy: 1.0000 - 14ms/epoch - 14ms/step\n",
      "Epoch 177/200\n",
      "1/1 - 0s - loss: 0.2388 - accuracy: 1.0000 - 15ms/epoch - 15ms/step\n",
      "Epoch 178/200\n",
      "1/1 - 0s - loss: 0.2360 - accuracy: 1.0000 - 15ms/epoch - 15ms/step\n",
      "Epoch 179/200\n",
      "1/1 - 0s - loss: 0.2333 - accuracy: 1.0000 - 14ms/epoch - 14ms/step\n",
      "Epoch 180/200\n",
      "1/1 - 0s - loss: 0.2306 - accuracy: 1.0000 - 15ms/epoch - 15ms/step\n",
      "Epoch 181/200\n",
      "1/1 - 0s - loss: 0.2280 - accuracy: 1.0000 - 15ms/epoch - 15ms/step\n",
      "Epoch 182/200\n",
      "1/1 - 0s - loss: 0.2253 - accuracy: 1.0000 - 18ms/epoch - 18ms/step\n",
      "Epoch 183/200\n",
      "1/1 - 0s - loss: 0.2228 - accuracy: 1.0000 - 15ms/epoch - 15ms/step\n",
      "Epoch 184/200\n",
      "1/1 - 0s - loss: 0.2202 - accuracy: 1.0000 - 14ms/epoch - 14ms/step\n",
      "Epoch 185/200\n",
      "1/1 - 0s - loss: 0.2177 - accuracy: 1.0000 - 15ms/epoch - 15ms/step\n",
      "Epoch 186/200\n",
      "1/1 - 0s - loss: 0.2151 - accuracy: 1.0000 - 14ms/epoch - 14ms/step\n",
      "Epoch 187/200\n",
      "1/1 - 0s - loss: 0.2126 - accuracy: 1.0000 - 16ms/epoch - 16ms/step\n",
      "Epoch 188/200\n",
      "1/1 - 0s - loss: 0.2102 - accuracy: 1.0000 - 18ms/epoch - 18ms/step\n",
      "Epoch 189/200\n",
      "1/1 - 0s - loss: 0.2077 - accuracy: 1.0000 - 16ms/epoch - 16ms/step\n",
      "Epoch 190/200\n",
      "1/1 - 0s - loss: 0.2053 - accuracy: 1.0000 - 16ms/epoch - 16ms/step\n",
      "Epoch 191/200\n",
      "1/1 - 0s - loss: 0.2029 - accuracy: 1.0000 - 17ms/epoch - 17ms/step\n",
      "Epoch 192/200\n",
      "1/1 - 0s - loss: 0.2005 - accuracy: 1.0000 - 14ms/epoch - 14ms/step\n",
      "Epoch 193/200\n",
      "1/1 - 0s - loss: 0.1981 - accuracy: 1.0000 - 15ms/epoch - 15ms/step\n",
      "Epoch 194/200\n",
      "1/1 - 0s - loss: 0.1958 - accuracy: 1.0000 - 14ms/epoch - 14ms/step\n",
      "Epoch 195/200\n",
      "1/1 - 0s - loss: 0.1934 - accuracy: 1.0000 - 15ms/epoch - 15ms/step\n",
      "Epoch 196/200\n",
      "1/1 - 0s - loss: 0.1911 - accuracy: 1.0000 - 13ms/epoch - 13ms/step\n",
      "Epoch 197/200\n",
      "1/1 - 0s - loss: 0.1888 - accuracy: 1.0000 - 14ms/epoch - 14ms/step\n",
      "Epoch 198/200\n",
      "1/1 - 0s - loss: 0.1865 - accuracy: 1.0000 - 16ms/epoch - 16ms/step\n",
      "Epoch 199/200\n",
      "1/1 - 0s - loss: 0.1842 - accuracy: 1.0000 - 16ms/epoch - 16ms/step\n",
      "Epoch 200/200\n",
      "1/1 - 0s - loss: 0.1819 - accuracy: 1.0000 - 15ms/epoch - 15ms/step\n"
     ]
    },
    {
     "data": {
      "text/plain": [
       "<keras.callbacks.History at 0x2b2b8737c70>"
      ]
     },
     "execution_count": 23,
     "metadata": {},
     "output_type": "execute_result"
    }
   ],
   "source": [
    "from tensorflow.keras.models import Sequential\n",
    "from tensorflow.keras.layers import Embedding, Dense, SimpleRNN\n",
    "\n",
    "model = Sequential()\n",
    "model.add(Embedding(vocab_size, 10))\n",
    "model.add(SimpleRNN(32))\n",
    "model.add(Dense(vocab_size, activation='softmax'))\n",
    "model.compile(loss='categorical_crossentropy', optimizer='adam', metrics=['accuracy'])\n",
    "model.fit(X,y, epochs=200, verbose=2)"
   ]
  },
  {
   "cell_type": "code",
   "execution_count": 24,
   "metadata": {},
   "outputs": [],
   "source": [
    "def sentence_generation(model, tokenizer, current_word, n): # 모델, 토크나이저, 현재 단어, 반복 횟수\n",
    "    init_word = current_word\n",
    "    sentence= ''\n",
    "    \n",
    "    # n 번 반복\n",
    "    for _ in range(n):\n",
    "        # 현재 단어에 대한 정수 인코딩과 패딩\n",
    "        encoded = tokenizer.texts_to_sequences([current_word])[0]\n",
    "        encoded = pad_sequences([encoded], maxlen=5, padding='pre')\n",
    "        # 입력한 X(현재 단어)에 대해서 Y를 예측하고 Y(예측한 단어)를 result 에 저장\n",
    "        result = model.predict(encoded, verbose=0)\n",
    "        result = np.argmax(result, axis=1)\n",
    "        \n",
    "        for word, index in tokenizer.word_index.items():\n",
    "            if index==result:\n",
    "                break\n",
    "        # 현재 단어 + ' ' + 예측단어를 현재 단어로 변경\n",
    "        current_word = current_word + ' ' + word\n",
    "        # 예측 단어를 문장에 저장\n",
    "        sentence = sentence + ' ' + word\n",
    "        \n",
    "    sentence = init_word + sentence\n",
    "    return sentence"
   ]
  },
  {
   "cell_type": "code",
   "execution_count": 25,
   "metadata": {},
   "outputs": [
    {
     "name": "stdout",
     "output_type": "stream",
     "text": [
      "경마장에 있는 말이 뛰고 있다\n"
     ]
    }
   ],
   "source": [
    "print(sentence_generation(model, tokenizer, '경마장에', 4))"
   ]
  },
  {
   "cell_type": "code",
   "execution_count": 26,
   "metadata": {},
   "outputs": [
    {
     "name": "stdout",
     "output_type": "stream",
     "text": [
      "그의 말이 법이다 오는 말이\n"
     ]
    }
   ],
   "source": [
    "print(sentence_generation(model, tokenizer, '그의', 4))"
   ]
  },
  {
   "cell_type": "code",
   "execution_count": 27,
   "metadata": {},
   "outputs": [
    {
     "name": "stdout",
     "output_type": "stream",
     "text": [
      "가는 말이 고와야 오는 말이 곱다\n"
     ]
    }
   ],
   "source": [
    "print(sentence_generation(model, tokenizer, '가는', 5))\n"
   ]
  },
  {
   "cell_type": "code",
   "execution_count": null,
   "metadata": {},
   "outputs": [],
   "source": []
  }
 ],
 "metadata": {
  "interpreter": {
   "hash": "6f7c4d44365b28014734406e4d617c1e1f76ea196def854c7b951a230f6e24f1"
  },
  "kernelspec": {
   "display_name": "Python 3.9.7 64-bit",
   "language": "python",
   "name": "python3"
  },
  "language_info": {
   "codemirror_mode": {
    "name": "ipython",
    "version": 3
   },
   "file_extension": ".py",
   "mimetype": "text/x-python",
   "name": "python",
   "nbconvert_exporter": "python",
   "pygments_lexer": "ipython3",
   "version": "3.8.12"
  },
  "orig_nbformat": 4
 },
 "nbformat": 4,
 "nbformat_minor": 2
}
