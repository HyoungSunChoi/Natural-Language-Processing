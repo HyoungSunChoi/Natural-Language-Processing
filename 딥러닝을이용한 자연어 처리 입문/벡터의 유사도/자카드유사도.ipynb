{
 "cells": [
  {
   "cell_type": "markdown",
   "metadata": {},
   "source": [
    "## 자카드 유사도(Jaccard Similarity)\n",
    "\n",
    "- A, B 두 개의 집합이 있을 때, 교집합은 공통으로 가지고 있는 것\n",
    "- 즉, 합집합에서 교집합의 비율 = A,B 의 유사도\n",
    "    - 동일하다면 1, 공통 원소가 없으면 0\n",
    "\n",
    "$$J(A,B)=\\frac{|A∩B|}{|A∪B|}=\\frac{|A∩B|}{|A|+|B|-|A∩B|}$$\n",
    "\n",
    "두 개의 비교할 문서를 각 doc1, doc2 라고 할때 자카드 유사도는\n",
    "$$J(doc_{1},doc_{2})=\\frac{doc_{1}∩doc_{2}}{doc_{1}∪doc_{2}}$$\n"
   ]
  },
  {
   "cell_type": "code",
   "execution_count": 1,
   "metadata": {},
   "outputs": [
    {
     "name": "stdout",
     "output_type": "stream",
     "text": [
      "문서1 : ['apple', 'banana', 'everyone', 'like', 'likey', 'watch', 'card', 'holder']\n",
      "문서2 : ['apple', 'banana', 'coupon', 'passport', 'love', 'you']\n"
     ]
    }
   ],
   "source": [
    "doc1 = \"apple banana everyone like likey watch card holder\"\n",
    "doc2 = \"apple banana coupon passport love you\"\n",
    "\n",
    "# 토큰화\n",
    "tokenized_doc1 = doc1.split()\n",
    "tokenized_doc2 = doc2.split()\n",
    "\n",
    "print('문서1 :',tokenized_doc1)\n",
    "print('문서2 :',tokenized_doc2)"
   ]
  },
  {
   "cell_type": "code",
   "execution_count": 2,
   "metadata": {},
   "outputs": [
    {
     "name": "stdout",
     "output_type": "stream",
     "text": [
      "문서1과 문서2의 합집합 : {'everyone', 'love', 'holder', 'card', 'you', 'banana', 'like', 'passport', 'watch', 'coupon', 'apple', 'likey'}\n"
     ]
    }
   ],
   "source": [
    "# 합집합 ( 공통적인 단어는 제거하기 위해 set 사용)\n",
    "union = set(tokenized_doc1).union(set(tokenized_doc2))\n",
    "print('문서1과 문서2의 합집합 :',union)"
   ]
  },
  {
   "cell_type": "code",
   "execution_count": 3,
   "metadata": {},
   "outputs": [
    {
     "name": "stdout",
     "output_type": "stream",
     "text": [
      "문서1과 문서2의 교집합 : {'banana', 'apple'}\n"
     ]
    }
   ],
   "source": [
    "# 교집합\n",
    "intersection = set(tokenized_doc1).intersection(set(tokenized_doc2))\n",
    "print('문서1과 문서2의 교집합 :',intersection)"
   ]
  },
  {
   "cell_type": "code",
   "execution_count": 5,
   "metadata": {},
   "outputs": [
    {
     "name": "stdout",
     "output_type": "stream",
     "text": [
      "자카드 유사도 : 0.16666666666666666\n"
     ]
    }
   ],
   "source": [
    "# 교집합의 크기를 합집합의 크기로 나눠준다\n",
    "print('자카드 유사도 :',len(intersection)/len(union))"
   ]
  },
  {
   "cell_type": "code",
   "execution_count": null,
   "metadata": {},
   "outputs": [],
   "source": []
  }
 ],
 "metadata": {
  "interpreter": {
   "hash": "8459f5eb1ede4b4f9177267bb7d209bb99cbe04fb453024182bbd03c1d314234"
  },
  "kernelspec": {
   "display_name": "Python 3.8.12 64-bit ('py38': conda)",
   "language": "python",
   "name": "python3"
  },
  "language_info": {
   "codemirror_mode": {
    "name": "ipython",
    "version": 3
   },
   "file_extension": ".py",
   "mimetype": "text/x-python",
   "name": "python",
   "nbconvert_exporter": "python",
   "pygments_lexer": "ipython3",
   "version": "3.8.12"
  },
  "orig_nbformat": 4
 },
 "nbformat": 4,
 "nbformat_minor": 2
}
