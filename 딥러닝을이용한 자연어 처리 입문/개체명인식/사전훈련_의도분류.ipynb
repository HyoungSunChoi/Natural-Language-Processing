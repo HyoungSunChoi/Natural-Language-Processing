{
 "cells": [
  {
   "cell_type": "code",
   "execution_count": 1,
   "metadata": {},
   "outputs": [],
   "source": [
    "import os\n",
    "import numpy as np\n",
    "import pandas as pd\n",
    "import matplotlib.pyplot as plt\n",
    "import urllib.request\n",
    "from sklearn import preprocessing\n",
    "from tensorflow.keras.preprocessing.text import Tokenizer\n",
    "from tensorflow.keras.preprocessing.sequence import pad_sequences\n",
    "from tensorflow.keras.utils import to_categorical\n",
    "from sklearn.metrics import classification_report"
   ]
  },
  {
   "cell_type": "code",
   "execution_count": 2,
   "metadata": {},
   "outputs": [],
   "source": [
    "urllib.request.urlretrieve(\"https://raw.githubusercontent.com/ukairia777/tensorflow-nlp-tutorial/main/11.%201D%20CNN%20Text%20Classification/dataset/intent_train_data.csv\", filename=\"intent_train_data.csv\")\n",
    "urllib.request.urlretrieve(\"https://raw.githubusercontent.com/ukairia777/tensorflow-nlp-tutorial/main/11.%201D%20CNN%20Text%20Classification/dataset/intent_test_data.csv\", filename=\"intent_test_data.csv\")\n",
    "\n",
    "train_data = pd.read_csv('intent_train_data.csv')\n",
    "test_data = pd.read_csv('intent_test_data.csv')\n"
   ]
  },
  {
   "cell_type": "code",
   "execution_count": 39,
   "metadata": {},
   "outputs": [
    {
     "data": {
      "text/html": [
       "<div>\n",
       "<style scoped>\n",
       "    .dataframe tbody tr th:only-of-type {\n",
       "        vertical-align: middle;\n",
       "    }\n",
       "\n",
       "    .dataframe tbody tr th {\n",
       "        vertical-align: top;\n",
       "    }\n",
       "\n",
       "    .dataframe thead th {\n",
       "        text-align: right;\n",
       "    }\n",
       "</style>\n",
       "<table border=\"1\" class=\"dataframe\">\n",
       "  <thead>\n",
       "    <tr style=\"text-align: right;\">\n",
       "      <th></th>\n",
       "      <th>intent</th>\n",
       "      <th>label</th>\n",
       "    </tr>\n",
       "  </thead>\n",
       "  <tbody>\n",
       "    <tr>\n",
       "      <th>0</th>\n",
       "      <td>add another song to the cita rom ntica playlist</td>\n",
       "      <td>AddToPlaylist</td>\n",
       "    </tr>\n",
       "    <tr>\n",
       "      <th>1</th>\n",
       "      <td>add clem burke in my playlist pre party r b jams</td>\n",
       "      <td>AddToPlaylist</td>\n",
       "    </tr>\n",
       "    <tr>\n",
       "      <th>2</th>\n",
       "      <td>add live from aragon ballroom to trapeo</td>\n",
       "      <td>AddToPlaylist</td>\n",
       "    </tr>\n",
       "    <tr>\n",
       "      <th>3</th>\n",
       "      <td>add unite and win to my night out</td>\n",
       "      <td>AddToPlaylist</td>\n",
       "    </tr>\n",
       "    <tr>\n",
       "      <th>4</th>\n",
       "      <td>add track to my digster future hits</td>\n",
       "      <td>AddToPlaylist</td>\n",
       "    </tr>\n",
       "    <tr>\n",
       "      <th>...</th>\n",
       "      <td>...</td>\n",
       "      <td>...</td>\n",
       "    </tr>\n",
       "    <tr>\n",
       "      <th>11779</th>\n",
       "      <td>can a i get the movie schedule for sympathy fo...</td>\n",
       "      <td>SearchScreeningEvent</td>\n",
       "    </tr>\n",
       "    <tr>\n",
       "      <th>11780</th>\n",
       "      <td>find movie schedules for animated movies aroun...</td>\n",
       "      <td>SearchScreeningEvent</td>\n",
       "    </tr>\n",
       "    <tr>\n",
       "      <th>11781</th>\n",
       "      <td>what time is bordertown trail showing</td>\n",
       "      <td>SearchScreeningEvent</td>\n",
       "    </tr>\n",
       "    <tr>\n",
       "      <th>11782</th>\n",
       "      <td>in the neighbourhood find movies with movie times</td>\n",
       "      <td>SearchScreeningEvent</td>\n",
       "    </tr>\n",
       "    <tr>\n",
       "      <th>11783</th>\n",
       "      <td>what cinema has the closest movies</td>\n",
       "      <td>SearchScreeningEvent</td>\n",
       "    </tr>\n",
       "  </tbody>\n",
       "</table>\n",
       "<p>11784 rows × 2 columns</p>\n",
       "</div>"
      ],
      "text/plain": [
       "                                                  intent                 label\n",
       "0        add another song to the cita rom ntica playlist         AddToPlaylist\n",
       "1       add clem burke in my playlist pre party r b jams         AddToPlaylist\n",
       "2                add live from aragon ballroom to trapeo         AddToPlaylist\n",
       "3                      add unite and win to my night out         AddToPlaylist\n",
       "4                    add track to my digster future hits         AddToPlaylist\n",
       "...                                                  ...                   ...\n",
       "11779  can a i get the movie schedule for sympathy fo...  SearchScreeningEvent\n",
       "11780  find movie schedules for animated movies aroun...  SearchScreeningEvent\n",
       "11781              what time is bordertown trail showing  SearchScreeningEvent\n",
       "11782  in the neighbourhood find movies with movie times  SearchScreeningEvent\n",
       "11783                 what cinema has the closest movies  SearchScreeningEvent\n",
       "\n",
       "[11784 rows x 2 columns]"
      ]
     },
     "execution_count": 39,
     "metadata": {},
     "output_type": "execute_result"
    }
   ],
   "source": [
    "train_data"
   ]
  },
  {
   "cell_type": "code",
   "execution_count": 40,
   "metadata": {},
   "outputs": [
    {
     "name": "stdout",
     "output_type": "stream",
     "text": [
      "훈련용 문장의 수 : 11784\n",
      "훈련용 레이블의 수 : 11784\n",
      "테스트용 문장의 수 : 600\n",
      "테스트용 레이블의 수 : 600\n"
     ]
    }
   ],
   "source": [
    "intent_train = train_data['intent'].tolist()\n",
    "label_train = train_data['label'].tolist()\n",
    "intent_test = test_data['intent'].tolist()\n",
    "label_test = test_data['label'].tolist()\n",
    "\n",
    "print('훈련용 문장의 수 :', len(intent_train))\n",
    "print('훈련용 레이블의 수 :', len(label_train))\n",
    "print('테스트용 문장의 수 :', len(intent_test))\n",
    "print('테스트용 레이블의 수 :', len(label_test))\n"
   ]
  },
  {
   "cell_type": "code",
   "execution_count": 41,
   "metadata": {},
   "outputs": [
    {
     "data": {
      "text/plain": [
       "<AxesSubplot:>"
      ]
     },
     "execution_count": 41,
     "metadata": {},
     "output_type": "execute_result"
    },
    {
     "data": {
      "image/png": "[encoded data removed]",
      "text/plain": [
       "<Figure size 432x288 with 1 Axes>"
      ]
     },
     "metadata": {
      "needs_background": "light"
     },
     "output_type": "display_data"
    }
   ],
   "source": [
    "train_data.label.value_counts().plot(kind='bar')"
   ]
  },
  {
   "cell_type": "code",
   "execution_count": 42,
   "metadata": {},
   "outputs": [
    {
     "name": "stdout",
     "output_type": "stream",
     "text": [
      "레이블, 정수 맵핑 :  {'AddToPlaylist': 0, 'BookRestaurant': 1, 'GetWeather': 2, 'RateBook': 3, 'SearchCreativeWork': 4, 'SearchScreeningEvent': 5}\n"
     ]
    }
   ],
   "source": [
    "# 레이블 인코딩, 레이블에 고유한 정수를 부여\n",
    "idx_encode = preprocessing.LabelEncoder()\n",
    "idx_encode.fit(label_train)\n",
    "\n",
    "# 고유 정수로 변환\n",
    "label_train = idx_encode.transform(label_train)\n",
    "label_test = idx_encode.transform(label_test)\n",
    "\n",
    "label_idx = dict(zip(list(idx_encode.classes_), idx_encode.transform(list(idx_encode.classes_))))\n",
    "print(\"레이블, 정수 맵핑 : \", label_idx)"
   ]
  },
  {
   "cell_type": "code",
   "execution_count": 43,
   "metadata": {},
   "outputs": [
    {
     "name": "stdout",
     "output_type": "stream",
     "text": [
      "['AddToPlaylist', 'BookRestaurant', 'GetWeather', 'RateBook', 'SearchCreativeWork', 'SearchScreeningEvent']\n",
      "[0 1 2 3 4 5]\n"
     ]
    }
   ],
   "source": [
    "print(list(idx_encode.classes_))\n",
    "print(idx_encode.transform(list(idx_encode.classes_)))"
   ]
  },
  {
   "cell_type": "code",
   "execution_count": 44,
   "metadata": {},
   "outputs": [
    {
     "data": {
      "text/plain": [
       "[[11, 191, 61, 4, 1, 4013, 1141, 1572, 15],\n",
       " [11, 2624, 1573, 3, 14, 15, 939, 82, 256, 188, 548],\n",
       " [11, 187, 42, 2625, 4014, 4, 1968],\n",
       " [11, 2626, 22, 2627, 4, 14, 192, 27]]"
      ]
     },
     "execution_count": 44,
     "metadata": {},
     "output_type": "execute_result"
    }
   ],
   "source": [
    "# 토크나이징\n",
    "tokenizer = Tokenizer()\n",
    "tokenizer.fit_on_texts(intent_train)\n",
    "sequences = tokenizer.texts_to_sequences(intent_train)\n",
    "sequences[:4]"
   ]
  },
  {
   "cell_type": "code",
   "execution_count": 45,
   "metadata": {},
   "outputs": [
    {
     "name": "stdout",
     "output_type": "stream",
     "text": [
      "9870\n"
     ]
    }
   ],
   "source": [
    "word_index = tokenizer.word_index\n",
    "vocab_size = len(word_index)+1\n",
    "print(vocab_size)"
   ]
  },
  {
   "cell_type": "code",
   "execution_count": 46,
   "metadata": {},
   "outputs": [
    {
     "name": "stdout",
     "output_type": "stream",
     "text": [
      "문장 최대 길이 : 35\n",
      "문장 평균 길이 : 9.364392396469789\n"
     ]
    },
    {
     "data": {
      "image/png": "[encoded data removed]",
      "text/plain": [
       "<Figure size 432x288 with 1 Axes>"
      ]
     },
     "metadata": {
      "needs_background": "light"
     },
     "output_type": "display_data"
    }
   ],
   "source": [
    "print(\"문장 최대 길이 :\", max(len(l) for l in sequences))\n",
    "print(\"문장 평균 길이 :\", sum(map(len, sequences))/len(sequences))\n",
    "plt.hist([len(s) for s in sequences], bins=50)\n",
    "plt.show()"
   ]
  },
  {
   "cell_type": "code",
   "execution_count": 47,
   "metadata": {},
   "outputs": [
    {
     "name": "stdout",
     "output_type": "stream",
     "text": [
      "랜덤 시퀀스 만들기 완료\n"
     ]
    }
   ],
   "source": [
    "max_len = 35\n",
    "\n",
    "intent_train = pad_sequences(sequences, maxlen=max_len)\n",
    "label_train = to_categorical(np.asarray(label_train))\n",
    "\n",
    "indices = np.arange(intent_train.shape[0])\n",
    "np.random.shuffle(indices)\n",
    "print('랜덤 시퀀스 만들기 완료')\n",
    "\n",
    "intent_train = intent_train[indices]\n",
    "label_train = label_train[indices]\n",
    "\n",
    "# 검증 데이터 셋팅\n",
    "n_of_val = int(0.1* intent_train.shape[0])\n",
    "\n",
    "# 분리\n",
    "X_train = intent_train[:-n_of_val]\n",
    "y_train = label_train[:-n_of_val]\n",
    "X_val = intent_train[-n_of_val:]\n",
    "y_val = label_train[-n_of_val:]\n",
    "X_test = intent_test\n",
    "y_test = label_test\n"
   ]
  },
  {
   "cell_type": "code",
   "execution_count": 50,
   "metadata": {},
   "outputs": [
    {
     "name": "stdout",
     "output_type": "stream",
     "text": [
      "훈련 데이터의 크기(shape): (10606, 35)\n",
      "검증 데이터의 크기(shape): (1178, 35)\n",
      "훈련 데이터 레이블의 크기(shape): (10606, 6)\n",
      "검증 데이터 레이블의 크기(shape): (1178, 6)\n",
      "테스트 데이터의 개수 : 600\n",
      "테스트 데이터 레이블의 개수 : 600\n"
     ]
    }
   ],
   "source": [
    "print('훈련 데이터의 크기(shape):', X_train.shape)\n",
    "print('검증 데이터의 크기(shape):', X_val.shape)\n",
    "print('훈련 데이터 레이블의 크기(shape):', y_train.shape)\n",
    "print('검증 데이터 레이블의 크기(shape):', y_val.shape)\n",
    "print('테스트 데이터의 개수 :', len(X_test))\n",
    "print('테스트 데이터 레이블의 개수 :', len(y_test))"
   ]
  },
  {
   "cell_type": "markdown",
   "metadata": {},
   "source": [
    "사전 훈련된 GloVe 임베딩 사용하기"
   ]
  },
  {
   "cell_type": "code",
   "execution_count": 23,
   "metadata": {},
   "outputs": [
    {
     "name": "stdout",
     "output_type": "stream",
     "text": [
      "--2022-08-01 21:04:14--  http://nlp.stanford.edu/data/glove.6B.zip\n",
      "nlp.stanford.edu (nlp.stanford.edu) 해석 중... 171.64.67.140\n",
      "다음으로 연결 중: nlp.stanford.edu (nlp.stanford.edu)|171.64.67.140|:80... 연결했습니다.\n",
      "HTTP 요청을 보냈습니다. 응답 기다리는 중... 302 Found\n",
      "위치: https://nlp.stanford.edu/data/glove.6B.zip [따라감]\n",
      "--2022-08-01 21:04:14--  https://nlp.stanford.edu/data/glove.6B.zip\n",
      "다음으로 연결 중: nlp.stanford.edu (nlp.stanford.edu)|171.64.67.140|:443... 연결했습니다.\n",
      "HTTP 요청을 보냈습니다. 응답 기다리는 중... 301 Moved Permanently\n",
      "위치: https://downloads.cs.stanford.edu/nlp/data/glove.6B.zip [따라감]\n",
      "--2022-08-01 21:04:15--  https://downloads.cs.stanford.edu/nlp/data/glove.6B.zip\n",
      "downloads.cs.stanford.edu (downloads.cs.stanford.edu) 해석 중... 171.64.64.22\n",
      "다음으로 연결 중: downloads.cs.stanford.edu (downloads.cs.stanford.edu)|171.64.64.22|:443... 연결했습니다.\n",
      "HTTP 요청을 보냈습니다. 응답 기다리는 중... 200 OK\n",
      "길이: 862182613 (822M) [application/zip]\n",
      "저장 위치: `glove.6B.zip'\n",
      "\n",
      "glove.6B.zip        100%[===================>] 822.24M  5.11MB/s    /  2m 57s  \n",
      "\n",
      "2022-08-01 21:07:13 (4.65 MB/s) - `glove.6B.zip' 저장함 [862182613/862182613]\n",
      "\n",
      "Archive:  glove.6B.zip\n",
      "  inflating: glove.6B.50d.txt        \n",
      "  inflating: glove.6B.100d.txt       \n",
      "  inflating: glove.6B.200d.txt       \n",
      "  inflating: glove.6B.300d.txt       \n"
     ]
    }
   ],
   "source": [
    "!wget http://nlp.stanford.edu/data/glove.6B.zip\n",
    "!unzip glove*.zip"
   ]
  },
  {
   "cell_type": "markdown",
   "metadata": {},
   "source": [
    "glove data 구조\n",
    "- the [0.123, 0.2183912, 0.1234] ....."
   ]
  },
  {
   "cell_type": "code",
   "execution_count": 51,
   "metadata": {},
   "outputs": [
    {
     "name": "stdout",
     "output_type": "stream",
     "text": [
      "400000개의 Embedding vector가 있습니다.\n"
     ]
    }
   ],
   "source": [
    "embedding_dict = dict()\n",
    "f = open(os.path.join('glove.6B.100d.txt'), encoding='utf-8')\n",
    "for line in f :\n",
    "    word_vector = line.split()\n",
    "    word = word_vector[0] # 단어\n",
    "    word_vector_arr = np.asarray(word_vector[1:], dtype='float32') # 100개의 값을 가지는 array(벡터값) 로 변환\n",
    "    embedding_dict[word] = word_vector_arr\n",
    "f.close()\n",
    "print('%s개의 Embedding vector가 있습니다.' % len(embedding_dict))"
   ]
  },
  {
   "cell_type": "code",
   "execution_count": 52,
   "metadata": {},
   "outputs": [
    {
     "name": "stdout",
     "output_type": "stream",
     "text": [
      "임베딩 차원 : 100\n"
     ]
    }
   ],
   "source": [
    "print(\"임베딩 차원 :\", len(embedding_dict['no']))"
   ]
  },
  {
   "cell_type": "code",
   "execution_count": 53,
   "metadata": {},
   "outputs": [
    {
     "name": "stdout",
     "output_type": "stream",
     "text": [
      "임베딩 테이블 크기 :  (9870, 100)\n"
     ]
    }
   ],
   "source": [
    "embedding_dim = 100\n",
    "embedding_matrix = np.zeros((vocab_size, embedding_dim))\n",
    "print(\"임베딩 테이블 크기 : \", np.shape(embedding_matrix))"
   ]
  },
  {
   "cell_type": "code",
   "execution_count": 54,
   "metadata": {},
   "outputs": [],
   "source": [
    "#훈련 데이터에 있는 단어와 사전 훈련된 워드 임베딩 벡터의 값을 맵핑하여 임베딩 테이블에 저장합니다.\n",
    "\n",
    "for word, i in word_index.items():\n",
    "    embedding_vector = embedding_dict.get(word)\n",
    "    if embedding_vector is not None:\n",
    "        embedding_matrix[i] = embedding_vector"
   ]
  },
  {
   "cell_type": "code",
   "execution_count": 55,
   "metadata": {},
   "outputs": [
    {
     "name": "stdout",
     "output_type": "stream",
     "text": [
      "임베딩 테이블의 크기(shape) : (9870, 100)\n"
     ]
    }
   ],
   "source": [
    "\n",
    "print('임베딩 테이블의 크기(shape) :',np.shape(embedding_matrix))"
   ]
  },
  {
   "cell_type": "code",
   "execution_count": 56,
   "metadata": {},
   "outputs": [
    {
     "name": "stdout",
     "output_type": "stream",
     "text": [
      "Model: \"model_1\"\n",
      "__________________________________________________________________________________________________\n",
      " Layer (type)                   Output Shape         Param #     Connected to                     \n",
      "==================================================================================================\n",
      " input_2 (InputLayer)           [(None, 35)]         0           []                               \n",
      "                                                                                                  \n",
      " embedding_1 (Embedding)        (None, 35, 100)      987000      ['input_2[0][0]']                \n",
      "                                                                                                  \n",
      " conv1d_3 (Conv1D)              (None, 34, 512)      102912      ['embedding_1[0][0]']            \n",
      "                                                                                                  \n",
      " conv1d_4 (Conv1D)              (None, 33, 512)      154112      ['embedding_1[0][0]']            \n",
      "                                                                                                  \n",
      " conv1d_5 (Conv1D)              (None, 31, 512)      256512      ['embedding_1[0][0]']            \n",
      "                                                                                                  \n",
      " global_max_pooling1d_3 (Global  (None, 512)         0           ['conv1d_3[0][0]']               \n",
      " MaxPooling1D)                                                                                    \n",
      "                                                                                                  \n",
      " global_max_pooling1d_4 (Global  (None, 512)         0           ['conv1d_4[0][0]']               \n",
      " MaxPooling1D)                                                                                    \n",
      "                                                                                                  \n",
      " global_max_pooling1d_5 (Global  (None, 512)         0           ['conv1d_5[0][0]']               \n",
      " MaxPooling1D)                                                                                    \n",
      "                                                                                                  \n",
      " concatenate_1 (Concatenate)    (None, 1536)         0           ['global_max_pooling1d_3[0][0]', \n",
      "                                                                  'global_max_pooling1d_4[0][0]', \n",
      "                                                                  'global_max_pooling1d_5[0][0]'] \n",
      "                                                                                                  \n",
      " dropout_1 (Dropout)            (None, 1536)         0           ['concatenate_1[0][0]']          \n",
      "                                                                                                  \n",
      " dense_1 (Dense)                (None, 6)            9222        ['dropout_1[0][0]']              \n",
      "                                                                                                  \n",
      "==================================================================================================\n",
      "Total params: 1,509,758\n",
      "Trainable params: 522,758\n",
      "Non-trainable params: 987,000\n",
      "__________________________________________________________________________________________________\n"
     ]
    }
   ],
   "source": [
    "from tensorflow.keras.models import Model\n",
    "from tensorflow.keras.layers import Embedding, Dropout, Conv1D, GlobalMaxPooling1D, Dense, Input, Flatten, Concatenate\n",
    "\n",
    "kernel_sizes = [2, 3, 5]\n",
    "num_filters = 512\n",
    "dropout_ratio = 0.5\n",
    "\n",
    "model_input = Input(shape=(max_len,))\n",
    "output = Embedding(vocab_size, embedding_dim, weights=[embedding_matrix],\n",
    "                      input_length=max_len, trainable=False)(model_input)\n",
    "\n",
    "conv_blocks = []\n",
    "\n",
    "for size in kernel_sizes:\n",
    "    conv = Conv1D(filters=num_filters,\n",
    "                         kernel_size=size,\n",
    "                         padding=\"valid\",\n",
    "                         activation=\"relu\",\n",
    "                         strides=1)(output)\n",
    "    conv = GlobalMaxPooling1D()(conv)\n",
    "    conv_blocks.append(conv)\n",
    "\n",
    "output = Concatenate()(conv_blocks) if len(conv_blocks) > 1 else conv_blocks[0]\n",
    "output = Dropout(dropout_ratio)(output)\n",
    "model_output = Dense(len(label_idx), activation='softmax')(output)\n",
    "model = Model(model_input, model_output)\n",
    "\n",
    "model.compile(loss='categorical_crossentropy', optimizer='adam', metrics=['acc'])\n",
    "model.summary()"
   ]
  },
  {
   "cell_type": "code",
   "execution_count": 58,
   "metadata": {},
   "outputs": [
    {
     "name": "stdout",
     "output_type": "stream",
     "text": [
      "Epoch 1/10\n",
      "  1/166 [..............................] - ETA: 1:00 - loss: 2.0486 - acc: 0.1562"
     ]
    },
    {
     "name": "stderr",
     "output_type": "stream",
     "text": [
      "2022-08-01 21:22:06.627802: I tensorflow/core/grappler/optimizers/custom_graph_optimizer_registry.cc:112] Plugin optimizer for device_type GPU is enabled.\n"
     ]
    },
    {
     "name": "stdout",
     "output_type": "stream",
     "text": [
      "166/166 [==============================] - 3s 13ms/step - loss: 0.1838 - acc: 0.9448 - val_loss: 0.0638 - val_acc: 0.9813\n"
     ]
    },
    {
     "name": "stderr",
     "output_type": "stream",
     "text": [
      "2022-08-01 21:22:08.796729: I tensorflow/core/grappler/optimizers/custom_graph_optimizer_registry.cc:112] Plugin optimizer for device_type GPU is enabled.\n"
     ]
    },
    {
     "name": "stdout",
     "output_type": "stream",
     "text": [
      "Epoch 2/10\n",
      "166/166 [==============================] - 2s 12ms/step - loss: 0.0434 - acc: 0.9871 - val_loss: 0.0486 - val_acc: 0.9864\n",
      "Epoch 3/10\n",
      "166/166 [==============================] - 2s 12ms/step - loss: 0.0280 - acc: 0.9912 - val_loss: 0.0563 - val_acc: 0.9796\n",
      "Epoch 4/10\n",
      "166/166 [==============================] - 2s 12ms/step - loss: 0.0169 - acc: 0.9955 - val_loss: 0.0437 - val_acc: 0.9864\n",
      "Epoch 5/10\n",
      "166/166 [==============================] - 2s 12ms/step - loss: 0.0126 - acc: 0.9961 - val_loss: 0.0441 - val_acc: 0.9864\n",
      "Epoch 6/10\n",
      "166/166 [==============================] - 2s 12ms/step - loss: 0.0088 - acc: 0.9979 - val_loss: 0.0399 - val_acc: 0.9856\n",
      "Epoch 7/10\n",
      "166/166 [==============================] - 2s 12ms/step - loss: 0.0066 - acc: 0.9981 - val_loss: 0.0419 - val_acc: 0.9881\n",
      "Epoch 8/10\n",
      "166/166 [==============================] - 2s 12ms/step - loss: 0.0041 - acc: 0.9991 - val_loss: 0.0505 - val_acc: 0.9864\n",
      "Epoch 9/10\n",
      "166/166 [==============================] - 2s 12ms/step - loss: 0.0035 - acc: 0.9995 - val_loss: 0.0556 - val_acc: 0.9856\n",
      "Epoch 10/10\n",
      "166/166 [==============================] - 2s 12ms/step - loss: 0.0020 - acc: 0.9995 - val_loss: 0.0428 - val_acc: 0.9881\n"
     ]
    }
   ],
   "source": [
    "history = model.fit(X_train, y_train,\n",
    "          batch_size=64,\n",
    "          epochs=10,\n",
    "          validation_data=(X_val, y_val))"
   ]
  },
  {
   "cell_type": "code",
   "execution_count": 59,
   "metadata": {},
   "outputs": [
    {
     "data": {
      "image/png": "[encoded data removed]",
      "text/plain": [
       "<Figure size 432x288 with 1 Axes>"
      ]
     },
     "metadata": {
      "needs_background": "light"
     },
     "output_type": "display_data"
    },
    {
     "data": {
      "image/png": "[encoded data removed]",
      "text/plain": [
       "<Figure size 432x288 with 1 Axes>"
      ]
     },
     "metadata": {
      "needs_background": "light"
     },
     "output_type": "display_data"
    }
   ],
   "source": [
    "epochs = range(1, len(history.history['acc']) + 1)\n",
    "plt.plot(epochs, history.history['acc'])\n",
    "plt.plot(epochs, history.history['val_acc'])\n",
    "plt.title('model accuracy')\n",
    "plt.ylabel('accuracy')\n",
    "plt.xlabel('epochs')\n",
    "plt.legend(['train', 'test'], loc='lower right')\n",
    "plt.show()\n",
    "\n",
    "epochs = range(1, len(history.history['loss']) + 1)\n",
    "plt.plot(epochs, history.history['loss'])\n",
    "plt.plot(epochs, history.history['val_loss'])\n",
    "plt.title('model loss')\n",
    "plt.ylabel('loss')\n",
    "plt.xlabel('epochs')\n",
    "plt.legend(['train', 'test'], loc='upper right')\n",
    "plt.show()"
   ]
  },
  {
   "cell_type": "code",
   "execution_count": 60,
   "metadata": {},
   "outputs": [
    {
     "name": "stderr",
     "output_type": "stream",
     "text": [
      "2022-08-01 21:22:56.477650: I tensorflow/core/grappler/optimizers/custom_graph_optimizer_registry.cc:112] Plugin optimizer for device_type GPU is enabled.\n"
     ]
    }
   ],
   "source": [
    "X_test = tokenizer.texts_to_sequences(X_test)\n",
    "X_test = pad_sequences(X_test, maxlen=max_len)\n",
    "\n",
    "y_predicted = model.predict(X_test)\n",
    "y_predicted = y_predicted.argmax(axis=-1) # 예측을 정수 시퀀스로 변환"
   ]
  },
  {
   "cell_type": "code",
   "execution_count": 61,
   "metadata": {},
   "outputs": [
    {
     "name": "stdout",
     "output_type": "stream",
     "text": [
      "정확도(Accuracy) :  0.9916666666666667\n"
     ]
    }
   ],
   "source": [
    "print('정확도(Accuracy) : ', sum(y_predicted == y_test) / len(y_test))"
   ]
  },
  {
   "cell_type": "code",
   "execution_count": null,
   "metadata": {},
   "outputs": [],
   "source": []
  }
 ],
 "metadata": {
  "kernelspec": {
   "display_name": "Python 3.8.12 ('py38')",
   "language": "python",
   "name": "python3"
  },
  "language_info": {
   "codemirror_mode": {
    "name": "ipython",
    "version": 3
   },
   "file_extension": ".py",
   "mimetype": "text/x-python",
   "name": "python",
   "nbconvert_exporter": "python",
   "pygments_lexer": "ipython3",
   "version": "3.8.12"
  },
  "orig_nbformat": 4,
  "vscode": {
   "interpreter": {
    "hash": "8459f5eb1ede4b4f9177267bb7d209bb99cbe04fb453024182bbd03c1d314234"
   }
  }
 },
 "nbformat": 4,
 "nbformat_minor": 2
}
