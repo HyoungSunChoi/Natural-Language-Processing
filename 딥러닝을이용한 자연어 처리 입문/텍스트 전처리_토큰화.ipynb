{
 "cells": [
  {
   "cell_type": "markdown",
   "metadata": {},
   "source": [
    "# 토큰화(Tokenization)\n",
    "- 자연어 처리에서 크롤링 등으로 얻어낸 <b>전처리 되지 않은 상태</b>라면 용도에 맞게 토큰화(tokenization) 정제(cleaning) 정규화(normalization)하는 일을 해야한다.\n",
    "\n",
    "- 주어진 코퍼스(corpus)에서 토큰(token)이라 불리는 단위로 나누는 작업을 토큰화(tokenization)이라고 한다."
   ]
  },
  {
   "cell_type": "markdown",
   "metadata": {},
   "source": [
    "## 1. 단어 토큰화(Word Tokenization)\n",
    "- 토큰의 기준을 단어(word)로 하는 경우 단어 토큰화라고 한다\n",
    "- 예.) \"Time is an illusion. Luchtime double so!\n",
    "    - 결과 : \"Time\", \"is\", \"an\", \"illusion\", \"Lunchtime\", \"double\", \"so\"\n",
    "- 보통 토큰화 작업에서 구두점, 특수문자를 제거하는 정제 작업을 수행한다.\n",
    "    - 하지만 이로 인해 토큰이 의미를 잃어버리는 경우가 발생하기도 한다.\n",
    "    - 띄어쓰기 단위로 자르면 한국어는 단어 토큰을 구분하기 어렵다."
   ]
  },
  {
   "cell_type": "markdown",
   "metadata": {},
   "source": []
  },
  {
   "cell_type": "markdown",
   "metadata": {},
   "source": [
    "## 2. 토큰화 중 기준 결정하기\n",
    "- 해당 데이터의 용도에 따라 결정\n",
    "- 예.) 영어권 언어에서 (\")가 들어가 있는 단어는 어떻게 토큰으로 분류해야 하는지 \n",
    "    - Don't, Jone's\n",
    "        - Don't , Don t , Dont , Do n't, Jone's, Jone s, Jone, Jones\n",
    "        - 이 중 사용자가 원하는 결과가 나오도록 토큰화 도구를 직접 설계할 수 있지만, 사용자 목적에 따라 달리 설정이 가능하다"
   ]
  },
  {
   "cell_type": "code",
   "execution_count": 1,
   "metadata": {},
   "outputs": [
    {
     "name": "stdout",
     "output_type": "stream",
     "text": [
      "showing info https://raw.githubusercontent.com/nltk/nltk_data/gh-pages/index.xml\n"
     ]
    },
    {
     "data": {
      "text/plain": [
       "True"
      ]
     },
     "execution_count": 1,
     "metadata": {},
     "output_type": "execute_result"
    }
   ],
   "source": [
    "import nltk\n",
    "nltk.download()"
   ]
  },
  {
   "cell_type": "code",
   "execution_count": 2,
   "metadata": {},
   "outputs": [
    {
     "name": "stdout",
     "output_type": "stream",
     "text": [
      "단어 토큰화1 :  ['Do', \"n't\", 'be', 'fooled', 'by', 'the', 'dark', 'sounding', 'name', ',', 'Mr.', 'Jone', \"'s\", 'Orphanage', 'is', 'as', 'cheery', 'as', 'cheery', 'goes', 'for', 'a', 'pastry', 'shop', '.']\n"
     ]
    }
   ],
   "source": [
    "from nltk.tokenize import word_tokenize\n",
    "from nltk.tokenize import WordPunctTokenizer\n",
    "from tensorflow.keras.preprocessing.text import text_to_word_sequence\n",
    "print(\"단어 토큰화1 : \", word_tokenize(\"Don't be fooled by the dark sounding name, Mr. Jone's Orphanage is as cheery as cheery goes for a pastry shop.\"))"
   ]
  },
  {
   "cell_type": "markdown",
   "metadata": {},
   "source": [
    "WordPunctTokenizer\n",
    "- 구두점을 별도로 분류하는 특징"
   ]
  },
  {
   "cell_type": "code",
   "execution_count": 3,
   "metadata": {},
   "outputs": [
    {
     "name": "stdout",
     "output_type": "stream",
     "text": [
      "단어 토큰화2 :  ['Don', \"'\", 't', 'be', 'fooled', 'by', 'the', 'dark', 'sounding', 'name', ',', 'Mr', '.', 'Jone', \"'\", 's', 'Orphanage', 'is', 'as', 'cheery', 'as', 'cheery', 'goes', 'for', 'a', 'pastry', 'shop', '.']\n"
     ]
    }
   ],
   "source": [
    "print(\"단어 토큰화2 : \", WordPunctTokenizer().tokenize(\"Don't be fooled by the dark sounding name, Mr. Jone's Orphanage is as cheery as cheery goes for a pastry shop.\"))"
   ]
  },
  {
   "cell_type": "markdown",
   "metadata": {},
   "source": [
    "Keras, text_to_word_sequence\n",
    "- 알파벳을 소문자로 변경\n",
    "- 마침표, 컴마, 느낌표 등의 구두점 제거\n"
   ]
  },
  {
   "cell_type": "code",
   "execution_count": 4,
   "metadata": {},
   "outputs": [
    {
     "name": "stdout",
     "output_type": "stream",
     "text": [
      "단어 토큰화3 :  [\"don't\", 'be', 'fooled', 'by', 'the', 'dark', 'sounding', 'name', 'mr', \"jone's\", 'orphanage', 'is', 'as', 'cheery', 'as', 'cheery', 'goes', 'for', 'a', 'pastry', 'shop']\n"
     ]
    }
   ],
   "source": [
    "print(\"단어 토큰화3 : \", text_to_word_sequence(\"Don't be fooled by the dark sounding name, Mr. Jone's Orphanage is as cheery as cheery goes for a pastry shop.\"))"
   ]
  },
  {
   "cell_type": "markdown",
   "metadata": {},
   "source": [
    "## 3. 토큰화에서 고려해야할 사항\n",
    "1. 구두점이나 특수 문자를 단순하게 제외만 해서는 안된다.\n",
    "    - 코퍼스에 대한 정제 작업을 하면, 구두점을 하나의 토큰으로 분류하기도 한다. (ex.) 마침표(.)\n",
    "    - $14.25 , 01/02/22 금액, 날짜에 따라 분류\n",
    "    - 금액이 큰 경우 , 숫자 사이에 컴마(,)가 들어감\n",
    "2. 줄임말과 단어 내에 띄어쓰기가 있는 경우\n",
    "    - 접어(clitic) , we are -> we're\n",
    "    - 하나의 단어 사이에 띄어쓰기가 있는 경우에도 하나의 토큰으로 봐야하는 경우도 있을 수 있음\n",
    "3. 표준 토큰화 예제\n",
    "    - Penn Treebank Tokenization 규칙\n",
    "    - 규칙1. 하이푼으로 구성된 단어는 하나로 유지한다.\n",
    "    - 규칙2. doesn't와 같이 (')로 접어가 함께하는 단어는 분리해준다"
   ]
  },
  {
   "cell_type": "code",
   "execution_count": 5,
   "metadata": {},
   "outputs": [
    {
     "name": "stdout",
     "output_type": "stream",
     "text": [
      "결과 :  ['Starting', 'a', 'home-based', 'restaurant', 'may', 'be', 'an', 'ideal.', 'it', 'does', \"n't\", 'have', 'a', 'food', 'chain', 'or', 'restaurant', 'of', 'their', 'own.', 'ca', \"n't\"]\n"
     ]
    }
   ],
   "source": [
    "from nltk.tokenize import TreebankWordTokenizer\n",
    "\n",
    "tokenizer = TreebankWordTokenizer()\n",
    "\n",
    "text = \"Starting a home-based restaurant may be an ideal. it doesn't have a food chain or restaurant of their own. can't\"\n",
    "print('결과 : ', tokenizer.tokenize(text))"
   ]
  },
  {
   "cell_type": "markdown",
   "metadata": {},
   "source": [
    "## 4. 문장 토큰화(Sentence Tokenization)\n",
    "- 토큰의 단위가 문장일 경우\n",
    "- 문장 분류 (Sentence Segmentation)이라고도 한다.\n",
    "- 예시\n",
    "    - EX1) IP 192.168.56.31 서버에 들어가서 로그 파일 저장해서 aaa@gmail.com로 결과 좀 보내줘. 그 후 점심 먹으러 가자.\n",
    "    - EX2) Since I'm actively looking for Ph.D. students, I get the same question a dozen times every year.\n",
    "        - 마침표 기준으로 할 경우 문장으로 구분이 되지 않는다."
   ]
  },
  {
   "cell_type": "code",
   "execution_count": 6,
   "metadata": {},
   "outputs": [
    {
     "name": "stdout",
     "output_type": "stream",
     "text": [
      "문장 토큰화1 : ['His barber kept his word.', 'But keeping such a huge secret to himself was driving him crazy.', 'Finally, the barber went up a mountain and almost to the edge of a cliff.', 'He dug a hole in the midst of some reeds.', 'He looked about, to make sure no one was near.']\n"
     ]
    }
   ],
   "source": [
    "from nltk.tokenize import sent_tokenize\n",
    "\n",
    "text = \"His barber kept his word. But keeping such a huge secret to himself was driving him crazy. \\\n",
    "    Finally, the barber went up a mountain and almost to the edge of a cliff. \\\n",
    "        He dug a hole in the midst of some reeds. He looked about, to make sure no one was near.\"\n",
    "print('문장 토큰화1 :', sent_tokenize(text))"
   ]
  },
  {
   "cell_type": "code",
   "execution_count": 7,
   "metadata": {},
   "outputs": [
    {
     "name": "stdout",
     "output_type": "stream",
     "text": [
      "문장 토큰화2 : ['I am actively looking for Ph.D. students.', 'and you are a Ph.D student.']\n"
     ]
    }
   ],
   "source": [
    "text = \"I am actively looking for Ph.D. students. and you are a Ph.D student.\"\n",
    "print('문장 토큰화2 :',sent_tokenize(text))"
   ]
  },
  {
   "cell_type": "markdown",
   "metadata": {},
   "source": [
    "NLTK 는 단순히 마침표를 구분자로 하여 문장을 구분하지 않기 때문에, 적절하게 나뉘어진것을 알 수 있다.\n",
    "\n",
    "- 한국어의 경우 KSS 를 주로 활용한다"
   ]
  },
  {
   "cell_type": "code",
   "execution_count": 9,
   "metadata": {},
   "outputs": [
    {
     "name": "stderr",
     "output_type": "stream",
     "text": [
      "[Korean Sentence Splitter]: Initializing Pynori...\n"
     ]
    },
    {
     "name": "stdout",
     "output_type": "stream",
     "text": [
      "한국어 문장 토큰화 : ['딥 러닝 자연어 처리가 재밌다.', '그런데 문제는 영어보다 한국어로 할`~ 때 너무 어렵다. ㅋㅋ.', '해보면 알껄']\n"
     ]
    }
   ],
   "source": [
    "import kss\n",
    "\n",
    "text= '딥 러닝 자연어 처리가 재밌다. 그런데 문제는 영어보다 한국어로 할`~ 때 너무 어렵다. ㅋㅋ. 해보면 알껄'\n",
    "print('한국어 문장 토큰화 :', kss.split_sentences(text))"
   ]
  },
  {
   "cell_type": "markdown",
   "metadata": {},
   "source": [
    "## 5. 한글의 토큰화의 어려움\n",
    "- 영어는 합성어나 줄임말에 대한 예외처리만 한다면 띄어쓰기를 기준으로 하는 토큰화를 수행해도 단어 토큰화가 잘 작동한다.\n",
    "- 한글은 띄어쓰기가 단위가 되는 단위를 '어절'이라고 하는데 이는 한글에서 적용하기 어렵다.\n",
    "    - 교착어(조사,어미 등을 붙여 말을 만드는 언어)의 형태를 가지기 때문\n",
    "    - 교착어의 특성\n",
    "        - 조사 ( 그 -> 그가, 그에게, 그를, 그와 등)  ** 한글에서는 조사를 분리해야 한다.\n",
    "        - 형태소(morpheme) : 가장 작은 말의 단위\n",
    "            - 자립 형태소 : 접사, 어미, 조사와 상관없이 자립하여 사용할 수 있는 형태소\n",
    "                - 그 자체로 단어가 된다. 체언(명사, 대명사, 수사), 수식언(관형사, 부사), 감탄사 등\n",
    "            - 의존 형태소\n",
    "                - 다른 형태소와 결합하여 사용되는 형태소, 접사, 어미, 조사, 어간을 말한다.\n",
    "            - 예시 : [ 에디가 책을 읽었다 ]\n",
    "                - 자립 형태소 : 에디, 책\n",
    "                - 의존 형태소 : -가, -을, 읽-,-었,-다\n"
   ]
  },
  {
   "cell_type": "markdown",
   "metadata": {},
   "source": [
    "## 6. 품사 태깅(Part-of-speech tagging)\n",
    "- 단어는 품사에 따라서 의미가 달라진다.\n",
    "    - 영어 단어 'fly'가 동사='날다', 명사='파리' 라는 의미를 가진다\n",
    "- 즉 단어를 제대로 이해하기 위해서는, 해당 단어가 어떤 품사로 쓰였는지 보는 것이 중요하다.\n",
    "- 그에 따라 토큰화 과정에서 각 단어가 어떤 품사로 쓰였는지 구분하는데, 이 작업을 품사태깅이라고 한다.\n",
    "- 주로 NLTK 와 KoNLPy를 통해 품사 태깅을 한다"
   ]
  },
  {
   "cell_type": "markdown",
   "metadata": {},
   "source": [
    "## 7. NLTK와 KoNLPy로 영어, 한국어 토큰화 실습하기"
   ]
  },
  {
   "cell_type": "code",
   "execution_count": 10,
   "metadata": {},
   "outputs": [
    {
     "name": "stdout",
     "output_type": "stream",
     "text": [
      "단어 토큰화 :  ['I', 'am', 'actively', 'looking', 'for', 'Ph.D.', 'students', '.', 'and', 'you', 'are', 'a', 'Ph.D.', 'student', '.']\n",
      "품사 태깅 :  [('I', 'PRP'), ('am', 'VBP'), ('actively', 'RB'), ('looking', 'VBG'), ('for', 'IN'), ('Ph.D.', 'NNP'), ('students', 'NNS'), ('.', '.'), ('and', 'CC'), ('you', 'PRP'), ('are', 'VBP'), ('a', 'DT'), ('Ph.D.', 'NNP'), ('student', 'NN'), ('.', '.')]\n"
     ]
    }
   ],
   "source": [
    "from nltk.tokenize import word_tokenize\n",
    "from nltk.tag import pos_tag\n",
    "\n",
    "text = \"I am actively looking for Ph.D. students. and you are a Ph.D. student.\"\n",
    "tokenized_sentence = word_tokenize(text)\n",
    "\n",
    "print(\"단어 토큰화 : \", tokenized_sentence)\n",
    "print(\"품사 태깅 : \",pos_tag(tokenized_sentence))"
   ]
  },
  {
   "cell_type": "markdown",
   "metadata": {},
   "source": [
    "- PRP : 인칭 대명사\n",
    "- VBP : 동사\n",
    "- RB : 부사\n",
    "- VBG : 현재부사\n",
    "- IN : 전치사\n",
    "- NNP : 고유 명사\n",
    "- NNS : 복수형 명사\n",
    "- CC : 접속사\n",
    "- DT : 관사"
   ]
  },
  {
   "cell_type": "markdown",
   "metadata": {},
   "source": []
  },
  {
   "cell_type": "code",
   "execution_count": 11,
   "metadata": {},
   "outputs": [
    {
     "name": "stdout",
     "output_type": "stream",
     "text": [
      "Okt 형태소 분석기로 토큰화 해보기\n",
      "OKT 형태소 분석 : ['열심히', '코딩', '한', '당신', ',', '연휴', '에는', '여행', '을', '가봐요']\n",
      "OKT 품사 태깅 : [('열심히', 'Adverb'), ('코딩', 'Noun'), ('한', 'Josa'), ('당신', 'Noun'), (',', 'Punctuation'), ('연휴', 'Noun'), ('에는', 'Josa'), ('여행', 'Noun'), ('을', 'Josa'), ('가봐요', 'Verb')]\n",
      "OKT 명사 추출 :  ['코딩', '당신', '연휴', '여행']\n",
      "코엔엘파이 형태소 분석기로 토큰화하기\n",
      "꼬꼬마 형태소 분석 : ['열심히', '코딩', '하', 'ㄴ', '당신', ',', '연휴', '에', '는', '여행', '을', '가보', '아요']\n",
      "꼬꼬마 품사 태깅 : [('열심히', 'MAG'), ('코딩', 'NNG'), ('하', 'XSV'), ('ㄴ', 'ETD'), ('당신', 'NP'), (',', 'SP'), ('연휴', 'NNG'), ('에', 'JKM'), ('는', 'JX'), ('여행', 'NNG'), ('을', 'JKO'), ('가보', 'VV'), ('아요', 'EFN')]\n",
      "꼬꼬마 명사 추출 :  ['코딩', '당신', '연휴', '여행']\n"
     ]
    }
   ],
   "source": [
    "from konlpy.tag import Okt\n",
    "from konlpy.tag import Kkma\n",
    "\n",
    "okt = Okt()\n",
    "kkma = Kkma()\n",
    "\n",
    "sentence= \"열심히 코딩한 당신, 연휴에는 여행을 가봐요\"\n",
    "print(\"Okt 형태소 분석기로 토큰화 해보기\")\n",
    "print('OKT 형태소 분석 :', okt.morphs(sentence))\n",
    "print('OKT 품사 태깅 :', okt.pos(sentence))\n",
    "print('OKT 명사 추출 : ', okt.nouns(sentence))\n",
    "\n",
    "print('코엔엘파이 형태소 분석기로 토큰화하기')\n",
    "print('꼬꼬마 형태소 분석 :', kkma.morphs(sentence))\n",
    "print('꼬꼬마 품사 태깅 :', kkma.pos(sentence))\n",
    "print('꼬꼬마 명사 추출 : ', kkma.nouns(sentence))\n"
   ]
  },
  {
   "cell_type": "code",
   "execution_count": 12,
   "metadata": {},
   "outputs": [],
   "source": [
    "import pandas"
   ]
  },
  {
   "cell_type": "code",
   "execution_count": 13,
   "metadata": {},
   "outputs": [],
   "source": [
    "import tensorflow"
   ]
  },
  {
   "cell_type": "code",
   "execution_count": null,
   "metadata": {},
   "outputs": [],
   "source": []
  }
 ],
 "metadata": {
  "interpreter": {
   "hash": "44efde2e33098e5281879b64cd3bf1427385a544ac946d20021f5f2e43a109ac"
  },
  "kernelspec": {
   "display_name": "Python 3.9.7 64-bit ('base': conda)",
   "language": "python",
   "name": "python3"
  },
  "language_info": {
   "codemirror_mode": {
    "name": "ipython",
    "version": 3
   },
   "file_extension": ".py",
   "mimetype": "text/x-python",
   "name": "python",
   "nbconvert_exporter": "python",
   "pygments_lexer": "ipython3",
   "version": "3.8.12"
  },
  "orig_nbformat": 4
 },
 "nbformat": 4,
 "nbformat_minor": 2
}
