{
 "cells": [
  {
   "cell_type": "markdown",
   "metadata": {},
   "source": [
    "# 어간 추출(Stemming) & 표제어 추출(Lemmatization)\n",
    "\n",
    "- 코퍼스에 있는 단어 개수 줄이는 방법\n",
    "\n",
    "1. 표제어 추출(Lemmatization)\n",
    "\n",
    "2. 어간 추출(Stemming)"
   ]
  }
 ],
 "metadata": {
  "language_info": {
   "name": "python"
  },
  "orig_nbformat": 4
 },
 "nbformat": 4,
 "nbformat_minor": 2
}
