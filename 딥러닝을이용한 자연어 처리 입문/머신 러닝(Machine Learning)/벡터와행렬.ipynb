{
 "cells": [
  {
   "cell_type": "markdown",
   "metadata": {},
   "source": [
    "# 벡터와 행렬 연산\n"
   ]
  },
  {
   "cell_type": "markdown",
   "metadata": {},
   "source": [
    "소프트맥스 회귀에서는 종속 변수 y의 종류가 3개 이상이 되면서 복잡해지고, 이를 누적하여 인공 신경망이 생긴다.\n",
    "- 사용 데이터와 변수의 개수로부터 행렬의 크기, 텐서의 크기를 산정할 수 있어야 한다"
   ]
  },
  {
   "cell_type": "markdown",
   "metadata": {},
   "source": [
    "## 1. 벡터와 행렬과 텐서\n",
    "- 벡터는 크기와 방향을 가진 양\n",
    "    - 숫자가 나열된 형상, 파이썬에서는 1차원 배열 또는 리스트로 표현한다\n",
    "- 행렬은 행과 열을 가지는 2차원 형상을 가진 구조\n",
    "    - 파이썬에서는 2차원 배열로 표현\n",
    "    - 가로(row), 세로(column)\n",
    "- 텐서는 3차원"
   ]
  },
  {
   "cell_type": "markdown",
   "metadata": {},
   "source": [
    "## 2. 텐서(Tensor)\n",
    "- 인공 신경망의 복잡한 연산을 수행하는 것!"
   ]
  },
  {
   "cell_type": "markdown",
   "metadata": {},
   "source": [
    "#### 1) 0차원 텐서(스칼라)\n",
    "- 스칼라는 하나의 실수값으로 이루어진 데이터\n",
    "- 0D Tensor"
   ]
  },
  {
   "cell_type": "code",
   "execution_count": 4,
   "metadata": {},
   "outputs": [
    {
     "name": "stdout",
     "output_type": "stream",
     "text": [
      " 텐서의 차원 :  0\n",
      " 텐서의 크기(shape) : ()\n"
     ]
    }
   ],
   "source": [
    "import numpy as np\n",
    "d = np.array(5)\n",
    "print(\" 텐서의 차원 : \", d.ndim)\n",
    "print(\" 텐서의 크기(shape) :\", d.shape)"
   ]
  },
  {
   "cell_type": "markdown",
   "metadata": {},
   "source": [
    "#### 2) 1차원 텐서(벡터)\n",
    "- 숫자를 배열한 것\n",
    "- 벡터의 차원과 텐서의 차원은 다름\n",
    "    - 벡터의 차원은 하나의 축에 놓인 원소의 개수\n",
    "    - 텐서의 차원은 축의 개수\n",
    "- 아래 예제에서 4차원 벡터이지만, 1차원 텐서이다\n",
    "- 1D Tensor"
   ]
  },
  {
   "cell_type": "code",
   "execution_count": 5,
   "metadata": {},
   "outputs": [
    {
     "name": "stdout",
     "output_type": "stream",
     "text": [
      "텐서의 차원 :  1\n",
      "텐서의 크기(shape) : (4,)\n"
     ]
    }
   ],
   "source": [
    "d = np.array([1,2,3,4])\n",
    "print(\"텐서의 차원 : \", d.ndim)\n",
    "print(\"텐서의 크기(shape) :\", d.shape)\n"
   ]
  },
  {
   "cell_type": "markdown",
   "metadata": {},
   "source": [
    "#### 3) 2차원 텐서(행렬)\n",
    "- 행과 열이 존재하는 벡터의 배열 -> 행렬(Matrix)\n",
    "- 텐서의 크기 : 각 축을 따라 얼마나 많은 차원이 있는지 나타낸 값\n",
    "- 2D Tensor"
   ]
  },
  {
   "cell_type": "code",
   "execution_count": 7,
   "metadata": {},
   "outputs": [
    {
     "name": "stdout",
     "output_type": "stream",
     "text": [
      "텐서의 차원 :  2\n",
      "텐서의 크기 : (3, 4)\n"
     ]
    }
   ],
   "source": [
    "d = np.array([[1,2,3,4], [5,6,7,8], [9,10,11,12]])\n",
    "print(\"텐서의 차원 : \", d.ndim)\n",
    "print(\"텐서의 크기 :\", d.shape)"
   ]
  },
  {
   "cell_type": "markdown",
   "metadata": {},
   "source": [
    "#### 4) 3차원 텐서(다차원 배열)\n",
    "- 행렬을 한번 더 배열하면 3차원 텐서\n",
    "- 3D Tensor\n",
    "- 시퀀스 데이터를 표현할 떄 자주 사용\n",
    "    - 이때, 시퀀스는 단어의 시퀀스를 의미\n",
    "    - 주로 문장이나 문서, 뉴스 기사 등의 텍스트가 될 수 있다.\n",
    "    - 3D Tensor \n",
    "        - (samples, timesteps, word_dim)\n",
    "        - (batch_size, timesteps, word_dim)\n",
    "        \n"
   ]
  },
  {
   "cell_type": "code",
   "execution_count": 9,
   "metadata": {},
   "outputs": [
    {
     "name": "stdout",
     "output_type": "stream",
     "text": [
      "텐서의 차원 : 3\n",
      "텐서의 크기(shape) : (2, 3, 5)\n"
     ]
    }
   ],
   "source": [
    "d = np.array([\n",
    "            [[1, 2, 3, 4, 5], [6, 7, 8, 9, 10], [10, 11, 12, 13, 14]],\n",
    "            [[15, 16, 17, 18, 19], [19, 20, 21, 22, 23], [23, 24, 25, 26, 27]]\n",
    "            ])\n",
    "print('텐서의 차원 :',d.ndim)\n",
    "print('텐서의 크기(shape) :',d.shape)"
   ]
  },
  {
   "cell_type": "markdown",
   "metadata": {},
   "source": [
    "- 문서1 : I like NLP\n",
    "- 문서2 : I like DL\n",
    "- 문서3 : DL is AI\n",
    "\n",
    "각 단어를 벡터화 해준다.\n",
    "\n",
    "<table>\n",
    "단어\tOne-hot vector<br>\n",
    "I \t[1 0 0 0 0 0]<br>\n",
    "like\t[0 1 0 0 0 0]<br>\n",
    "NLP\t[0 0 1 0 0 0]<br>\n",
    "DL\t[0 0 0 1 0 0]<br>\n",
    "is\t[0 0 0 0 1 0]<br>\n",
    "AI\t[0 0 0 0 0 1]\n",
    "</table>\n",
    "- 위 훈련 데이터를 다수묶어 입력으로 사용하는 것 (batch)\n",
    "\n",
    "\n",
    "[[[1, 0, 0, 0, 0, 0], [0, 1, 0, 0, 0, 0], [0, 0, 1, 0, 0, 0]],\n",
    "\n",
    "\n",
    "[[1, 0, 0, 0, 0, 0], [0, 1, 0, 0, 0, 0], [0, 0, 0, 1, 0, 0]],\n",
    "\n",
    "\n",
    "[[0, 0, 0, 1, 0, 0], [0, 0, 0, 0, 1, 0], [0, 0, 0, 0, 0, 1]]]\n",
    "\n",
    "\n",
    "(3, 3, 6) 의 크기를 가지는 3D Tensor"
   ]
  },
  {
   "cell_type": "markdown",
   "metadata": {},
   "source": [
    "#### 6) 케라스에서의 텐서\n",
    "- input_shape = (batch_size, input_length, input_dim)"
   ]
  },
  {
   "cell_type": "markdown",
   "metadata": {},
   "source": [
    "## 3. 벡터와 행렬의 연산"
   ]
  },
  {
   "cell_type": "markdown",
   "metadata": {},
   "source": [
    "#### 1) 벡터와 행렬의 덧셈과 뺄셈"
   ]
  },
  {
   "cell_type": "code",
   "execution_count": 10,
   "metadata": {},
   "outputs": [
    {
     "name": "stdout",
     "output_type": "stream",
     "text": [
      "두 행렬의 합 :\n",
      "[[15 26 37 48]\n",
      " [51 62 73 84]]\n",
      "두 행렬의 차 :\n",
      "[[ 5 14 23 32]\n",
      " [49 58 67 76]]\n"
     ]
    }
   ],
   "source": [
    "A = np.array([[10, 20, 30, 40], [50, 60, 70, 80]])\n",
    "B = np.array([[5, 6, 7, 8],[1, 2, 3, 4]])\n",
    "print('두 행렬의 합 :')\n",
    "print(A + B)\n",
    "print('두 행렬의 차 :')\n",
    "print(A - B)\n"
   ]
  },
  {
   "cell_type": "code",
   "execution_count": 11,
   "metadata": {},
   "outputs": [
    {
     "name": "stdout",
     "output_type": "stream",
     "text": [
      "두 벡터의 합 : [9 6 8]\n",
      "두 벡터의 차 : [7 2 2]\n"
     ]
    }
   ],
   "source": [
    "A = np.array([8, 4, 5])\n",
    "B = np.array([1, 2, 3])\n",
    "print('두 벡터의 합 :',A+B)\n",
    "print('두 벡터의 차 :',A-B)"
   ]
  },
  {
   "cell_type": "markdown",
   "metadata": {},
   "source": [
    "#### 2) 벡터의 내적과 행렬의 곱셈"
   ]
  },
  {
   "cell_type": "code",
   "execution_count": 12,
   "metadata": {},
   "outputs": [
    {
     "name": "stdout",
     "output_type": "stream",
     "text": [
      "두 벡터의 내적 : 32\n"
     ]
    }
   ],
   "source": [
    "A = np.array([1, 2, 3])\n",
    "B = np.array([4, 5, 6])\n",
    "print('두 벡터의 내적 :',np.dot(A, B))"
   ]
  },
  {
   "cell_type": "code",
   "execution_count": 13,
   "metadata": {},
   "outputs": [
    {
     "name": "stdout",
     "output_type": "stream",
     "text": [
      "두 행렬의 행렬곱 :\n",
      "[[23 31]\n",
      " [34 46]]\n"
     ]
    }
   ],
   "source": [
    "A = np.array([[1, 3],[2, 4]])\n",
    "B = np.array([[5, 7],[6, 8]])\n",
    "print('두 행렬의 행렬곱 :')\n",
    "print(np.matmul(A, B))"
   ]
  },
  {
   "cell_type": "code",
   "execution_count": null,
   "metadata": {},
   "outputs": [],
   "source": []
  }
 ],
 "metadata": {
  "interpreter": {
   "hash": "8459f5eb1ede4b4f9177267bb7d209bb99cbe04fb453024182bbd03c1d314234"
  },
  "kernelspec": {
   "display_name": "Python 3.8.12 64-bit ('py38': conda)",
   "language": "python",
   "name": "python3"
  },
  "language_info": {
   "codemirror_mode": {
    "name": "ipython",
    "version": 3
   },
   "file_extension": ".py",
   "mimetype": "text/x-python",
   "name": "python",
   "nbconvert_exporter": "python",
   "pygments_lexer": "ipython3",
   "version": "3.8.12"
  },
  "orig_nbformat": 4
 },
 "nbformat": 4,
 "nbformat_minor": 2
}
