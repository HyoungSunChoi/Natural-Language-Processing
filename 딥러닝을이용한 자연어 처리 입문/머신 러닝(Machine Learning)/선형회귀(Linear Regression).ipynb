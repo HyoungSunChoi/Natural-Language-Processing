{
 "cells": [
  {
   "cell_type": "markdown",
   "metadata": {},
   "source": [
    "# 선형 회귀(Linear Regression)"
   ]
  },
  {
   "cell_type": "markdown",
   "metadata": {},
   "source": [
    "### 1. 단순 선형 회귀 분석(Simple Linear Regression Analysis)\n",
    "$ y = wx+b $\n",
    "- w, b 의 값에 따라 직선이 달라짐\n",
    "- 독립 변수 x 가 1개인 경우"
   ]
  },
  {
   "cell_type": "markdown",
   "metadata": {},
   "source": [
    "### 2. 다중 선형 회귀 분석(Multiple Linear Regression Analysis)\n",
    "$ y=w_1x_1 + w_2x_2 + \\dots + w_nx_n + b $\n",
    "- 독립 변수가 많음\n",
    "- y가 다양한 x 에 따라 값이 달라짐"
   ]
  },
  {
   "cell_type": "markdown",
   "metadata": {},
   "source": [
    "## 3. 비용 함수 (Cost function) : 평균 제곱 오차 (MSE)\n",
    "- 최적의 w, b 를 찾는 것이 목표\n",
    "- 목적 함수(Objective Function) / 비용 함수(Cost Function) / 손실 함수(Loss Function)\n",
    "    - 실제값과 예측값에 대한 오차에 대한 식\n",
    "- 회귀 문제의 경우 주로 평균 제곱 오차(MSE) 를 활용한다."
   ]
  },
  {
   "cell_type": "markdown",
   "metadata": {},
   "source": []
  }
 ],
 "metadata": {
  "language_info": {
   "name": "python"
  },
  "orig_nbformat": 4
 },
 "nbformat": 4,
 "nbformat_minor": 2
}
