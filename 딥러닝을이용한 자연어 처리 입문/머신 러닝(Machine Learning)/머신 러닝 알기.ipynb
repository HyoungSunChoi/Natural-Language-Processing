{
 "cells": [
  {
   "cell_type": "markdown",
   "metadata": {},
   "source": [
    "## 1. 머신 러닝 모델의 평가"
   ]
  },
  {
   "cell_type": "markdown",
   "metadata": {},
   "source": [
    "![](2022-01-25-00-09-55.png)"
   ]
  },
  {
   "cell_type": "markdown",
   "metadata": {},
   "source": [
    "데이터셋을 훈련 / 검증/ 테스트 , 3가지로 분리해준다.\n",
    "\n",
    "- 훈련 데이터\n",
    "    - 머신 러닝 모델을 학습시키는 용도\n",
    "- 테스트 데이터\n",
    "    - 학습한 모델의 성능을 평가하기 위한 용도\n",
    "- 검증용 데이터\n",
    "    - 모델의 성능을 조정하기 위한 용도\n",
    "    - 모델의 과적합 여부, 하이퍼파라미터의 조정을 위한 용도\n",
    "    - 모델이 검증용 데이터를 사용하여 정확도를 검증하며, 하이퍼파라미터를 튜닝한다."
   ]
  },
  {
   "cell_type": "markdown",
   "metadata": {},
   "source": [
    "- 하이퍼파라미터(초매개변수) \n",
    "    - 모델의 성능에 영향을 주는 사람이 값을 지정하는 변수\n",
    "    - Learning Raste, Neuron, Layer\n",
    "- 매개변수\n",
    "    - 가중치와 편향, 학습을 하는 동안 값이 계속해서 변하는 수\n",
    "    "
   ]
  },
  {
   "cell_type": "markdown",
   "metadata": {},
   "source": [
    "## 2. 분류(Classification)와 회귀(Regression)"
   ]
  },
  {
   "cell_type": "markdown",
   "metadata": {},
   "source": [
    "- 이진 분류(Binary Classification)\n",
    "- 다중 분류(Multi-class Classification)\n",
    "    - 주어진 이볅에 대하여 3개 이상의 선택지 중 답을 선택하는 것ㅋ\n",
    "    "
   ]
  },
  {
   "cell_type": "markdown",
   "metadata": {},
   "source": [
    "- 회귀 문제(Regression)\n",
    "    - 연속적인 값의 범위 내에서 예측값이 나오는 경우"
   ]
  },
  {
   "cell_type": "markdown",
   "metadata": {},
   "source": [
    "## 3. 지도학습과 비지도 학습\n",
    "\n",
    "1. 지도 학습 (Supervised Learning)\n",
    "    - 레이블 ( 정답) 과 함꼐 학습되는 것\n",
    "    - 자연어 처리\n",
    "\n",
    "2. 비지도 학습 (Unsupervised Learning)\n",
    "    - 레이블이 없는 학습\n",
    "    - 텍스트 처리 분야에서 ,, 토픽 모델링 알고리즘인 LSA, LDA\n",
    "        - 텍스트 본문의 숨겨진 의미 구조를 발견하기 위해 사용되는 텍스트 마이닝 기법\n",
    "\n",
    "3. 자기 지도 학습 (Self-Supervised Learning)\n",
    "    - 스스로 데이터로부터 레이블을 만들어 학습하는 경우\n",
    "    - Word2Vec, BERT\n"
   ]
  },
  {
   "cell_type": "markdown",
   "metadata": {},
   "source": [
    "## 4. 혼동 행렬 (Confusion Matrix)\n",
    "머신 러닝에서는 다음과 같은 네 가지 케이스에 대해서 각각 TP, FP, FN, TN을 정의합니다.\n",
    "\n",
    "- True Positive(TP) : 실제 True인 정답을 True라고 예측 (정답)\n",
    "- False Positive(FP) : 실제 False인 정답을 True라고 예측 (오답)\n",
    "- False Negative(FN) : 실제 True인 정답을 False라고 예측 (오답)\n",
    "- True Negative(TN) : 실제 False인 정답을 False라고 예측 (정답)\n",
    "이 개념을 사용하면 정밀도(Precision)과 재현율(Recall)이 됩니다.\n",
    "\n",
    "1. 정밀도(Precision)\n",
    "\n",
    "    - 정밀도란 모델이 True라고 분류한 것 중에서 실제 True인 것의 비율입니다.\n",
    "\n",
    "$$ 정밀도 = \\frac{TP}{TP+FP}$$\n",
    "\n",
    "2. 재현율(Recall)\n",
    "\n",
    "    - 재현율이란 실제 True인 것 중에서 모델이 True라고 예측한 것의 비율입니다.\n",
    "\n",
    "$$ 재현율 = \\frac{TP}{TP+FN}$$\n",
    "\n",
    "- Precision이나 Recall은 모두 실제 True인 정답을 모델이 True라고 예측한 경우. 즉, TP에 관심이 있습니다. 두 식 모두 분자가 TP임에 주목합시다.\n",
    "\n",
    "3. 정확도(Accuracy)\n",
    "\n",
    "    - 정확도(Accuracy)는 우리가 일반적으로 실생활에서도 가장 많이 사용하는 지표입니다. 전체 예측한 데이터 중에서 정답을 맞춘 것에 대한 비율입니다. TP, FP, FN, TN을 가지고 수식을 설명하면 다음과 같습니다.\n",
    "\n",
    "$$ 정확도 =\\frac{TP+TN}{TP+FN+FP+TN} $$\n"
   ]
  },
  {
   "cell_type": "markdown",
   "metadata": {},
   "source": [
    "#### **주의**,, 정확도를 측정하기에 개체수가 너무 적은 경우에는 F1-score 을 활용한다 "
   ]
  },
  {
   "cell_type": "markdown",
   "metadata": {},
   "source": [
    "## 5. 과적합(Overfitting), 과소적합(Underfitting)\n",
    "- epoch가 지나치게 많거나 적으면 발생\n",
    "- 드롭아웃, 조기 종료로 과적합을 막을 수 있음"
   ]
  },
  {
   "cell_type": "markdown",
   "metadata": {},
   "source": []
  }
 ],
 "metadata": {
  "language_info": {
   "name": "python"
  },
  "orig_nbformat": 4
 },
 "nbformat": 4,
 "nbformat_minor": 2
}
