{
 "cells": [
  {
   "cell_type": "markdown",
   "metadata": {},
   "source": [
    "# 임베딩 벡터의 시각화\n"
   ]
  },
  {
   "cell_type": "markdown",
   "metadata": {},
   "source": [
    "#### 1. 워드 임베딩 모델로부터 2개의 tsv 파일 생성하기\n",
    "- 학습한 임베딩 벡터 시각화하는 방법\n",
    "- !python -m gensim.scripts.word2vec2tensor --input 모델이름 --output 모델이름"
   ]
  },
  {
   "cell_type": "code",
   "execution_count": 1,
   "metadata": {},
   "outputs": [
    {
     "name": "stderr",
     "output_type": "stream",
     "text": [
      "Traceback (most recent call last):\n",
      "  File \"C:\\Users\\CTLAB\\anaconda3\\envs\\py38_NLP\\lib\\runpy.py\", line 185, in _run_module_as_main\n",
      "    mod_name, mod_spec, code = _get_module_details(mod_name, _Error)\n",
      "  File \"C:\\Users\\CTLAB\\anaconda3\\envs\\py38_NLP\\lib\\runpy.py\", line 111, in _get_module_details\n",
      "    __import__(pkg_name)\n",
      "  File \"C:\\Users\\CTLAB\\anaconda3\\envs\\py38_NLP\\lib\\site-packages\\gensim\\__init__.py\", line 11, in <module>\n",
      "    from gensim import parsing, corpora, matutils, interfaces, models, similarities, utils  # noqa:F401\n",
      "  File \"C:\\Users\\CTLAB\\anaconda3\\envs\\py38_NLP\\lib\\site-packages\\gensim\\corpora\\__init__.py\", line 6, in <module>\n",
      "    from .indexedcorpus import IndexedCorpus  # noqa:F401 must appear before the other classes\n",
      "  File \"C:\\Users\\CTLAB\\anaconda3\\envs\\py38_NLP\\lib\\site-packages\\gensim\\corpora\\indexedcorpus.py\", line 14, in <module>\n",
      "    from gensim import interfaces, utils\n",
      "  File \"C:\\Users\\CTLAB\\anaconda3\\envs\\py38_NLP\\lib\\site-packages\\gensim\\interfaces.py\", line 19, in <module>\n",
      "    from gensim import utils, matutils\n",
      "  File \"C:\\Users\\CTLAB\\anaconda3\\envs\\py38_NLP\\lib\\site-packages\\gensim\\matutils.py\", line 1024, in <module>\n",
      "    from gensim._matutils import logsumexp, mean_absolute_difference, dirichlet_expectation\n",
      "  File \"gensim/_matutils.pyx\", line 1, in init gensim._matutils\n",
      "    #!/usr/bin/env cython\n",
      "ValueError: numpy.ndarray size changed, may indicate binary incompatibility. Expected 88 from C header, got 80 from PyObject\n"
     ]
    }
   ],
   "source": [
    "!python -m gensim.scripts.word2vec2tensor --input eng_w2v --output eng_w2v"
   ]
  },
  {
   "cell_type": "markdown",
   "metadata": {},
   "source": [
    "링크 : https://projector.tensorflow.org/"
   ]
  },
  {
   "cell_type": "code",
   "execution_count": null,
   "metadata": {},
   "outputs": [],
   "source": []
  }
 ],
 "metadata": {
  "interpreter": {
   "hash": "a867a277ecf2af885ec9568148caf8a8507793bb561c75f760acfb1c32ff6b3d"
  },
  "kernelspec": {
   "display_name": "Python 3.8.12 ('py38_NLP')",
   "language": "python",
   "name": "python3"
  },
  "language_info": {
   "codemirror_mode": {
    "name": "ipython",
    "version": 3
   },
   "file_extension": ".py",
   "mimetype": "text/x-python",
   "name": "python",
   "nbconvert_exporter": "python",
   "pygments_lexer": "ipython3",
   "version": "3.8.12"
  },
  "orig_nbformat": 4
 },
 "nbformat": 4,
 "nbformat_minor": 2
}
