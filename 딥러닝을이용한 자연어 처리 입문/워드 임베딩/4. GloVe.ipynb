{
 "cells": [
  {
   "cell_type": "markdown",
   "metadata": {},
   "source": [
    "# 글로브(GloVe)\n",
    "- 카운트 기반 & 예측 기반 모두 사용"
   ]
  },
  {
   "cell_type": "markdown",
   "metadata": {},
   "source": [
    "#### 1. 기존 방법론에 대한 비판\n",
    "- LSA는 DTM 이나 TF-IDF 행렬과 같이 전체적 통계 정보를 입력받아 잠재된 의미를 끌어낸다\n",
    "    - 왕:남자 = 여왕:? 같은 유추 작업에 성능이 떨어진다.\n",
    "- Word2Vec은 실제값과 예측값에 대한 오차를 손실 함수를 통해 줄여나가며 학습하는 예측 기반의 방법론\n",
    "    - 유추 작업에는 적절하지만, 윈도우 크기 내에서만 반영하기 때문에 코퍼스 전체적인 통계 정보를 반영하기에는 어렵다.\n",
    "\n",
    "#### 2. 윈도우 기반 동시 등장 행렬(Window based Co-occurence Matrix)\n",
    "- 윈도우 크기가 N 일때, 좌/우에 존재하는 N개의 단어만 참고\n",
    "\n",
    "#### 3. 동시 등장 확률(Co-occurence Probability)\n",
    "- 동시 등장 확률 $P(k|i)$ \n",
    "    - 동시 등장 행렬로부터 특정 단어 i의 전체 등장 횟수를 카운트하고\n",
    "    - 특정 단어 i가 등장했을 때, 어떤 단어 k가 등장한 횟수를 카운트하는 조건부 확률\n"
   ]
  },
  {
   "cell_type": "markdown",
   "metadata": {},
   "source": [
    "#### 4. 손실함수\n",
    "- $X$ : 동시 등장 행렬(Co-occurrence Matrix)\n",
    "- $X_{ij}$ : 중심 단어 i가 등장 했을 때, 윈도우 내에 j가 등장하는 횟수\n",
    "- $X_{i} : \\sum_j X_{ij}$ : 동시 등장 행렬에서 i 행의 값을 모두 더한 값\n",
    "- $P(k\\ |\\ i)$ : 중심 단어 i가 등장했을 때, 윈도우 내 k가 등장할 확률\n",
    "    - P(solid | ice ) = 단어 ice가 등장했을 때, solid가 등장할 확률\n",
    "- $w_i$ : 중심 단어 i의 임베딩 벡터\n",
    "- $\\tilde{w_{k}}$ : 주변 단어 k의 임베딩 벡터\n",
    "\n",
    "$$ Loss\\ function = \\sum_{m, n=1}^{V}\\ (w_{m}^{T}\\tilde{w_{n}} + b_{m} + \\tilde{b_{n}} - logX_{mn})^{2} $$"
   ]
  },
  {
   "cell_type": "markdown",
   "metadata": {},
   "source": [
    "#### GloVe의 아이디어\n",
    "- 임베딩 된 중심 단어와 주변 단어 벡터의 내적이 전체 코퍼스에서의 동시 등장 확률이 되는 것.\n"
   ]
  },
  {
   "cell_type": "code",
   "execution_count": null,
   "metadata": {},
   "outputs": [],
   "source": []
  }
 ],
 "metadata": {
  "interpreter": {
   "hash": "8459f5eb1ede4b4f9177267bb7d209bb99cbe04fb453024182bbd03c1d314234"
  },
  "kernelspec": {
   "display_name": "Python 3.8.12 ('py38')",
   "language": "python",
   "name": "python3"
  },
  "language_info": {
   "codemirror_mode": {
    "name": "ipython",
    "version": 3
   },
   "file_extension": ".py",
   "mimetype": "text/x-python",
   "name": "python",
   "nbconvert_exporter": "python",
   "pygments_lexer": "ipython3",
   "version": "3.8.12"
  },
  "orig_nbformat": 4
 },
 "nbformat": 4,
 "nbformat_minor": 2
}
