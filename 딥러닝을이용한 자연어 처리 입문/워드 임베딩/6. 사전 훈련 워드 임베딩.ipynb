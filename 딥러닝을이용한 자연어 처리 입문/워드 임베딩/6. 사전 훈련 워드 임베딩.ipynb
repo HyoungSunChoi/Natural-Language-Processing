{
 "cells": [
  {
   "cell_type": "markdown",
   "metadata": {},
   "source": [
    "# 사전 훈련된 워드 임베딩"
   ]
  },
  {
   "cell_type": "markdown",
   "metadata": {},
   "source": [
    "#### 1. 케라스 임베딩 층\n",
    "- 1) 임베딩 층은 룩업 테이블\n",
    "    - 임베딩 층의 입력으로 쓰이기 위해서는 각 단어를 정수 인코딩 해야함\n",
    "    - 단어 A -> 단어에 부여된 고유한 정수값 부여 -> 임베딩 층 통과 -> 밀집벡터\n",
    "    - 임베딩 층은 입력 정수에 대해 밀집 벡터로 맵핑, \n",
    "        - 이때 , 각 단어는 고유한 임베딩 벡터를 가진다\n",
    "        ![](https://wikidocs.net/images/page/33793/lookup_table.PNG)\n",
    "        - 위 그림은 단어 great이 정수 인코딩 된 후, 테이블로부터 해당 인덱스에 위치한 임베딩 벡터를 꺼내오는 모습을 보여준다.\n",
    "            - 임베딩 벡터는 모델의 입력이 되고, 역전파 과정에서 단어 great의 임베딩 벡터값이 학습된다.\n",
    "        "
   ]
  },
  {
   "cell_type": "markdown",
   "metadata": {},
   "source": [
    "#### 2. 임베딩 층 사용하기"
   ]
  },
  {
   "cell_type": "code",
   "execution_count": 1,
   "metadata": {},
   "outputs": [],
   "source": [
    "import numpy as np\n",
    "from tensorflow.keras.preprocessing.text import Tokenizer\n",
    "from tensorflow.keras.preprocessing.sequence import pad_sequences\n",
    "\n",
    "sentences = ['nice great best amazing', 'stop lies', 'pitiful nerd', 'excellent work', 'supreme quality', 'bad', 'highly respectable']\n",
    "y_train = [1, 0, 0, 1, 1, 0, 1]"
   ]
  },
  {
   "cell_type": "code",
   "execution_count": 2,
   "metadata": {},
   "outputs": [
    {
     "name": "stdout",
     "output_type": "stream",
     "text": [
      "단어 집합 :  16\n"
     ]
    }
   ],
   "source": [
    "tokenizer = Tokenizer()\n",
    "tokenizer.fit_on_texts(sentences)\n",
    "vocab_size = len(tokenizer.word_index)+1 # 패딩 포함\n",
    "print('단어 집합 : ', vocab_size)"
   ]
  },
  {
   "cell_type": "code",
   "execution_count": 4,
   "metadata": {},
   "outputs": [
    {
     "name": "stdout",
     "output_type": "stream",
     "text": [
      "정수 인코딩 결과 : [[1, 2, 3, 4], [5, 6], [7, 8], [9, 10], [11, 12], [13], [14, 15]]\n",
      "최대 길이 :  4\n"
     ]
    }
   ],
   "source": [
    "# 각 문장에 대하여 정수 인코딩 수행\n",
    "X_encoded = tokenizer.texts_to_sequences(sentences)\n",
    "print(\"정수 인코딩 결과 :\", X_encoded)\n",
    "\n",
    "max_len = max(len(l) for l in X_encoded)\n",
    "print(\"최대 길이 : \", max_len)"
   ]
  },
  {
   "cell_type": "code",
   "execution_count": 5,
   "metadata": {},
   "outputs": [
    {
     "name": "stdout",
     "output_type": "stream",
     "text": [
      "패딩 결과 :\n",
      "[[ 1  2  3  4]\n",
      " [ 5  6  0  0]\n",
      " [ 7  8  0  0]\n",
      " [ 9 10  0  0]\n",
      " [11 12  0  0]\n",
      " [13  0  0  0]\n",
      " [14 15  0  0]]\n"
     ]
    }
   ],
   "source": [
    "# 모든 샘플을 최대 길이에 대하여 패딩 진행\n",
    "X_train = pad_sequences(X_encoded, maxlen=max_len, padding='post')\n",
    "y_train = np.array(y_train)\n",
    "print(\"패딩 결과 :\")\n",
    "print(X_train)"
   ]
  },
  {
   "cell_type": "code",
   "execution_count": 6,
   "metadata": {},
   "outputs": [
    {
     "name": "stderr",
     "output_type": "stream",
     "text": [
      "2022-04-25 16:14:29.749310: I tensorflow/core/common_runtime/pluggable_device/pluggable_device_factory.cc:305] Could not identify NUMA node of platform GPU ID 0, defaulting to 0. Your kernel may not have been built with NUMA support.\n",
      "2022-04-25 16:14:29.749459: I tensorflow/core/common_runtime/pluggable_device/pluggable_device_factory.cc:271] Created TensorFlow device (/job:localhost/replica:0/task:0/device:GPU:0 with 0 MB memory) -> physical PluggableDevice (device: 0, name: METAL, pci bus id: <undefined>)\n",
      "2022-04-25 16:14:29.828417: W tensorflow/core/platform/profile_utils/cpu_utils.cc:128] Failed to get CPU frequency: 0 Hz\n"
     ]
    },
    {
     "name": "stdout",
     "output_type": "stream",
     "text": [
      "Metal device set to: Apple M1 Max\n",
      "\n",
      "systemMemory: 32.00 GB\n",
      "maxCacheSize: 10.67 GB\n",
      "\n",
      "Epoch 1/100\n"
     ]
    },
    {
     "name": "stderr",
     "output_type": "stream",
     "text": [
      "2022-04-25 16:14:30.025646: I tensorflow/core/grappler/optimizers/custom_graph_optimizer_registry.cc:112] Plugin optimizer for device_type GPU is enabled.\n"
     ]
    },
    {
     "name": "stdout",
     "output_type": "stream",
     "text": [
      "1/1 - 0s - loss: 0.6883 - acc: 0.7143 - 451ms/epoch - 451ms/step\n",
      "Epoch 2/100\n",
      "1/1 - 0s - loss: 0.6871 - acc: 0.7143 - 10ms/epoch - 10ms/step\n",
      "Epoch 3/100\n",
      "1/1 - 0s - loss: 0.6859 - acc: 0.7143 - 9ms/epoch - 9ms/step\n",
      "Epoch 4/100\n",
      "1/1 - 0s - loss: 0.6846 - acc: 0.8571 - 9ms/epoch - 9ms/step\n",
      "Epoch 5/100\n",
      "1/1 - 0s - loss: 0.6834 - acc: 0.8571 - 9ms/epoch - 9ms/step\n",
      "Epoch 6/100\n",
      "1/1 - 0s - loss: 0.6822 - acc: 0.8571 - 10ms/epoch - 10ms/step\n",
      "Epoch 7/100\n",
      "1/1 - 0s - loss: 0.6809 - acc: 0.8571 - 29ms/epoch - 29ms/step\n",
      "Epoch 8/100\n",
      "1/1 - 0s - loss: 0.6797 - acc: 0.8571 - 9ms/epoch - 9ms/step\n",
      "Epoch 9/100\n",
      "1/1 - 0s - loss: 0.6785 - acc: 0.8571 - 9ms/epoch - 9ms/step\n",
      "Epoch 10/100\n",
      "1/1 - 0s - loss: 0.6772 - acc: 0.8571 - 9ms/epoch - 9ms/step\n",
      "Epoch 11/100\n",
      "1/1 - 0s - loss: 0.6760 - acc: 0.8571 - 9ms/epoch - 9ms/step\n",
      "Epoch 12/100\n",
      "1/1 - 0s - loss: 0.6747 - acc: 1.0000 - 10ms/epoch - 10ms/step\n",
      "Epoch 13/100\n",
      "1/1 - 0s - loss: 0.6735 - acc: 1.0000 - 8ms/epoch - 8ms/step\n",
      "Epoch 14/100\n",
      "1/1 - 0s - loss: 0.6722 - acc: 1.0000 - 9ms/epoch - 9ms/step\n",
      "Epoch 15/100\n",
      "1/1 - 0s - loss: 0.6710 - acc: 1.0000 - 10ms/epoch - 10ms/step\n",
      "Epoch 16/100\n",
      "1/1 - 0s - loss: 0.6697 - acc: 1.0000 - 8ms/epoch - 8ms/step\n",
      "Epoch 17/100\n",
      "1/1 - 0s - loss: 0.6685 - acc: 1.0000 - 8ms/epoch - 8ms/step\n",
      "Epoch 18/100\n",
      "1/1 - 0s - loss: 0.6672 - acc: 1.0000 - 9ms/epoch - 9ms/step\n",
      "Epoch 19/100\n",
      "1/1 - 0s - loss: 0.6659 - acc: 1.0000 - 9ms/epoch - 9ms/step\n",
      "Epoch 20/100\n",
      "1/1 - 0s - loss: 0.6647 - acc: 1.0000 - 9ms/epoch - 9ms/step\n",
      "Epoch 21/100\n",
      "1/1 - 0s - loss: 0.6634 - acc: 1.0000 - 9ms/epoch - 9ms/step\n",
      "Epoch 22/100\n",
      "1/1 - 0s - loss: 0.6621 - acc: 1.0000 - 9ms/epoch - 9ms/step\n",
      "Epoch 23/100\n",
      "1/1 - 0s - loss: 0.6608 - acc: 1.0000 - 8ms/epoch - 8ms/step\n",
      "Epoch 24/100\n",
      "1/1 - 0s - loss: 0.6595 - acc: 1.0000 - 9ms/epoch - 9ms/step\n",
      "Epoch 25/100\n",
      "1/1 - 0s - loss: 0.6582 - acc: 1.0000 - 8ms/epoch - 8ms/step\n",
      "Epoch 26/100\n",
      "1/1 - 0s - loss: 0.6568 - acc: 1.0000 - 8ms/epoch - 8ms/step\n",
      "Epoch 27/100\n",
      "1/1 - 0s - loss: 0.6555 - acc: 1.0000 - 10ms/epoch - 10ms/step\n",
      "Epoch 28/100\n",
      "1/1 - 0s - loss: 0.6542 - acc: 1.0000 - 9ms/epoch - 9ms/step\n",
      "Epoch 29/100\n",
      "1/1 - 0s - loss: 0.6528 - acc: 1.0000 - 9ms/epoch - 9ms/step\n",
      "Epoch 30/100\n",
      "1/1 - 0s - loss: 0.6515 - acc: 1.0000 - 9ms/epoch - 9ms/step\n",
      "Epoch 31/100\n",
      "1/1 - 0s - loss: 0.6501 - acc: 1.0000 - 9ms/epoch - 9ms/step\n",
      "Epoch 32/100\n",
      "1/1 - 0s - loss: 0.6487 - acc: 1.0000 - 9ms/epoch - 9ms/step\n",
      "Epoch 33/100\n",
      "1/1 - 0s - loss: 0.6473 - acc: 1.0000 - 9ms/epoch - 9ms/step\n",
      "Epoch 34/100\n",
      "1/1 - 0s - loss: 0.6459 - acc: 1.0000 - 9ms/epoch - 9ms/step\n",
      "Epoch 35/100\n",
      "1/1 - 0s - loss: 0.6445 - acc: 1.0000 - 9ms/epoch - 9ms/step\n",
      "Epoch 36/100\n",
      "1/1 - 0s - loss: 0.6431 - acc: 1.0000 - 9ms/epoch - 9ms/step\n",
      "Epoch 37/100\n",
      "1/1 - 0s - loss: 0.6417 - acc: 1.0000 - 9ms/epoch - 9ms/step\n",
      "Epoch 38/100\n",
      "1/1 - 0s - loss: 0.6402 - acc: 1.0000 - 9ms/epoch - 9ms/step\n",
      "Epoch 39/100\n",
      "1/1 - 0s - loss: 0.6388 - acc: 1.0000 - 9ms/epoch - 9ms/step\n",
      "Epoch 40/100\n",
      "1/1 - 0s - loss: 0.6373 - acc: 1.0000 - 9ms/epoch - 9ms/step\n",
      "Epoch 41/100\n",
      "1/1 - 0s - loss: 0.6359 - acc: 1.0000 - 9ms/epoch - 9ms/step\n",
      "Epoch 42/100\n",
      "1/1 - 0s - loss: 0.6344 - acc: 1.0000 - 9ms/epoch - 9ms/step\n",
      "Epoch 43/100\n",
      "1/1 - 0s - loss: 0.6329 - acc: 1.0000 - 9ms/epoch - 9ms/step\n",
      "Epoch 44/100\n",
      "1/1 - 0s - loss: 0.6314 - acc: 1.0000 - 9ms/epoch - 9ms/step\n",
      "Epoch 45/100\n",
      "1/1 - 0s - loss: 0.6299 - acc: 1.0000 - 9ms/epoch - 9ms/step\n",
      "Epoch 46/100\n",
      "1/1 - 0s - loss: 0.6283 - acc: 1.0000 - 9ms/epoch - 9ms/step\n",
      "Epoch 47/100\n",
      "1/1 - 0s - loss: 0.6268 - acc: 1.0000 - 9ms/epoch - 9ms/step\n",
      "Epoch 48/100\n",
      "1/1 - 0s - loss: 0.6252 - acc: 1.0000 - 10ms/epoch - 10ms/step\n",
      "Epoch 49/100\n",
      "1/1 - 0s - loss: 0.6237 - acc: 1.0000 - 10ms/epoch - 10ms/step\n",
      "Epoch 50/100\n",
      "1/1 - 0s - loss: 0.6221 - acc: 1.0000 - 9ms/epoch - 9ms/step\n",
      "Epoch 51/100\n",
      "1/1 - 0s - loss: 0.6205 - acc: 1.0000 - 9ms/epoch - 9ms/step\n",
      "Epoch 52/100\n",
      "1/1 - 0s - loss: 0.6189 - acc: 1.0000 - 9ms/epoch - 9ms/step\n",
      "Epoch 53/100\n",
      "1/1 - 0s - loss: 0.6173 - acc: 1.0000 - 9ms/epoch - 9ms/step\n",
      "Epoch 54/100\n",
      "1/1 - 0s - loss: 0.6157 - acc: 1.0000 - 8ms/epoch - 8ms/step\n",
      "Epoch 55/100\n",
      "1/1 - 0s - loss: 0.6141 - acc: 1.0000 - 9ms/epoch - 9ms/step\n",
      "Epoch 56/100\n",
      "1/1 - 0s - loss: 0.6124 - acc: 1.0000 - 9ms/epoch - 9ms/step\n",
      "Epoch 57/100\n",
      "1/1 - 0s - loss: 0.6108 - acc: 1.0000 - 9ms/epoch - 9ms/step\n",
      "Epoch 58/100\n",
      "1/1 - 0s - loss: 0.6091 - acc: 1.0000 - 9ms/epoch - 9ms/step\n",
      "Epoch 59/100\n",
      "1/1 - 0s - loss: 0.6074 - acc: 1.0000 - 9ms/epoch - 9ms/step\n",
      "Epoch 60/100\n",
      "1/1 - 0s - loss: 0.6057 - acc: 1.0000 - 10ms/epoch - 10ms/step\n",
      "Epoch 61/100\n",
      "1/1 - 0s - loss: 0.6040 - acc: 1.0000 - 9ms/epoch - 9ms/step\n",
      "Epoch 62/100\n",
      "1/1 - 0s - loss: 0.6023 - acc: 1.0000 - 9ms/epoch - 9ms/step\n",
      "Epoch 63/100\n",
      "1/1 - 0s - loss: 0.6006 - acc: 1.0000 - 9ms/epoch - 9ms/step\n",
      "Epoch 64/100\n",
      "1/1 - 0s - loss: 0.5988 - acc: 1.0000 - 9ms/epoch - 9ms/step\n",
      "Epoch 65/100\n",
      "1/1 - 0s - loss: 0.5971 - acc: 1.0000 - 9ms/epoch - 9ms/step\n",
      "Epoch 66/100\n",
      "1/1 - 0s - loss: 0.5953 - acc: 1.0000 - 9ms/epoch - 9ms/step\n",
      "Epoch 67/100\n",
      "1/1 - 0s - loss: 0.5936 - acc: 1.0000 - 8ms/epoch - 8ms/step\n",
      "Epoch 68/100\n",
      "1/1 - 0s - loss: 0.5918 - acc: 1.0000 - 10ms/epoch - 10ms/step\n",
      "Epoch 69/100\n",
      "1/1 - 0s - loss: 0.5900 - acc: 1.0000 - 9ms/epoch - 9ms/step\n",
      "Epoch 70/100\n",
      "1/1 - 0s - loss: 0.5882 - acc: 1.0000 - 9ms/epoch - 9ms/step\n",
      "Epoch 71/100\n",
      "1/1 - 0s - loss: 0.5864 - acc: 1.0000 - 9ms/epoch - 9ms/step\n",
      "Epoch 72/100\n",
      "1/1 - 0s - loss: 0.5845 - acc: 1.0000 - 10ms/epoch - 10ms/step\n",
      "Epoch 73/100\n",
      "1/1 - 0s - loss: 0.5827 - acc: 1.0000 - 10ms/epoch - 10ms/step\n",
      "Epoch 74/100\n",
      "1/1 - 0s - loss: 0.5809 - acc: 1.0000 - 9ms/epoch - 9ms/step\n",
      "Epoch 75/100\n",
      "1/1 - 0s - loss: 0.5790 - acc: 1.0000 - 9ms/epoch - 9ms/step\n",
      "Epoch 76/100\n",
      "1/1 - 0s - loss: 0.5771 - acc: 1.0000 - 9ms/epoch - 9ms/step\n",
      "Epoch 77/100\n",
      "1/1 - 0s - loss: 0.5753 - acc: 1.0000 - 9ms/epoch - 9ms/step\n",
      "Epoch 78/100\n",
      "1/1 - 0s - loss: 0.5734 - acc: 1.0000 - 9ms/epoch - 9ms/step\n",
      "Epoch 79/100\n",
      "1/1 - 0s - loss: 0.5715 - acc: 1.0000 - 9ms/epoch - 9ms/step\n",
      "Epoch 80/100\n",
      "1/1 - 0s - loss: 0.5696 - acc: 1.0000 - 9ms/epoch - 9ms/step\n",
      "Epoch 81/100\n",
      "1/1 - 0s - loss: 0.5677 - acc: 1.0000 - 9ms/epoch - 9ms/step\n",
      "Epoch 82/100\n",
      "1/1 - 0s - loss: 0.5658 - acc: 1.0000 - 9ms/epoch - 9ms/step\n",
      "Epoch 83/100\n",
      "1/1 - 0s - loss: 0.5638 - acc: 1.0000 - 9ms/epoch - 9ms/step\n",
      "Epoch 84/100\n",
      "1/1 - 0s - loss: 0.5619 - acc: 1.0000 - 9ms/epoch - 9ms/step\n",
      "Epoch 85/100\n",
      "1/1 - 0s - loss: 0.5599 - acc: 1.0000 - 9ms/epoch - 9ms/step\n",
      "Epoch 86/100\n",
      "1/1 - 0s - loss: 0.5580 - acc: 1.0000 - 10ms/epoch - 10ms/step\n",
      "Epoch 87/100\n",
      "1/1 - 0s - loss: 0.5560 - acc: 1.0000 - 9ms/epoch - 9ms/step\n",
      "Epoch 88/100\n",
      "1/1 - 0s - loss: 0.5540 - acc: 1.0000 - 9ms/epoch - 9ms/step\n",
      "Epoch 89/100\n",
      "1/1 - 0s - loss: 0.5520 - acc: 1.0000 - 9ms/epoch - 9ms/step\n",
      "Epoch 90/100\n",
      "1/1 - 0s - loss: 0.5501 - acc: 1.0000 - 8ms/epoch - 8ms/step\n",
      "Epoch 91/100\n",
      "1/1 - 0s - loss: 0.5481 - acc: 1.0000 - 9ms/epoch - 9ms/step\n",
      "Epoch 92/100\n",
      "1/1 - 0s - loss: 0.5460 - acc: 1.0000 - 9ms/epoch - 9ms/step\n",
      "Epoch 93/100\n",
      "1/1 - 0s - loss: 0.5440 - acc: 1.0000 - 9ms/epoch - 9ms/step\n",
      "Epoch 94/100\n",
      "1/1 - 0s - loss: 0.5420 - acc: 1.0000 - 10ms/epoch - 10ms/step\n",
      "Epoch 95/100\n",
      "1/1 - 0s - loss: 0.5400 - acc: 1.0000 - 9ms/epoch - 9ms/step\n",
      "Epoch 96/100\n",
      "1/1 - 0s - loss: 0.5379 - acc: 1.0000 - 9ms/epoch - 9ms/step\n",
      "Epoch 97/100\n",
      "1/1 - 0s - loss: 0.5359 - acc: 1.0000 - 9ms/epoch - 9ms/step\n",
      "Epoch 98/100\n",
      "1/1 - 0s - loss: 0.5338 - acc: 1.0000 - 9ms/epoch - 9ms/step\n",
      "Epoch 99/100\n",
      "1/1 - 0s - loss: 0.5318 - acc: 1.0000 - 8ms/epoch - 8ms/step\n",
      "Epoch 100/100\n",
      "1/1 - 0s - loss: 0.5297 - acc: 1.0000 - 9ms/epoch - 9ms/step\n"
     ]
    },
    {
     "data": {
      "text/plain": [
       "<keras.callbacks.History at 0x16a8e5910>"
      ]
     },
     "execution_count": 6,
     "metadata": {},
     "output_type": "execute_result"
    }
   ],
   "source": [
    "# 이진 분류 모델 설계\n",
    "from tensorflow.keras.models import Sequential\n",
    "from tensorflow.keras.layers import Embedding,Dense, Flatten\n",
    "embedding_dim = 4\n",
    "model = Sequential()\n",
    "model.add(Embedding(vocab_size, embedding_dim, input_length=max_len))\n",
    "model.add(Flatten())\n",
    "model.add(Dense(1, activation='sigmoid'))\n",
    "model.compile(optimizer='adam', loss='binary_crossentropy', metrics=['acc'])\n",
    "model.fit(X_train, y_train, epochs=100, verbose=2)\n"
   ]
  },
  {
   "cell_type": "markdown",
   "metadata": {},
   "source": [
    "#### 2. 사전 훈련된 워드 임베딩 사용하기\n"
   ]
  },
  {
   "cell_type": "markdown",
   "metadata": {},
   "source": []
  }
 ],
 "metadata": {
  "interpreter": {
   "hash": "8459f5eb1ede4b4f9177267bb7d209bb99cbe04fb453024182bbd03c1d314234"
  },
  "kernelspec": {
   "display_name": "Python 3.8.12 ('py38')",
   "language": "python",
   "name": "python3"
  },
  "language_info": {
   "codemirror_mode": {
    "name": "ipython",
    "version": 3
   },
   "file_extension": ".py",
   "mimetype": "text/x-python",
   "name": "python",
   "nbconvert_exporter": "python",
   "pygments_lexer": "ipython3",
   "version": "3.8.12"
  },
  "orig_nbformat": 4
 },
 "nbformat": 4,
 "nbformat_minor": 2
}
