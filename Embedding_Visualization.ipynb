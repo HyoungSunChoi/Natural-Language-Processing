{
  "nbformat": 4,
  "nbformat_minor": 0,
  "metadata": {
    "colab": {
      "name": "Embedding Visualization.ipynb",
      "provenance": [],
      "collapsed_sections": [],
      "authorship_tag": "ABX9TyN2l33oFfnICsqZ742I0hbp"
    },
    "kernelspec": {
      "name": "python3",
      "display_name": "Python 3"
    },
    "language_info": {
      "name": "python"
    }
  },
  "cells": [
    {
      "cell_type": "markdown",
      "source": [
        "# 구글의 임베딩 프로젝터 (데이터 시각화 도구) 사용\n",
        "\n",
        "\n",
        "## 1. 워드 임베딩 모델로부터 2개의 tsv 파일 생성하기\n",
        "- 시각화를 위해서 모델은 학습이 완료되어 저장되어 있어야 한다\n",
        "  - !python -m gensim.scripts.word2vec2tensor --input 모델이름 --output 모델이름\n",
        "  - !python -m gensim.scripts.word2vec2tensor --input eng_w2v --output_w2v"
      ],
      "metadata": {
        "id": "Mkdngb73a9fy"
      }
    },
    {
      "cell_type": "code",
      "source": [
        "!python -m gensim.scripts.word2vec2tensor --input eng_w2v --output eng_w2v"
      ],
      "metadata": {
        "colab": {
          "base_uri": "https://localhost:8080/"
        },
        "id": "ZqRUYH7Ra6rZ",
        "outputId": "99b29c47-dc2f-457b-ab10-d9331c8bb50d"
      },
      "execution_count": 2,
      "outputs": [
        {
          "output_type": "stream",
          "name": "stdout",
          "text": [
            "2022-02-17 07:06:23,520 - word2vec2tensor - INFO - running /usr/local/lib/python3.7/dist-packages/gensim/scripts/word2vec2tensor.py --input eng_w2v --output eng_w2v\n",
            "2022-02-17 07:06:23,520 - utils_any2vec - INFO - loading projection weights from eng_w2v\n",
            "2022-02-17 07:06:24,802 - utils_any2vec - INFO - loaded (21613, 100) matrix from eng_w2v\n",
            "2022-02-17 07:06:26,525 - word2vec2tensor - INFO - 2D tensor file saved to eng_w2v_tensor.tsv\n",
            "2022-02-17 07:06:26,525 - word2vec2tensor - INFO - Tensor metadata file saved to eng_w2v_metadata.tsv\n",
            "2022-02-17 07:06:26,528 - word2vec2tensor - INFO - finished running word2vec2tensor.py\n"
          ]
        }
      ]
    },
    {
      "cell_type": "markdown",
      "source": [
        "https://projector.tensorflow.org/ 접속하기"
      ],
      "metadata": {
        "id": "hM6sP9uPhaRS"
      }
    },
    {
      "cell_type": "code",
      "source": [
        ""
      ],
      "metadata": {
        "id": "HpPUE_UFhbTo"
      },
      "execution_count": null,
      "outputs": []
    }
  ]
}